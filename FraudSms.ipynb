{
 "cells": [
  {
   "cell_type": "code",
   "execution_count": 2,
   "id": "3c615f2b",
   "metadata": {},
   "outputs": [],
   "source": [
    "import pandas as pd\n",
    "import os \n",
    "import nltk\n",
    "import csv\n",
    "from nltk.tokenize import word_tokenize\n",
    "from nltk.corpus import stopwords\n",
    "from nltk.stem import PorterStemmer\n",
    "from nltk import sent_tokenize, word_tokenize, pos_tag\n",
    "from nltk import NaiveBayesClassifier"
   ]
  },
  {
   "cell_type": "code",
   "execution_count": 3,
   "id": "aa8acad8",
   "metadata": {},
   "outputs": [
    {
     "data": {
      "text/html": [
       "<div>\n",
       "<style scoped>\n",
       "    .dataframe tbody tr th:only-of-type {\n",
       "        vertical-align: middle;\n",
       "    }\n",
       "\n",
       "    .dataframe tbody tr th {\n",
       "        vertical-align: top;\n",
       "    }\n",
       "\n",
       "    .dataframe thead th {\n",
       "        text-align: right;\n",
       "    }\n",
       "</style>\n",
       "<table border=\"1\" class=\"dataframe\">\n",
       "  <thead>\n",
       "    <tr style=\"text-align: right;\">\n",
       "      <th></th>\n",
       "      <th>v1</th>\n",
       "      <th>v2</th>\n",
       "    </tr>\n",
       "  </thead>\n",
       "  <tbody>\n",
       "    <tr>\n",
       "      <th>0</th>\n",
       "      <td>ham</td>\n",
       "      <td>Go until jurong point, crazy.. Available only ...</td>\n",
       "    </tr>\n",
       "    <tr>\n",
       "      <th>1</th>\n",
       "      <td>ham</td>\n",
       "      <td>Ok lar... Joking wif u oni...</td>\n",
       "    </tr>\n",
       "    <tr>\n",
       "      <th>2</th>\n",
       "      <td>spam</td>\n",
       "      <td>Free entry in 2 a wkly comp to win FA Cup fina...</td>\n",
       "    </tr>\n",
       "    <tr>\n",
       "      <th>3</th>\n",
       "      <td>ham</td>\n",
       "      <td>U dun say so early hor... U c already then say...</td>\n",
       "    </tr>\n",
       "    <tr>\n",
       "      <th>4</th>\n",
       "      <td>ham</td>\n",
       "      <td>Nah I don't think he goes to usf, he lives aro...</td>\n",
       "    </tr>\n",
       "  </tbody>\n",
       "</table>\n",
       "</div>"
      ],
      "text/plain": [
       "     v1                                                 v2\n",
       "0   ham  Go until jurong point, crazy.. Available only ...\n",
       "1   ham                      Ok lar... Joking wif u oni...\n",
       "2  spam  Free entry in 2 a wkly comp to win FA Cup fina...\n",
       "3   ham  U dun say so early hor... U c already then say...\n",
       "4   ham  Nah I don't think he goes to usf, he lives aro..."
      ]
     },
     "execution_count": 3,
     "metadata": {},
     "output_type": "execute_result"
    }
   ],
   "source": [
    "df = pd.read_csv(r'C:\\Users\\ADMIN\\OneDrive\\Desktop\\NLP\\spam.csv')\n",
    "df = pd.DataFrame(df, columns= ['v1','v2'])\n",
    "df.head()"
   ]
  },
  {
   "cell_type": "code",
   "execution_count": 4,
   "id": "e1846897",
   "metadata": {},
   "outputs": [],
   "source": [
    "df.columns = ['label', 'text']"
   ]
  },
  {
   "cell_type": "code",
   "execution_count": 5,
   "id": "e0dbf505",
   "metadata": {},
   "outputs": [
    {
     "data": {
      "text/html": [
       "<div>\n",
       "<style scoped>\n",
       "    .dataframe tbody tr th:only-of-type {\n",
       "        vertical-align: middle;\n",
       "    }\n",
       "\n",
       "    .dataframe tbody tr th {\n",
       "        vertical-align: top;\n",
       "    }\n",
       "\n",
       "    .dataframe thead th {\n",
       "        text-align: right;\n",
       "    }\n",
       "</style>\n",
       "<table border=\"1\" class=\"dataframe\">\n",
       "  <thead>\n",
       "    <tr style=\"text-align: right;\">\n",
       "      <th></th>\n",
       "      <th>label</th>\n",
       "      <th>text</th>\n",
       "    </tr>\n",
       "  </thead>\n",
       "  <tbody>\n",
       "    <tr>\n",
       "      <th>0</th>\n",
       "      <td>ham</td>\n",
       "      <td>Go until jurong point, crazy.. Available only ...</td>\n",
       "    </tr>\n",
       "    <tr>\n",
       "      <th>1</th>\n",
       "      <td>ham</td>\n",
       "      <td>Ok lar... Joking wif u oni...</td>\n",
       "    </tr>\n",
       "    <tr>\n",
       "      <th>2</th>\n",
       "      <td>spam</td>\n",
       "      <td>Free entry in 2 a wkly comp to win FA Cup fina...</td>\n",
       "    </tr>\n",
       "    <tr>\n",
       "      <th>3</th>\n",
       "      <td>ham</td>\n",
       "      <td>U dun say so early hor... U c already then say...</td>\n",
       "    </tr>\n",
       "    <tr>\n",
       "      <th>4</th>\n",
       "      <td>ham</td>\n",
       "      <td>Nah I don't think he goes to usf, he lives aro...</td>\n",
       "    </tr>\n",
       "    <tr>\n",
       "      <th>5</th>\n",
       "      <td>spam</td>\n",
       "      <td>FreeMsg Hey there darling it's been 3 week's n...</td>\n",
       "    </tr>\n",
       "    <tr>\n",
       "      <th>6</th>\n",
       "      <td>ham</td>\n",
       "      <td>Even my brother is not like to speak with me. ...</td>\n",
       "    </tr>\n",
       "    <tr>\n",
       "      <th>7</th>\n",
       "      <td>ham</td>\n",
       "      <td>As per your request 'Melle Melle (Oru Minnamin...</td>\n",
       "    </tr>\n",
       "    <tr>\n",
       "      <th>8</th>\n",
       "      <td>spam</td>\n",
       "      <td>WINNER!! As a valued network customer you have...</td>\n",
       "    </tr>\n",
       "    <tr>\n",
       "      <th>9</th>\n",
       "      <td>spam</td>\n",
       "      <td>Had your mobile 11 months or more? U R entitle...</td>\n",
       "    </tr>\n",
       "  </tbody>\n",
       "</table>\n",
       "</div>"
      ],
      "text/plain": [
       "  label                                               text\n",
       "0   ham  Go until jurong point, crazy.. Available only ...\n",
       "1   ham                      Ok lar... Joking wif u oni...\n",
       "2  spam  Free entry in 2 a wkly comp to win FA Cup fina...\n",
       "3   ham  U dun say so early hor... U c already then say...\n",
       "4   ham  Nah I don't think he goes to usf, he lives aro...\n",
       "5  spam  FreeMsg Hey there darling it's been 3 week's n...\n",
       "6   ham  Even my brother is not like to speak with me. ...\n",
       "7   ham  As per your request 'Melle Melle (Oru Minnamin...\n",
       "8  spam  WINNER!! As a valued network customer you have...\n",
       "9  spam  Had your mobile 11 months or more? U R entitle..."
      ]
     },
     "execution_count": 5,
     "metadata": {},
     "output_type": "execute_result"
    }
   ],
   "source": [
    "df.head(10)"
   ]
  },
  {
   "cell_type": "code",
   "execution_count": 6,
   "id": "f74fd815",
   "metadata": {},
   "outputs": [
    {
     "data": {
      "text/html": [
       "<div>\n",
       "<style scoped>\n",
       "    .dataframe tbody tr th:only-of-type {\n",
       "        vertical-align: middle;\n",
       "    }\n",
       "\n",
       "    .dataframe tbody tr th {\n",
       "        vertical-align: top;\n",
       "    }\n",
       "\n",
       "    .dataframe thead th {\n",
       "        text-align: right;\n",
       "    }\n",
       "</style>\n",
       "<table border=\"1\" class=\"dataframe\">\n",
       "  <thead>\n",
       "    <tr style=\"text-align: right;\">\n",
       "      <th></th>\n",
       "      <th>label</th>\n",
       "      <th>text</th>\n",
       "      <th>spam</th>\n",
       "    </tr>\n",
       "  </thead>\n",
       "  <tbody>\n",
       "    <tr>\n",
       "      <th>0</th>\n",
       "      <td>ham</td>\n",
       "      <td>Go until jurong point, crazy.. Available only ...</td>\n",
       "      <td>0</td>\n",
       "    </tr>\n",
       "    <tr>\n",
       "      <th>1</th>\n",
       "      <td>ham</td>\n",
       "      <td>Ok lar... Joking wif u oni...</td>\n",
       "      <td>0</td>\n",
       "    </tr>\n",
       "    <tr>\n",
       "      <th>2</th>\n",
       "      <td>spam</td>\n",
       "      <td>Free entry in 2 a wkly comp to win FA Cup fina...</td>\n",
       "      <td>1</td>\n",
       "    </tr>\n",
       "    <tr>\n",
       "      <th>3</th>\n",
       "      <td>ham</td>\n",
       "      <td>U dun say so early hor... U c already then say...</td>\n",
       "      <td>0</td>\n",
       "    </tr>\n",
       "    <tr>\n",
       "      <th>4</th>\n",
       "      <td>ham</td>\n",
       "      <td>Nah I don't think he goes to usf, he lives aro...</td>\n",
       "      <td>0</td>\n",
       "    </tr>\n",
       "    <tr>\n",
       "      <th>5</th>\n",
       "      <td>spam</td>\n",
       "      <td>FreeMsg Hey there darling it's been 3 week's n...</td>\n",
       "      <td>1</td>\n",
       "    </tr>\n",
       "    <tr>\n",
       "      <th>6</th>\n",
       "      <td>ham</td>\n",
       "      <td>Even my brother is not like to speak with me. ...</td>\n",
       "      <td>0</td>\n",
       "    </tr>\n",
       "    <tr>\n",
       "      <th>7</th>\n",
       "      <td>ham</td>\n",
       "      <td>As per your request 'Melle Melle (Oru Minnamin...</td>\n",
       "      <td>0</td>\n",
       "    </tr>\n",
       "    <tr>\n",
       "      <th>8</th>\n",
       "      <td>spam</td>\n",
       "      <td>WINNER!! As a valued network customer you have...</td>\n",
       "      <td>1</td>\n",
       "    </tr>\n",
       "    <tr>\n",
       "      <th>9</th>\n",
       "      <td>spam</td>\n",
       "      <td>Had your mobile 11 months or more? U R entitle...</td>\n",
       "      <td>1</td>\n",
       "    </tr>\n",
       "    <tr>\n",
       "      <th>10</th>\n",
       "      <td>ham</td>\n",
       "      <td>I'm gonna be home soon and i don't want to tal...</td>\n",
       "      <td>0</td>\n",
       "    </tr>\n",
       "    <tr>\n",
       "      <th>11</th>\n",
       "      <td>spam</td>\n",
       "      <td>SIX chances to win CASH! From 100 to 20,000 po...</td>\n",
       "      <td>1</td>\n",
       "    </tr>\n",
       "    <tr>\n",
       "      <th>12</th>\n",
       "      <td>spam</td>\n",
       "      <td>URGENT! You have won a 1 week FREE membership ...</td>\n",
       "      <td>1</td>\n",
       "    </tr>\n",
       "    <tr>\n",
       "      <th>13</th>\n",
       "      <td>ham</td>\n",
       "      <td>I've been searching for the right words to tha...</td>\n",
       "      <td>0</td>\n",
       "    </tr>\n",
       "    <tr>\n",
       "      <th>14</th>\n",
       "      <td>ham</td>\n",
       "      <td>I HAVE A DATE ON SUNDAY WITH WILL!!</td>\n",
       "      <td>0</td>\n",
       "    </tr>\n",
       "  </tbody>\n",
       "</table>\n",
       "</div>"
      ],
      "text/plain": [
       "   label                                               text  spam\n",
       "0    ham  Go until jurong point, crazy.. Available only ...     0\n",
       "1    ham                      Ok lar... Joking wif u oni...     0\n",
       "2   spam  Free entry in 2 a wkly comp to win FA Cup fina...     1\n",
       "3    ham  U dun say so early hor... U c already then say...     0\n",
       "4    ham  Nah I don't think he goes to usf, he lives aro...     0\n",
       "5   spam  FreeMsg Hey there darling it's been 3 week's n...     1\n",
       "6    ham  Even my brother is not like to speak with me. ...     0\n",
       "7    ham  As per your request 'Melle Melle (Oru Minnamin...     0\n",
       "8   spam  WINNER!! As a valued network customer you have...     1\n",
       "9   spam  Had your mobile 11 months or more? U R entitle...     1\n",
       "10   ham  I'm gonna be home soon and i don't want to tal...     0\n",
       "11  spam  SIX chances to win CASH! From 100 to 20,000 po...     1\n",
       "12  spam  URGENT! You have won a 1 week FREE membership ...     1\n",
       "13   ham  I've been searching for the right words to tha...     0\n",
       "14   ham                I HAVE A DATE ON SUNDAY WITH WILL!!     0"
      ]
     },
     "execution_count": 6,
     "metadata": {},
     "output_type": "execute_result"
    }
   ],
   "source": [
    "df['spam'] = df['label'].map( {'spam': 1, 'ham': 0} ).astype(int)\n",
    "df.head(15)"
   ]
  },
  {
   "cell_type": "code",
   "execution_count": 7,
   "id": "04275f69",
   "metadata": {},
   "outputs": [
    {
     "data": {
      "text/html": [
       "<div>\n",
       "<style scoped>\n",
       "    .dataframe tbody tr th:only-of-type {\n",
       "        vertical-align: middle;\n",
       "    }\n",
       "\n",
       "    .dataframe tbody tr th {\n",
       "        vertical-align: top;\n",
       "    }\n",
       "\n",
       "    .dataframe thead th {\n",
       "        text-align: right;\n",
       "    }\n",
       "</style>\n",
       "<table border=\"1\" class=\"dataframe\">\n",
       "  <thead>\n",
       "    <tr style=\"text-align: right;\">\n",
       "      <th></th>\n",
       "      <th>label</th>\n",
       "      <th>text</th>\n",
       "      <th>spam</th>\n",
       "      <th>length</th>\n",
       "    </tr>\n",
       "  </thead>\n",
       "  <tbody>\n",
       "    <tr>\n",
       "      <th>0</th>\n",
       "      <td>ham</td>\n",
       "      <td>Go until jurong point, crazy.. Available only ...</td>\n",
       "      <td>0</td>\n",
       "      <td>111</td>\n",
       "    </tr>\n",
       "    <tr>\n",
       "      <th>1</th>\n",
       "      <td>ham</td>\n",
       "      <td>Ok lar... Joking wif u oni...</td>\n",
       "      <td>0</td>\n",
       "      <td>29</td>\n",
       "    </tr>\n",
       "    <tr>\n",
       "      <th>2</th>\n",
       "      <td>spam</td>\n",
       "      <td>Free entry in 2 a wkly comp to win FA Cup fina...</td>\n",
       "      <td>1</td>\n",
       "      <td>155</td>\n",
       "    </tr>\n",
       "    <tr>\n",
       "      <th>3</th>\n",
       "      <td>ham</td>\n",
       "      <td>U dun say so early hor... U c already then say...</td>\n",
       "      <td>0</td>\n",
       "      <td>49</td>\n",
       "    </tr>\n",
       "    <tr>\n",
       "      <th>4</th>\n",
       "      <td>ham</td>\n",
       "      <td>Nah I don't think he goes to usf, he lives aro...</td>\n",
       "      <td>0</td>\n",
       "      <td>61</td>\n",
       "    </tr>\n",
       "    <tr>\n",
       "      <th>5</th>\n",
       "      <td>spam</td>\n",
       "      <td>FreeMsg Hey there darling it's been 3 week's n...</td>\n",
       "      <td>1</td>\n",
       "      <td>147</td>\n",
       "    </tr>\n",
       "    <tr>\n",
       "      <th>6</th>\n",
       "      <td>ham</td>\n",
       "      <td>Even my brother is not like to speak with me. ...</td>\n",
       "      <td>0</td>\n",
       "      <td>77</td>\n",
       "    </tr>\n",
       "    <tr>\n",
       "      <th>7</th>\n",
       "      <td>ham</td>\n",
       "      <td>As per your request 'Melle Melle (Oru Minnamin...</td>\n",
       "      <td>0</td>\n",
       "      <td>160</td>\n",
       "    </tr>\n",
       "    <tr>\n",
       "      <th>8</th>\n",
       "      <td>spam</td>\n",
       "      <td>WINNER!! As a valued network customer you have...</td>\n",
       "      <td>1</td>\n",
       "      <td>157</td>\n",
       "    </tr>\n",
       "    <tr>\n",
       "      <th>9</th>\n",
       "      <td>spam</td>\n",
       "      <td>Had your mobile 11 months or more? U R entitle...</td>\n",
       "      <td>1</td>\n",
       "      <td>154</td>\n",
       "    </tr>\n",
       "  </tbody>\n",
       "</table>\n",
       "</div>"
      ],
      "text/plain": [
       "  label                                               text  spam  length\n",
       "0   ham  Go until jurong point, crazy.. Available only ...     0     111\n",
       "1   ham                      Ok lar... Joking wif u oni...     0      29\n",
       "2  spam  Free entry in 2 a wkly comp to win FA Cup fina...     1     155\n",
       "3   ham  U dun say so early hor... U c already then say...     0      49\n",
       "4   ham  Nah I don't think he goes to usf, he lives aro...     0      61\n",
       "5  spam  FreeMsg Hey there darling it's been 3 week's n...     1     147\n",
       "6   ham  Even my brother is not like to speak with me. ...     0      77\n",
       "7   ham  As per your request 'Melle Melle (Oru Minnamin...     0     160\n",
       "8  spam  WINNER!! As a valued network customer you have...     1     157\n",
       "9  spam  Had your mobile 11 months or more? U R entitle...     1     154"
      ]
     },
     "execution_count": 7,
     "metadata": {},
     "output_type": "execute_result"
    }
   ],
   "source": [
    "df['length'] = df['text'].apply(len)\n",
    "df.head(10)"
   ]
  },
  {
   "cell_type": "code",
   "execution_count": 8,
   "id": "16582779",
   "metadata": {},
   "outputs": [
    {
     "data": {
      "text/html": [
       "<div>\n",
       "<style scoped>\n",
       "    .dataframe tbody tr th:only-of-type {\n",
       "        vertical-align: middle;\n",
       "    }\n",
       "\n",
       "    .dataframe tbody tr th {\n",
       "        vertical-align: top;\n",
       "    }\n",
       "\n",
       "    .dataframe thead th {\n",
       "        text-align: right;\n",
       "    }\n",
       "</style>\n",
       "<table border=\"1\" class=\"dataframe\">\n",
       "  <thead>\n",
       "    <tr style=\"text-align: right;\">\n",
       "      <th></th>\n",
       "      <th>label</th>\n",
       "      <th>text</th>\n",
       "      <th>spam</th>\n",
       "      <th>length</th>\n",
       "    </tr>\n",
       "  </thead>\n",
       "  <tbody>\n",
       "    <tr>\n",
       "      <th>0</th>\n",
       "      <td>ham</td>\n",
       "      <td>Go until jurong point, crazy.. Available only ...</td>\n",
       "      <td>0</td>\n",
       "      <td>111</td>\n",
       "    </tr>\n",
       "    <tr>\n",
       "      <th>1</th>\n",
       "      <td>ham</td>\n",
       "      <td>Ok lar... Joking wif u oni...</td>\n",
       "      <td>0</td>\n",
       "      <td>29</td>\n",
       "    </tr>\n",
       "    <tr>\n",
       "      <th>2</th>\n",
       "      <td>spam</td>\n",
       "      <td>Free entry in 2 a wkly comp to win FA Cup fina...</td>\n",
       "      <td>1</td>\n",
       "      <td>155</td>\n",
       "    </tr>\n",
       "    <tr>\n",
       "      <th>3</th>\n",
       "      <td>ham</td>\n",
       "      <td>U dun say so early hor... U c already then say...</td>\n",
       "      <td>0</td>\n",
       "      <td>49</td>\n",
       "    </tr>\n",
       "    <tr>\n",
       "      <th>4</th>\n",
       "      <td>ham</td>\n",
       "      <td>Nah I don't think he goes to usf, he lives aro...</td>\n",
       "      <td>0</td>\n",
       "      <td>61</td>\n",
       "    </tr>\n",
       "    <tr>\n",
       "      <th>5</th>\n",
       "      <td>spam</td>\n",
       "      <td>FreeMsg Hey there darling it's been 3 week's n...</td>\n",
       "      <td>1</td>\n",
       "      <td>147</td>\n",
       "    </tr>\n",
       "    <tr>\n",
       "      <th>6</th>\n",
       "      <td>ham</td>\n",
       "      <td>Even my brother is not like to speak with me. ...</td>\n",
       "      <td>0</td>\n",
       "      <td>77</td>\n",
       "    </tr>\n",
       "    <tr>\n",
       "      <th>7</th>\n",
       "      <td>ham</td>\n",
       "      <td>As per your request 'Melle Melle (Oru Minnamin...</td>\n",
       "      <td>0</td>\n",
       "      <td>160</td>\n",
       "    </tr>\n",
       "    <tr>\n",
       "      <th>8</th>\n",
       "      <td>spam</td>\n",
       "      <td>WINNER!! As a valued network customer you have...</td>\n",
       "      <td>1</td>\n",
       "      <td>157</td>\n",
       "    </tr>\n",
       "    <tr>\n",
       "      <th>9</th>\n",
       "      <td>spam</td>\n",
       "      <td>Had your mobile 11 months or more? U R entitle...</td>\n",
       "      <td>1</td>\n",
       "      <td>154</td>\n",
       "    </tr>\n",
       "  </tbody>\n",
       "</table>\n",
       "</div>"
      ],
      "text/plain": [
       "  label                                               text  spam  length\n",
       "0   ham  Go until jurong point, crazy.. Available only ...     0     111\n",
       "1   ham                      Ok lar... Joking wif u oni...     0      29\n",
       "2  spam  Free entry in 2 a wkly comp to win FA Cup fina...     1     155\n",
       "3   ham  U dun say so early hor... U c already then say...     0      49\n",
       "4   ham  Nah I don't think he goes to usf, he lives aro...     0      61\n",
       "5  spam  FreeMsg Hey there darling it's been 3 week's n...     1     147\n",
       "6   ham  Even my brother is not like to speak with me. ...     0      77\n",
       "7   ham  As per your request 'Melle Melle (Oru Minnamin...     0     160\n",
       "8  spam  WINNER!! As a valued network customer you have...     1     157\n",
       "9  spam  Had your mobile 11 months or more? U R entitle...     1     154"
      ]
     },
     "execution_count": 8,
     "metadata": {},
     "output_type": "execute_result"
    }
   ],
   "source": [
    "df.head(10)"
   ]
  },
  {
   "cell_type": "code",
   "execution_count": 12,
   "id": "e98d19d4",
   "metadata": {},
   "outputs": [],
   "source": [
    "del df['length']\n",
    "del df['spam']"
   ]
  },
  {
   "cell_type": "code",
   "execution_count": 9,
   "id": "21aac971",
   "metadata": {},
   "outputs": [
    {
     "data": {
      "text/html": [
       "<div>\n",
       "<style scoped>\n",
       "    .dataframe tbody tr th:only-of-type {\n",
       "        vertical-align: middle;\n",
       "    }\n",
       "\n",
       "    .dataframe tbody tr th {\n",
       "        vertical-align: top;\n",
       "    }\n",
       "\n",
       "    .dataframe thead th {\n",
       "        text-align: right;\n",
       "    }\n",
       "</style>\n",
       "<table border=\"1\" class=\"dataframe\">\n",
       "  <thead>\n",
       "    <tr style=\"text-align: right;\">\n",
       "      <th></th>\n",
       "      <th>label</th>\n",
       "      <th>text</th>\n",
       "      <th>spam</th>\n",
       "      <th>length</th>\n",
       "    </tr>\n",
       "  </thead>\n",
       "  <tbody>\n",
       "    <tr>\n",
       "      <th>0</th>\n",
       "      <td>ham</td>\n",
       "      <td>Go until jurong point, crazy.. Available only ...</td>\n",
       "      <td>0</td>\n",
       "      <td>111</td>\n",
       "    </tr>\n",
       "    <tr>\n",
       "      <th>1</th>\n",
       "      <td>ham</td>\n",
       "      <td>Ok lar... Joking wif u oni...</td>\n",
       "      <td>0</td>\n",
       "      <td>29</td>\n",
       "    </tr>\n",
       "    <tr>\n",
       "      <th>2</th>\n",
       "      <td>spam</td>\n",
       "      <td>Free entry in 2 a wkly comp to win FA Cup fina...</td>\n",
       "      <td>1</td>\n",
       "      <td>155</td>\n",
       "    </tr>\n",
       "    <tr>\n",
       "      <th>3</th>\n",
       "      <td>ham</td>\n",
       "      <td>U dun say so early hor... U c already then say...</td>\n",
       "      <td>0</td>\n",
       "      <td>49</td>\n",
       "    </tr>\n",
       "    <tr>\n",
       "      <th>4</th>\n",
       "      <td>ham</td>\n",
       "      <td>Nah I don't think he goes to usf, he lives aro...</td>\n",
       "      <td>0</td>\n",
       "      <td>61</td>\n",
       "    </tr>\n",
       "    <tr>\n",
       "      <th>5</th>\n",
       "      <td>spam</td>\n",
       "      <td>FreeMsg Hey there darling it's been 3 week's n...</td>\n",
       "      <td>1</td>\n",
       "      <td>147</td>\n",
       "    </tr>\n",
       "    <tr>\n",
       "      <th>6</th>\n",
       "      <td>ham</td>\n",
       "      <td>Even my brother is not like to speak with me. ...</td>\n",
       "      <td>0</td>\n",
       "      <td>77</td>\n",
       "    </tr>\n",
       "    <tr>\n",
       "      <th>7</th>\n",
       "      <td>ham</td>\n",
       "      <td>As per your request 'Melle Melle (Oru Minnamin...</td>\n",
       "      <td>0</td>\n",
       "      <td>160</td>\n",
       "    </tr>\n",
       "    <tr>\n",
       "      <th>8</th>\n",
       "      <td>spam</td>\n",
       "      <td>WINNER!! As a valued network customer you have...</td>\n",
       "      <td>1</td>\n",
       "      <td>157</td>\n",
       "    </tr>\n",
       "    <tr>\n",
       "      <th>9</th>\n",
       "      <td>spam</td>\n",
       "      <td>Had your mobile 11 months or more? U R entitle...</td>\n",
       "      <td>1</td>\n",
       "      <td>154</td>\n",
       "    </tr>\n",
       "  </tbody>\n",
       "</table>\n",
       "</div>"
      ],
      "text/plain": [
       "  label                                               text  spam  length\n",
       "0   ham  Go until jurong point, crazy.. Available only ...     0     111\n",
       "1   ham                      Ok lar... Joking wif u oni...     0      29\n",
       "2  spam  Free entry in 2 a wkly comp to win FA Cup fina...     1     155\n",
       "3   ham  U dun say so early hor... U c already then say...     0      49\n",
       "4   ham  Nah I don't think he goes to usf, he lives aro...     0      61\n",
       "5  spam  FreeMsg Hey there darling it's been 3 week's n...     1     147\n",
       "6   ham  Even my brother is not like to speak with me. ...     0      77\n",
       "7   ham  As per your request 'Melle Melle (Oru Minnamin...     0     160\n",
       "8  spam  WINNER!! As a valued network customer you have...     1     157\n",
       "9  spam  Had your mobile 11 months or more? U R entitle...     1     154"
      ]
     },
     "execution_count": 9,
     "metadata": {},
     "output_type": "execute_result"
    }
   ],
   "source": [
    "df.head(10)"
   ]
  },
  {
   "cell_type": "code",
   "execution_count": null,
   "id": "769e49ff",
   "metadata": {},
   "outputs": [],
   "source": []
  },
  {
   "cell_type": "code",
   "execution_count": 10,
   "id": "9e96daf3",
   "metadata": {},
   "outputs": [],
   "source": [
    "#Removing Puntuations"
   ]
  },
  {
   "cell_type": "code",
   "execution_count": 11,
   "id": "45b0b979",
   "metadata": {},
   "outputs": [
    {
     "data": {
      "text/plain": [
       "'!\"#$%&\\'()*+,-./:;<=>?@[\\\\]^_`{|}~'"
      ]
     },
     "execution_count": 11,
     "metadata": {},
     "output_type": "execute_result"
    }
   ],
   "source": [
    "import string \n",
    "string.punctuation"
   ]
  },
  {
   "cell_type": "code",
   "execution_count": 12,
   "id": "9369fc98",
   "metadata": {},
   "outputs": [],
   "source": [
    "def rm_punc(text):\n",
    "    new_text = ''.join([char for char in text if char not in string.punctuation])\n",
    "    return new_text"
   ]
  },
  {
   "cell_type": "code",
   "execution_count": 13,
   "id": "d4330d31",
   "metadata": {},
   "outputs": [],
   "source": [
    "df['no_punc'] = df['text'].apply(lambda row : rm_punc(row))"
   ]
  },
  {
   "cell_type": "code",
   "execution_count": 14,
   "id": "9765bd40",
   "metadata": {},
   "outputs": [
    {
     "data": {
      "text/html": [
       "<div>\n",
       "<style scoped>\n",
       "    .dataframe tbody tr th:only-of-type {\n",
       "        vertical-align: middle;\n",
       "    }\n",
       "\n",
       "    .dataframe tbody tr th {\n",
       "        vertical-align: top;\n",
       "    }\n",
       "\n",
       "    .dataframe thead th {\n",
       "        text-align: right;\n",
       "    }\n",
       "</style>\n",
       "<table border=\"1\" class=\"dataframe\">\n",
       "  <thead>\n",
       "    <tr style=\"text-align: right;\">\n",
       "      <th></th>\n",
       "      <th>label</th>\n",
       "      <th>text</th>\n",
       "      <th>spam</th>\n",
       "      <th>length</th>\n",
       "      <th>no_punc</th>\n",
       "    </tr>\n",
       "  </thead>\n",
       "  <tbody>\n",
       "    <tr>\n",
       "      <th>0</th>\n",
       "      <td>ham</td>\n",
       "      <td>Go until jurong point, crazy.. Available only ...</td>\n",
       "      <td>0</td>\n",
       "      <td>111</td>\n",
       "      <td>Go until jurong point crazy Available only in ...</td>\n",
       "    </tr>\n",
       "    <tr>\n",
       "      <th>1</th>\n",
       "      <td>ham</td>\n",
       "      <td>Ok lar... Joking wif u oni...</td>\n",
       "      <td>0</td>\n",
       "      <td>29</td>\n",
       "      <td>Ok lar Joking wif u oni</td>\n",
       "    </tr>\n",
       "    <tr>\n",
       "      <th>2</th>\n",
       "      <td>spam</td>\n",
       "      <td>Free entry in 2 a wkly comp to win FA Cup fina...</td>\n",
       "      <td>1</td>\n",
       "      <td>155</td>\n",
       "      <td>Free entry in 2 a wkly comp to win FA Cup fina...</td>\n",
       "    </tr>\n",
       "    <tr>\n",
       "      <th>3</th>\n",
       "      <td>ham</td>\n",
       "      <td>U dun say so early hor... U c already then say...</td>\n",
       "      <td>0</td>\n",
       "      <td>49</td>\n",
       "      <td>U dun say so early hor U c already then say</td>\n",
       "    </tr>\n",
       "    <tr>\n",
       "      <th>4</th>\n",
       "      <td>ham</td>\n",
       "      <td>Nah I don't think he goes to usf, he lives aro...</td>\n",
       "      <td>0</td>\n",
       "      <td>61</td>\n",
       "      <td>Nah I dont think he goes to usf he lives aroun...</td>\n",
       "    </tr>\n",
       "    <tr>\n",
       "      <th>5</th>\n",
       "      <td>spam</td>\n",
       "      <td>FreeMsg Hey there darling it's been 3 week's n...</td>\n",
       "      <td>1</td>\n",
       "      <td>147</td>\n",
       "      <td>FreeMsg Hey there darling its been 3 weeks now...</td>\n",
       "    </tr>\n",
       "    <tr>\n",
       "      <th>6</th>\n",
       "      <td>ham</td>\n",
       "      <td>Even my brother is not like to speak with me. ...</td>\n",
       "      <td>0</td>\n",
       "      <td>77</td>\n",
       "      <td>Even my brother is not like to speak with me T...</td>\n",
       "    </tr>\n",
       "    <tr>\n",
       "      <th>7</th>\n",
       "      <td>ham</td>\n",
       "      <td>As per your request 'Melle Melle (Oru Minnamin...</td>\n",
       "      <td>0</td>\n",
       "      <td>160</td>\n",
       "      <td>As per your request Melle Melle Oru Minnaminun...</td>\n",
       "    </tr>\n",
       "    <tr>\n",
       "      <th>8</th>\n",
       "      <td>spam</td>\n",
       "      <td>WINNER!! As a valued network customer you have...</td>\n",
       "      <td>1</td>\n",
       "      <td>157</td>\n",
       "      <td>WINNER As a valued network customer you have b...</td>\n",
       "    </tr>\n",
       "    <tr>\n",
       "      <th>9</th>\n",
       "      <td>spam</td>\n",
       "      <td>Had your mobile 11 months or more? U R entitle...</td>\n",
       "      <td>1</td>\n",
       "      <td>154</td>\n",
       "      <td>Had your mobile 11 months or more U R entitled...</td>\n",
       "    </tr>\n",
       "  </tbody>\n",
       "</table>\n",
       "</div>"
      ],
      "text/plain": [
       "  label                                               text  spam  length  \\\n",
       "0   ham  Go until jurong point, crazy.. Available only ...     0     111   \n",
       "1   ham                      Ok lar... Joking wif u oni...     0      29   \n",
       "2  spam  Free entry in 2 a wkly comp to win FA Cup fina...     1     155   \n",
       "3   ham  U dun say so early hor... U c already then say...     0      49   \n",
       "4   ham  Nah I don't think he goes to usf, he lives aro...     0      61   \n",
       "5  spam  FreeMsg Hey there darling it's been 3 week's n...     1     147   \n",
       "6   ham  Even my brother is not like to speak with me. ...     0      77   \n",
       "7   ham  As per your request 'Melle Melle (Oru Minnamin...     0     160   \n",
       "8  spam  WINNER!! As a valued network customer you have...     1     157   \n",
       "9  spam  Had your mobile 11 months or more? U R entitle...     1     154   \n",
       "\n",
       "                                             no_punc  \n",
       "0  Go until jurong point crazy Available only in ...  \n",
       "1                            Ok lar Joking wif u oni  \n",
       "2  Free entry in 2 a wkly comp to win FA Cup fina...  \n",
       "3        U dun say so early hor U c already then say  \n",
       "4  Nah I dont think he goes to usf he lives aroun...  \n",
       "5  FreeMsg Hey there darling its been 3 weeks now...  \n",
       "6  Even my brother is not like to speak with me T...  \n",
       "7  As per your request Melle Melle Oru Minnaminun...  \n",
       "8  WINNER As a valued network customer you have b...  \n",
       "9  Had your mobile 11 months or more U R entitled...  "
      ]
     },
     "execution_count": 14,
     "metadata": {},
     "output_type": "execute_result"
    }
   ],
   "source": [
    "df.head(10)"
   ]
  },
  {
   "cell_type": "code",
   "execution_count": null,
   "id": "5b009204",
   "metadata": {},
   "outputs": [],
   "source": []
  },
  {
   "cell_type": "code",
   "execution_count": 15,
   "id": "8950a0b7",
   "metadata": {},
   "outputs": [],
   "source": [
    "#TOKENIZATION\n",
    "import re"
   ]
  },
  {
   "cell_type": "code",
   "execution_count": 16,
   "id": "6954c7d0",
   "metadata": {},
   "outputs": [],
   "source": [
    "def tok(text):\n",
    "    tokens = re.split('\\W+',text)\n",
    "    return tokens"
   ]
  },
  {
   "cell_type": "code",
   "execution_count": 17,
   "id": "9b5a584f",
   "metadata": {},
   "outputs": [
    {
     "data": {
      "text/html": [
       "<div>\n",
       "<style scoped>\n",
       "    .dataframe tbody tr th:only-of-type {\n",
       "        vertical-align: middle;\n",
       "    }\n",
       "\n",
       "    .dataframe tbody tr th {\n",
       "        vertical-align: top;\n",
       "    }\n",
       "\n",
       "    .dataframe thead th {\n",
       "        text-align: right;\n",
       "    }\n",
       "</style>\n",
       "<table border=\"1\" class=\"dataframe\">\n",
       "  <thead>\n",
       "    <tr style=\"text-align: right;\">\n",
       "      <th></th>\n",
       "      <th>label</th>\n",
       "      <th>text</th>\n",
       "      <th>spam</th>\n",
       "      <th>length</th>\n",
       "      <th>no_punc</th>\n",
       "      <th>tokenized_text</th>\n",
       "    </tr>\n",
       "  </thead>\n",
       "  <tbody>\n",
       "    <tr>\n",
       "      <th>0</th>\n",
       "      <td>ham</td>\n",
       "      <td>Go until jurong point, crazy.. Available only ...</td>\n",
       "      <td>0</td>\n",
       "      <td>111</td>\n",
       "      <td>Go until jurong point crazy Available only in ...</td>\n",
       "      <td>[go, until, jurong, point, crazy, available, o...</td>\n",
       "    </tr>\n",
       "    <tr>\n",
       "      <th>1</th>\n",
       "      <td>ham</td>\n",
       "      <td>Ok lar... Joking wif u oni...</td>\n",
       "      <td>0</td>\n",
       "      <td>29</td>\n",
       "      <td>Ok lar Joking wif u oni</td>\n",
       "      <td>[ok, lar, joking, wif, u, oni]</td>\n",
       "    </tr>\n",
       "    <tr>\n",
       "      <th>2</th>\n",
       "      <td>spam</td>\n",
       "      <td>Free entry in 2 a wkly comp to win FA Cup fina...</td>\n",
       "      <td>1</td>\n",
       "      <td>155</td>\n",
       "      <td>Free entry in 2 a wkly comp to win FA Cup fina...</td>\n",
       "      <td>[free, entry, in, 2, a, wkly, comp, to, win, f...</td>\n",
       "    </tr>\n",
       "    <tr>\n",
       "      <th>3</th>\n",
       "      <td>ham</td>\n",
       "      <td>U dun say so early hor... U c already then say...</td>\n",
       "      <td>0</td>\n",
       "      <td>49</td>\n",
       "      <td>U dun say so early hor U c already then say</td>\n",
       "      <td>[u, dun, say, so, early, hor, u, c, already, t...</td>\n",
       "    </tr>\n",
       "    <tr>\n",
       "      <th>4</th>\n",
       "      <td>ham</td>\n",
       "      <td>Nah I don't think he goes to usf, he lives aro...</td>\n",
       "      <td>0</td>\n",
       "      <td>61</td>\n",
       "      <td>Nah I dont think he goes to usf he lives aroun...</td>\n",
       "      <td>[nah, i, dont, think, he, goes, to, usf, he, l...</td>\n",
       "    </tr>\n",
       "    <tr>\n",
       "      <th>5</th>\n",
       "      <td>spam</td>\n",
       "      <td>FreeMsg Hey there darling it's been 3 week's n...</td>\n",
       "      <td>1</td>\n",
       "      <td>147</td>\n",
       "      <td>FreeMsg Hey there darling its been 3 weeks now...</td>\n",
       "      <td>[freemsg, hey, there, darling, its, been, 3, w...</td>\n",
       "    </tr>\n",
       "    <tr>\n",
       "      <th>6</th>\n",
       "      <td>ham</td>\n",
       "      <td>Even my brother is not like to speak with me. ...</td>\n",
       "      <td>0</td>\n",
       "      <td>77</td>\n",
       "      <td>Even my brother is not like to speak with me T...</td>\n",
       "      <td>[even, my, brother, is, not, like, to, speak, ...</td>\n",
       "    </tr>\n",
       "    <tr>\n",
       "      <th>7</th>\n",
       "      <td>ham</td>\n",
       "      <td>As per your request 'Melle Melle (Oru Minnamin...</td>\n",
       "      <td>0</td>\n",
       "      <td>160</td>\n",
       "      <td>As per your request Melle Melle Oru Minnaminun...</td>\n",
       "      <td>[as, per, your, request, melle, melle, oru, mi...</td>\n",
       "    </tr>\n",
       "    <tr>\n",
       "      <th>8</th>\n",
       "      <td>spam</td>\n",
       "      <td>WINNER!! As a valued network customer you have...</td>\n",
       "      <td>1</td>\n",
       "      <td>157</td>\n",
       "      <td>WINNER As a valued network customer you have b...</td>\n",
       "      <td>[winner, as, a, valued, network, customer, you...</td>\n",
       "    </tr>\n",
       "    <tr>\n",
       "      <th>9</th>\n",
       "      <td>spam</td>\n",
       "      <td>Had your mobile 11 months or more? U R entitle...</td>\n",
       "      <td>1</td>\n",
       "      <td>154</td>\n",
       "      <td>Had your mobile 11 months or more U R entitled...</td>\n",
       "      <td>[had, your, mobile, 11, months, or, more, u, r...</td>\n",
       "    </tr>\n",
       "  </tbody>\n",
       "</table>\n",
       "</div>"
      ],
      "text/plain": [
       "  label                                               text  spam  length  \\\n",
       "0   ham  Go until jurong point, crazy.. Available only ...     0     111   \n",
       "1   ham                      Ok lar... Joking wif u oni...     0      29   \n",
       "2  spam  Free entry in 2 a wkly comp to win FA Cup fina...     1     155   \n",
       "3   ham  U dun say so early hor... U c already then say...     0      49   \n",
       "4   ham  Nah I don't think he goes to usf, he lives aro...     0      61   \n",
       "5  spam  FreeMsg Hey there darling it's been 3 week's n...     1     147   \n",
       "6   ham  Even my brother is not like to speak with me. ...     0      77   \n",
       "7   ham  As per your request 'Melle Melle (Oru Minnamin...     0     160   \n",
       "8  spam  WINNER!! As a valued network customer you have...     1     157   \n",
       "9  spam  Had your mobile 11 months or more? U R entitle...     1     154   \n",
       "\n",
       "                                             no_punc  \\\n",
       "0  Go until jurong point crazy Available only in ...   \n",
       "1                            Ok lar Joking wif u oni   \n",
       "2  Free entry in 2 a wkly comp to win FA Cup fina...   \n",
       "3        U dun say so early hor U c already then say   \n",
       "4  Nah I dont think he goes to usf he lives aroun...   \n",
       "5  FreeMsg Hey there darling its been 3 weeks now...   \n",
       "6  Even my brother is not like to speak with me T...   \n",
       "7  As per your request Melle Melle Oru Minnaminun...   \n",
       "8  WINNER As a valued network customer you have b...   \n",
       "9  Had your mobile 11 months or more U R entitled...   \n",
       "\n",
       "                                      tokenized_text  \n",
       "0  [go, until, jurong, point, crazy, available, o...  \n",
       "1                     [ok, lar, joking, wif, u, oni]  \n",
       "2  [free, entry, in, 2, a, wkly, comp, to, win, f...  \n",
       "3  [u, dun, say, so, early, hor, u, c, already, t...  \n",
       "4  [nah, i, dont, think, he, goes, to, usf, he, l...  \n",
       "5  [freemsg, hey, there, darling, its, been, 3, w...  \n",
       "6  [even, my, brother, is, not, like, to, speak, ...  \n",
       "7  [as, per, your, request, melle, melle, oru, mi...  \n",
       "8  [winner, as, a, valued, network, customer, you...  \n",
       "9  [had, your, mobile, 11, months, or, more, u, r...  "
      ]
     },
     "execution_count": 17,
     "metadata": {},
     "output_type": "execute_result"
    }
   ],
   "source": [
    "df['tokenized_text'] = df['no_punc'].apply(lambda row: tok(row.lower()))\n",
    "df.head(10)"
   ]
  },
  {
   "cell_type": "code",
   "execution_count": 18,
   "id": "9235c27d",
   "metadata": {},
   "outputs": [],
   "source": [
    "#Removing StopWords"
   ]
  },
  {
   "cell_type": "code",
   "execution_count": 19,
   "id": "67a24284",
   "metadata": {},
   "outputs": [
    {
     "data": {
      "text/plain": [
       "['i', 'me', 'my', 'myself', 'we', 'our', 'ours', 'ourselves', 'you', \"you're\"]"
      ]
     },
     "execution_count": 19,
     "metadata": {},
     "output_type": "execute_result"
    }
   ],
   "source": [
    "stopwords = nltk.corpus.stopwords.words('english')\n",
    "stopwords[:10]"
   ]
  },
  {
   "cell_type": "code",
   "execution_count": 20,
   "id": "e4894cee",
   "metadata": {},
   "outputs": [],
   "source": [
    "def rm_sw(text):\n",
    "    clean_text = [word for word in text if word not in stopwords]\n",
    "    return clean_text"
   ]
  },
  {
   "cell_type": "code",
   "execution_count": 21,
   "id": "38904440",
   "metadata": {},
   "outputs": [
    {
     "data": {
      "text/html": [
       "<div>\n",
       "<style scoped>\n",
       "    .dataframe tbody tr th:only-of-type {\n",
       "        vertical-align: middle;\n",
       "    }\n",
       "\n",
       "    .dataframe tbody tr th {\n",
       "        vertical-align: top;\n",
       "    }\n",
       "\n",
       "    .dataframe thead th {\n",
       "        text-align: right;\n",
       "    }\n",
       "</style>\n",
       "<table border=\"1\" class=\"dataframe\">\n",
       "  <thead>\n",
       "    <tr style=\"text-align: right;\">\n",
       "      <th></th>\n",
       "      <th>label</th>\n",
       "      <th>text</th>\n",
       "      <th>spam</th>\n",
       "      <th>length</th>\n",
       "      <th>no_punc</th>\n",
       "      <th>tokenized_text</th>\n",
       "      <th>clean_text</th>\n",
       "    </tr>\n",
       "  </thead>\n",
       "  <tbody>\n",
       "    <tr>\n",
       "      <th>0</th>\n",
       "      <td>ham</td>\n",
       "      <td>Go until jurong point, crazy.. Available only ...</td>\n",
       "      <td>0</td>\n",
       "      <td>111</td>\n",
       "      <td>Go until jurong point crazy Available only in ...</td>\n",
       "      <td>[go, until, jurong, point, crazy, available, o...</td>\n",
       "      <td>[go, jurong, point, crazy, available, bugis, n...</td>\n",
       "    </tr>\n",
       "    <tr>\n",
       "      <th>1</th>\n",
       "      <td>ham</td>\n",
       "      <td>Ok lar... Joking wif u oni...</td>\n",
       "      <td>0</td>\n",
       "      <td>29</td>\n",
       "      <td>Ok lar Joking wif u oni</td>\n",
       "      <td>[ok, lar, joking, wif, u, oni]</td>\n",
       "      <td>[ok, lar, joking, wif, u, oni]</td>\n",
       "    </tr>\n",
       "    <tr>\n",
       "      <th>2</th>\n",
       "      <td>spam</td>\n",
       "      <td>Free entry in 2 a wkly comp to win FA Cup fina...</td>\n",
       "      <td>1</td>\n",
       "      <td>155</td>\n",
       "      <td>Free entry in 2 a wkly comp to win FA Cup fina...</td>\n",
       "      <td>[free, entry, in, 2, a, wkly, comp, to, win, f...</td>\n",
       "      <td>[free, entry, 2, wkly, comp, win, fa, cup, fin...</td>\n",
       "    </tr>\n",
       "    <tr>\n",
       "      <th>3</th>\n",
       "      <td>ham</td>\n",
       "      <td>U dun say so early hor... U c already then say...</td>\n",
       "      <td>0</td>\n",
       "      <td>49</td>\n",
       "      <td>U dun say so early hor U c already then say</td>\n",
       "      <td>[u, dun, say, so, early, hor, u, c, already, t...</td>\n",
       "      <td>[u, dun, say, early, hor, u, c, already, say]</td>\n",
       "    </tr>\n",
       "    <tr>\n",
       "      <th>4</th>\n",
       "      <td>ham</td>\n",
       "      <td>Nah I don't think he goes to usf, he lives aro...</td>\n",
       "      <td>0</td>\n",
       "      <td>61</td>\n",
       "      <td>Nah I dont think he goes to usf he lives aroun...</td>\n",
       "      <td>[nah, i, dont, think, he, goes, to, usf, he, l...</td>\n",
       "      <td>[nah, dont, think, goes, usf, lives, around, t...</td>\n",
       "    </tr>\n",
       "    <tr>\n",
       "      <th>5</th>\n",
       "      <td>spam</td>\n",
       "      <td>FreeMsg Hey there darling it's been 3 week's n...</td>\n",
       "      <td>1</td>\n",
       "      <td>147</td>\n",
       "      <td>FreeMsg Hey there darling its been 3 weeks now...</td>\n",
       "      <td>[freemsg, hey, there, darling, its, been, 3, w...</td>\n",
       "      <td>[freemsg, hey, darling, 3, weeks, word, back, ...</td>\n",
       "    </tr>\n",
       "    <tr>\n",
       "      <th>6</th>\n",
       "      <td>ham</td>\n",
       "      <td>Even my brother is not like to speak with me. ...</td>\n",
       "      <td>0</td>\n",
       "      <td>77</td>\n",
       "      <td>Even my brother is not like to speak with me T...</td>\n",
       "      <td>[even, my, brother, is, not, like, to, speak, ...</td>\n",
       "      <td>[even, brother, like, speak, treat, like, aids...</td>\n",
       "    </tr>\n",
       "    <tr>\n",
       "      <th>7</th>\n",
       "      <td>ham</td>\n",
       "      <td>As per your request 'Melle Melle (Oru Minnamin...</td>\n",
       "      <td>0</td>\n",
       "      <td>160</td>\n",
       "      <td>As per your request Melle Melle Oru Minnaminun...</td>\n",
       "      <td>[as, per, your, request, melle, melle, oru, mi...</td>\n",
       "      <td>[per, request, melle, melle, oru, minnaminungi...</td>\n",
       "    </tr>\n",
       "    <tr>\n",
       "      <th>8</th>\n",
       "      <td>spam</td>\n",
       "      <td>WINNER!! As a valued network customer you have...</td>\n",
       "      <td>1</td>\n",
       "      <td>157</td>\n",
       "      <td>WINNER As a valued network customer you have b...</td>\n",
       "      <td>[winner, as, a, valued, network, customer, you...</td>\n",
       "      <td>[winner, valued, network, customer, selected, ...</td>\n",
       "    </tr>\n",
       "    <tr>\n",
       "      <th>9</th>\n",
       "      <td>spam</td>\n",
       "      <td>Had your mobile 11 months or more? U R entitle...</td>\n",
       "      <td>1</td>\n",
       "      <td>154</td>\n",
       "      <td>Had your mobile 11 months or more U R entitled...</td>\n",
       "      <td>[had, your, mobile, 11, months, or, more, u, r...</td>\n",
       "      <td>[mobile, 11, months, u, r, entitled, update, l...</td>\n",
       "    </tr>\n",
       "  </tbody>\n",
       "</table>\n",
       "</div>"
      ],
      "text/plain": [
       "  label                                               text  spam  length  \\\n",
       "0   ham  Go until jurong point, crazy.. Available only ...     0     111   \n",
       "1   ham                      Ok lar... Joking wif u oni...     0      29   \n",
       "2  spam  Free entry in 2 a wkly comp to win FA Cup fina...     1     155   \n",
       "3   ham  U dun say so early hor... U c already then say...     0      49   \n",
       "4   ham  Nah I don't think he goes to usf, he lives aro...     0      61   \n",
       "5  spam  FreeMsg Hey there darling it's been 3 week's n...     1     147   \n",
       "6   ham  Even my brother is not like to speak with me. ...     0      77   \n",
       "7   ham  As per your request 'Melle Melle (Oru Minnamin...     0     160   \n",
       "8  spam  WINNER!! As a valued network customer you have...     1     157   \n",
       "9  spam  Had your mobile 11 months or more? U R entitle...     1     154   \n",
       "\n",
       "                                             no_punc  \\\n",
       "0  Go until jurong point crazy Available only in ...   \n",
       "1                            Ok lar Joking wif u oni   \n",
       "2  Free entry in 2 a wkly comp to win FA Cup fina...   \n",
       "3        U dun say so early hor U c already then say   \n",
       "4  Nah I dont think he goes to usf he lives aroun...   \n",
       "5  FreeMsg Hey there darling its been 3 weeks now...   \n",
       "6  Even my brother is not like to speak with me T...   \n",
       "7  As per your request Melle Melle Oru Minnaminun...   \n",
       "8  WINNER As a valued network customer you have b...   \n",
       "9  Had your mobile 11 months or more U R entitled...   \n",
       "\n",
       "                                      tokenized_text  \\\n",
       "0  [go, until, jurong, point, crazy, available, o...   \n",
       "1                     [ok, lar, joking, wif, u, oni]   \n",
       "2  [free, entry, in, 2, a, wkly, comp, to, win, f...   \n",
       "3  [u, dun, say, so, early, hor, u, c, already, t...   \n",
       "4  [nah, i, dont, think, he, goes, to, usf, he, l...   \n",
       "5  [freemsg, hey, there, darling, its, been, 3, w...   \n",
       "6  [even, my, brother, is, not, like, to, speak, ...   \n",
       "7  [as, per, your, request, melle, melle, oru, mi...   \n",
       "8  [winner, as, a, valued, network, customer, you...   \n",
       "9  [had, your, mobile, 11, months, or, more, u, r...   \n",
       "\n",
       "                                          clean_text  \n",
       "0  [go, jurong, point, crazy, available, bugis, n...  \n",
       "1                     [ok, lar, joking, wif, u, oni]  \n",
       "2  [free, entry, 2, wkly, comp, win, fa, cup, fin...  \n",
       "3      [u, dun, say, early, hor, u, c, already, say]  \n",
       "4  [nah, dont, think, goes, usf, lives, around, t...  \n",
       "5  [freemsg, hey, darling, 3, weeks, word, back, ...  \n",
       "6  [even, brother, like, speak, treat, like, aids...  \n",
       "7  [per, request, melle, melle, oru, minnaminungi...  \n",
       "8  [winner, valued, network, customer, selected, ...  \n",
       "9  [mobile, 11, months, u, r, entitled, update, l...  "
      ]
     },
     "execution_count": 21,
     "metadata": {},
     "output_type": "execute_result"
    }
   ],
   "source": [
    "df['clean_text'] = df['tokenized_text'].apply(lambda row : rm_sw(row))\n",
    "df.head(10)"
   ]
  },
  {
   "cell_type": "code",
   "execution_count": 22,
   "id": "27cdf730",
   "metadata": {},
   "outputs": [],
   "source": [
    "ps = nltk.PorterStemmer()"
   ]
  },
  {
   "cell_type": "code",
   "execution_count": 23,
   "id": "d6d6d28d",
   "metadata": {},
   "outputs": [],
   "source": [
    "def stemming(tokenized_text):\n",
    "    stemmed_text = [ps.stem(word) for word in tokenized_text]\n",
    "    return stemmed_text"
   ]
  },
  {
   "cell_type": "code",
   "execution_count": 24,
   "id": "3006b37f",
   "metadata": {},
   "outputs": [
    {
     "data": {
      "text/html": [
       "<div>\n",
       "<style scoped>\n",
       "    .dataframe tbody tr th:only-of-type {\n",
       "        vertical-align: middle;\n",
       "    }\n",
       "\n",
       "    .dataframe tbody tr th {\n",
       "        vertical-align: top;\n",
       "    }\n",
       "\n",
       "    .dataframe thead th {\n",
       "        text-align: right;\n",
       "    }\n",
       "</style>\n",
       "<table border=\"1\" class=\"dataframe\">\n",
       "  <thead>\n",
       "    <tr style=\"text-align: right;\">\n",
       "      <th></th>\n",
       "      <th>text</th>\n",
       "      <th>tokenized_text</th>\n",
       "      <th>stemmed_text</th>\n",
       "    </tr>\n",
       "  </thead>\n",
       "  <tbody>\n",
       "    <tr>\n",
       "      <th>0</th>\n",
       "      <td>Go until jurong point, crazy.. Available only ...</td>\n",
       "      <td>[go, until, jurong, point, crazy, available, o...</td>\n",
       "      <td>[go, jurong, point, crazi, avail, bugi, n, gre...</td>\n",
       "    </tr>\n",
       "    <tr>\n",
       "      <th>1</th>\n",
       "      <td>Ok lar... Joking wif u oni...</td>\n",
       "      <td>[ok, lar, joking, wif, u, oni]</td>\n",
       "      <td>[ok, lar, joke, wif, u, oni]</td>\n",
       "    </tr>\n",
       "    <tr>\n",
       "      <th>2</th>\n",
       "      <td>Free entry in 2 a wkly comp to win FA Cup fina...</td>\n",
       "      <td>[free, entry, in, 2, a, wkly, comp, to, win, f...</td>\n",
       "      <td>[free, entri, 2, wkli, comp, win, fa, cup, fin...</td>\n",
       "    </tr>\n",
       "    <tr>\n",
       "      <th>3</th>\n",
       "      <td>U dun say so early hor... U c already then say...</td>\n",
       "      <td>[u, dun, say, so, early, hor, u, c, already, t...</td>\n",
       "      <td>[u, dun, say, earli, hor, u, c, alreadi, say]</td>\n",
       "    </tr>\n",
       "    <tr>\n",
       "      <th>4</th>\n",
       "      <td>Nah I don't think he goes to usf, he lives aro...</td>\n",
       "      <td>[nah, i, dont, think, he, goes, to, usf, he, l...</td>\n",
       "      <td>[nah, dont, think, goe, usf, live, around, tho...</td>\n",
       "    </tr>\n",
       "  </tbody>\n",
       "</table>\n",
       "</div>"
      ],
      "text/plain": [
       "                                                text  \\\n",
       "0  Go until jurong point, crazy.. Available only ...   \n",
       "1                      Ok lar... Joking wif u oni...   \n",
       "2  Free entry in 2 a wkly comp to win FA Cup fina...   \n",
       "3  U dun say so early hor... U c already then say...   \n",
       "4  Nah I don't think he goes to usf, he lives aro...   \n",
       "\n",
       "                                      tokenized_text  \\\n",
       "0  [go, until, jurong, point, crazy, available, o...   \n",
       "1                     [ok, lar, joking, wif, u, oni]   \n",
       "2  [free, entry, in, 2, a, wkly, comp, to, win, f...   \n",
       "3  [u, dun, say, so, early, hor, u, c, already, t...   \n",
       "4  [nah, i, dont, think, he, goes, to, usf, he, l...   \n",
       "\n",
       "                                        stemmed_text  \n",
       "0  [go, jurong, point, crazi, avail, bugi, n, gre...  \n",
       "1                       [ok, lar, joke, wif, u, oni]  \n",
       "2  [free, entri, 2, wkli, comp, win, fa, cup, fin...  \n",
       "3      [u, dun, say, earli, hor, u, c, alreadi, say]  \n",
       "4  [nah, dont, think, goe, usf, live, around, tho...  "
      ]
     },
     "execution_count": 24,
     "metadata": {},
     "output_type": "execute_result"
    }
   ],
   "source": [
    "df['stemmed_text'] = df.clean_text.apply(lambda row : stemming(row))\n",
    "df[['text','tokenized_text','stemmed_text']].head()"
   ]
  },
  {
   "cell_type": "code",
   "execution_count": null,
   "id": "1f14d021",
   "metadata": {},
   "outputs": [],
   "source": []
  },
  {
   "cell_type": "code",
   "execution_count": 25,
   "id": "5773e8af",
   "metadata": {},
   "outputs": [],
   "source": [
    "def final_text(stemmed_text):\n",
    "    get_final_text = \" \".join([word for word in stemmed_text])\n",
    "    return get_final_text"
   ]
  },
  {
   "cell_type": "code",
   "execution_count": 26,
   "id": "fd516002",
   "metadata": {
    "scrolled": false
   },
   "outputs": [
    {
     "data": {
      "text/html": [
       "<div>\n",
       "<style scoped>\n",
       "    .dataframe tbody tr th:only-of-type {\n",
       "        vertical-align: middle;\n",
       "    }\n",
       "\n",
       "    .dataframe tbody tr th {\n",
       "        vertical-align: top;\n",
       "    }\n",
       "\n",
       "    .dataframe thead th {\n",
       "        text-align: right;\n",
       "    }\n",
       "</style>\n",
       "<table border=\"1\" class=\"dataframe\">\n",
       "  <thead>\n",
       "    <tr style=\"text-align: right;\">\n",
       "      <th></th>\n",
       "      <th>label</th>\n",
       "      <th>text</th>\n",
       "      <th>spam</th>\n",
       "      <th>length</th>\n",
       "      <th>no_punc</th>\n",
       "      <th>tokenized_text</th>\n",
       "      <th>clean_text</th>\n",
       "      <th>stemmed_text</th>\n",
       "      <th>final_text</th>\n",
       "    </tr>\n",
       "  </thead>\n",
       "  <tbody>\n",
       "    <tr>\n",
       "      <th>0</th>\n",
       "      <td>ham</td>\n",
       "      <td>Go until jurong point, crazy.. Available only ...</td>\n",
       "      <td>0</td>\n",
       "      <td>111</td>\n",
       "      <td>Go until jurong point crazy Available only in ...</td>\n",
       "      <td>[go, until, jurong, point, crazy, available, o...</td>\n",
       "      <td>[go, jurong, point, crazy, available, bugis, n...</td>\n",
       "      <td>[go, jurong, point, crazi, avail, bugi, n, gre...</td>\n",
       "      <td>go jurong point crazi avail bugi n great world...</td>\n",
       "    </tr>\n",
       "    <tr>\n",
       "      <th>1</th>\n",
       "      <td>ham</td>\n",
       "      <td>Ok lar... Joking wif u oni...</td>\n",
       "      <td>0</td>\n",
       "      <td>29</td>\n",
       "      <td>Ok lar Joking wif u oni</td>\n",
       "      <td>[ok, lar, joking, wif, u, oni]</td>\n",
       "      <td>[ok, lar, joking, wif, u, oni]</td>\n",
       "      <td>[ok, lar, joke, wif, u, oni]</td>\n",
       "      <td>ok lar joke wif u oni</td>\n",
       "    </tr>\n",
       "    <tr>\n",
       "      <th>2</th>\n",
       "      <td>spam</td>\n",
       "      <td>Free entry in 2 a wkly comp to win FA Cup fina...</td>\n",
       "      <td>1</td>\n",
       "      <td>155</td>\n",
       "      <td>Free entry in 2 a wkly comp to win FA Cup fina...</td>\n",
       "      <td>[free, entry, in, 2, a, wkly, comp, to, win, f...</td>\n",
       "      <td>[free, entry, 2, wkly, comp, win, fa, cup, fin...</td>\n",
       "      <td>[free, entri, 2, wkli, comp, win, fa, cup, fin...</td>\n",
       "      <td>free entri 2 wkli comp win fa cup final tkt 21...</td>\n",
       "    </tr>\n",
       "    <tr>\n",
       "      <th>3</th>\n",
       "      <td>ham</td>\n",
       "      <td>U dun say so early hor... U c already then say...</td>\n",
       "      <td>0</td>\n",
       "      <td>49</td>\n",
       "      <td>U dun say so early hor U c already then say</td>\n",
       "      <td>[u, dun, say, so, early, hor, u, c, already, t...</td>\n",
       "      <td>[u, dun, say, early, hor, u, c, already, say]</td>\n",
       "      <td>[u, dun, say, earli, hor, u, c, alreadi, say]</td>\n",
       "      <td>u dun say earli hor u c alreadi say</td>\n",
       "    </tr>\n",
       "    <tr>\n",
       "      <th>4</th>\n",
       "      <td>ham</td>\n",
       "      <td>Nah I don't think he goes to usf, he lives aro...</td>\n",
       "      <td>0</td>\n",
       "      <td>61</td>\n",
       "      <td>Nah I dont think he goes to usf he lives aroun...</td>\n",
       "      <td>[nah, i, dont, think, he, goes, to, usf, he, l...</td>\n",
       "      <td>[nah, dont, think, goes, usf, lives, around, t...</td>\n",
       "      <td>[nah, dont, think, goe, usf, live, around, tho...</td>\n",
       "      <td>nah dont think goe usf live around though</td>\n",
       "    </tr>\n",
       "    <tr>\n",
       "      <th>5</th>\n",
       "      <td>spam</td>\n",
       "      <td>FreeMsg Hey there darling it's been 3 week's n...</td>\n",
       "      <td>1</td>\n",
       "      <td>147</td>\n",
       "      <td>FreeMsg Hey there darling its been 3 weeks now...</td>\n",
       "      <td>[freemsg, hey, there, darling, its, been, 3, w...</td>\n",
       "      <td>[freemsg, hey, darling, 3, weeks, word, back, ...</td>\n",
       "      <td>[freemsg, hey, darl, 3, week, word, back, id, ...</td>\n",
       "      <td>freemsg hey darl 3 week word back id like fun ...</td>\n",
       "    </tr>\n",
       "    <tr>\n",
       "      <th>6</th>\n",
       "      <td>ham</td>\n",
       "      <td>Even my brother is not like to speak with me. ...</td>\n",
       "      <td>0</td>\n",
       "      <td>77</td>\n",
       "      <td>Even my brother is not like to speak with me T...</td>\n",
       "      <td>[even, my, brother, is, not, like, to, speak, ...</td>\n",
       "      <td>[even, brother, like, speak, treat, like, aids...</td>\n",
       "      <td>[even, brother, like, speak, treat, like, aid,...</td>\n",
       "      <td>even brother like speak treat like aid patent</td>\n",
       "    </tr>\n",
       "    <tr>\n",
       "      <th>7</th>\n",
       "      <td>ham</td>\n",
       "      <td>As per your request 'Melle Melle (Oru Minnamin...</td>\n",
       "      <td>0</td>\n",
       "      <td>160</td>\n",
       "      <td>As per your request Melle Melle Oru Minnaminun...</td>\n",
       "      <td>[as, per, your, request, melle, melle, oru, mi...</td>\n",
       "      <td>[per, request, melle, melle, oru, minnaminungi...</td>\n",
       "      <td>[per, request, mell, mell, oru, minnaminungint...</td>\n",
       "      <td>per request mell mell oru minnaminungint nurun...</td>\n",
       "    </tr>\n",
       "    <tr>\n",
       "      <th>8</th>\n",
       "      <td>spam</td>\n",
       "      <td>WINNER!! As a valued network customer you have...</td>\n",
       "      <td>1</td>\n",
       "      <td>157</td>\n",
       "      <td>WINNER As a valued network customer you have b...</td>\n",
       "      <td>[winner, as, a, valued, network, customer, you...</td>\n",
       "      <td>[winner, valued, network, customer, selected, ...</td>\n",
       "      <td>[winner, valu, network, custom, select, receiv...</td>\n",
       "      <td>winner valu network custom select receivea 900...</td>\n",
       "    </tr>\n",
       "    <tr>\n",
       "      <th>9</th>\n",
       "      <td>spam</td>\n",
       "      <td>Had your mobile 11 months or more? U R entitle...</td>\n",
       "      <td>1</td>\n",
       "      <td>154</td>\n",
       "      <td>Had your mobile 11 months or more U R entitled...</td>\n",
       "      <td>[had, your, mobile, 11, months, or, more, u, r...</td>\n",
       "      <td>[mobile, 11, months, u, r, entitled, update, l...</td>\n",
       "      <td>[mobil, 11, month, u, r, entitl, updat, latest...</td>\n",
       "      <td>mobil 11 month u r entitl updat latest colour ...</td>\n",
       "    </tr>\n",
       "  </tbody>\n",
       "</table>\n",
       "</div>"
      ],
      "text/plain": [
       "  label                                               text  spam  length  \\\n",
       "0   ham  Go until jurong point, crazy.. Available only ...     0     111   \n",
       "1   ham                      Ok lar... Joking wif u oni...     0      29   \n",
       "2  spam  Free entry in 2 a wkly comp to win FA Cup fina...     1     155   \n",
       "3   ham  U dun say so early hor... U c already then say...     0      49   \n",
       "4   ham  Nah I don't think he goes to usf, he lives aro...     0      61   \n",
       "5  spam  FreeMsg Hey there darling it's been 3 week's n...     1     147   \n",
       "6   ham  Even my brother is not like to speak with me. ...     0      77   \n",
       "7   ham  As per your request 'Melle Melle (Oru Minnamin...     0     160   \n",
       "8  spam  WINNER!! As a valued network customer you have...     1     157   \n",
       "9  spam  Had your mobile 11 months or more? U R entitle...     1     154   \n",
       "\n",
       "                                             no_punc  \\\n",
       "0  Go until jurong point crazy Available only in ...   \n",
       "1                            Ok lar Joking wif u oni   \n",
       "2  Free entry in 2 a wkly comp to win FA Cup fina...   \n",
       "3        U dun say so early hor U c already then say   \n",
       "4  Nah I dont think he goes to usf he lives aroun...   \n",
       "5  FreeMsg Hey there darling its been 3 weeks now...   \n",
       "6  Even my brother is not like to speak with me T...   \n",
       "7  As per your request Melle Melle Oru Minnaminun...   \n",
       "8  WINNER As a valued network customer you have b...   \n",
       "9  Had your mobile 11 months or more U R entitled...   \n",
       "\n",
       "                                      tokenized_text  \\\n",
       "0  [go, until, jurong, point, crazy, available, o...   \n",
       "1                     [ok, lar, joking, wif, u, oni]   \n",
       "2  [free, entry, in, 2, a, wkly, comp, to, win, f...   \n",
       "3  [u, dun, say, so, early, hor, u, c, already, t...   \n",
       "4  [nah, i, dont, think, he, goes, to, usf, he, l...   \n",
       "5  [freemsg, hey, there, darling, its, been, 3, w...   \n",
       "6  [even, my, brother, is, not, like, to, speak, ...   \n",
       "7  [as, per, your, request, melle, melle, oru, mi...   \n",
       "8  [winner, as, a, valued, network, customer, you...   \n",
       "9  [had, your, mobile, 11, months, or, more, u, r...   \n",
       "\n",
       "                                          clean_text  \\\n",
       "0  [go, jurong, point, crazy, available, bugis, n...   \n",
       "1                     [ok, lar, joking, wif, u, oni]   \n",
       "2  [free, entry, 2, wkly, comp, win, fa, cup, fin...   \n",
       "3      [u, dun, say, early, hor, u, c, already, say]   \n",
       "4  [nah, dont, think, goes, usf, lives, around, t...   \n",
       "5  [freemsg, hey, darling, 3, weeks, word, back, ...   \n",
       "6  [even, brother, like, speak, treat, like, aids...   \n",
       "7  [per, request, melle, melle, oru, minnaminungi...   \n",
       "8  [winner, valued, network, customer, selected, ...   \n",
       "9  [mobile, 11, months, u, r, entitled, update, l...   \n",
       "\n",
       "                                        stemmed_text  \\\n",
       "0  [go, jurong, point, crazi, avail, bugi, n, gre...   \n",
       "1                       [ok, lar, joke, wif, u, oni]   \n",
       "2  [free, entri, 2, wkli, comp, win, fa, cup, fin...   \n",
       "3      [u, dun, say, earli, hor, u, c, alreadi, say]   \n",
       "4  [nah, dont, think, goe, usf, live, around, tho...   \n",
       "5  [freemsg, hey, darl, 3, week, word, back, id, ...   \n",
       "6  [even, brother, like, speak, treat, like, aid,...   \n",
       "7  [per, request, mell, mell, oru, minnaminungint...   \n",
       "8  [winner, valu, network, custom, select, receiv...   \n",
       "9  [mobil, 11, month, u, r, entitl, updat, latest...   \n",
       "\n",
       "                                          final_text  \n",
       "0  go jurong point crazi avail bugi n great world...  \n",
       "1                              ok lar joke wif u oni  \n",
       "2  free entri 2 wkli comp win fa cup final tkt 21...  \n",
       "3                u dun say earli hor u c alreadi say  \n",
       "4          nah dont think goe usf live around though  \n",
       "5  freemsg hey darl 3 week word back id like fun ...  \n",
       "6      even brother like speak treat like aid patent  \n",
       "7  per request mell mell oru minnaminungint nurun...  \n",
       "8  winner valu network custom select receivea 900...  \n",
       "9  mobil 11 month u r entitl updat latest colour ...  "
      ]
     },
     "execution_count": 26,
     "metadata": {},
     "output_type": "execute_result"
    }
   ],
   "source": [
    "df['final_text'] = df.stemmed_text.apply(lambda row : final_text(row))\n",
    "df.head(10)"
   ]
  },
  {
   "cell_type": "code",
   "execution_count": 27,
   "id": "fa81adaf",
   "metadata": {
    "scrolled": true
   },
   "outputs": [
    {
     "data": {
      "text/html": [
       "<div>\n",
       "<style scoped>\n",
       "    .dataframe tbody tr th:only-of-type {\n",
       "        vertical-align: middle;\n",
       "    }\n",
       "\n",
       "    .dataframe tbody tr th {\n",
       "        vertical-align: top;\n",
       "    }\n",
       "\n",
       "    .dataframe thead th {\n",
       "        text-align: right;\n",
       "    }\n",
       "</style>\n",
       "<table border=\"1\" class=\"dataframe\">\n",
       "  <thead>\n",
       "    <tr style=\"text-align: right;\">\n",
       "      <th></th>\n",
       "      <th>text</th>\n",
       "      <th>final_text</th>\n",
       "    </tr>\n",
       "  </thead>\n",
       "  <tbody>\n",
       "    <tr>\n",
       "      <th>0</th>\n",
       "      <td>Go until jurong point, crazy.. Available only ...</td>\n",
       "      <td>go jurong point crazi avail bugi n great world...</td>\n",
       "    </tr>\n",
       "    <tr>\n",
       "      <th>1</th>\n",
       "      <td>Ok lar... Joking wif u oni...</td>\n",
       "      <td>ok lar joke wif u oni</td>\n",
       "    </tr>\n",
       "    <tr>\n",
       "      <th>2</th>\n",
       "      <td>Free entry in 2 a wkly comp to win FA Cup fina...</td>\n",
       "      <td>free entri 2 wkli comp win fa cup final tkt 21...</td>\n",
       "    </tr>\n",
       "    <tr>\n",
       "      <th>3</th>\n",
       "      <td>U dun say so early hor... U c already then say...</td>\n",
       "      <td>u dun say earli hor u c alreadi say</td>\n",
       "    </tr>\n",
       "    <tr>\n",
       "      <th>4</th>\n",
       "      <td>Nah I don't think he goes to usf, he lives aro...</td>\n",
       "      <td>nah dont think goe usf live around though</td>\n",
       "    </tr>\n",
       "    <tr>\n",
       "      <th>5</th>\n",
       "      <td>FreeMsg Hey there darling it's been 3 week's n...</td>\n",
       "      <td>freemsg hey darl 3 week word back id like fun ...</td>\n",
       "    </tr>\n",
       "    <tr>\n",
       "      <th>6</th>\n",
       "      <td>Even my brother is not like to speak with me. ...</td>\n",
       "      <td>even brother like speak treat like aid patent</td>\n",
       "    </tr>\n",
       "    <tr>\n",
       "      <th>7</th>\n",
       "      <td>As per your request 'Melle Melle (Oru Minnamin...</td>\n",
       "      <td>per request mell mell oru minnaminungint nurun...</td>\n",
       "    </tr>\n",
       "    <tr>\n",
       "      <th>8</th>\n",
       "      <td>WINNER!! As a valued network customer you have...</td>\n",
       "      <td>winner valu network custom select receivea 900...</td>\n",
       "    </tr>\n",
       "    <tr>\n",
       "      <th>9</th>\n",
       "      <td>Had your mobile 11 months or more? U R entitle...</td>\n",
       "      <td>mobil 11 month u r entitl updat latest colour ...</td>\n",
       "    </tr>\n",
       "  </tbody>\n",
       "</table>\n",
       "</div>"
      ],
      "text/plain": [
       "                                                text  \\\n",
       "0  Go until jurong point, crazy.. Available only ...   \n",
       "1                      Ok lar... Joking wif u oni...   \n",
       "2  Free entry in 2 a wkly comp to win FA Cup fina...   \n",
       "3  U dun say so early hor... U c already then say...   \n",
       "4  Nah I don't think he goes to usf, he lives aro...   \n",
       "5  FreeMsg Hey there darling it's been 3 week's n...   \n",
       "6  Even my brother is not like to speak with me. ...   \n",
       "7  As per your request 'Melle Melle (Oru Minnamin...   \n",
       "8  WINNER!! As a valued network customer you have...   \n",
       "9  Had your mobile 11 months or more? U R entitle...   \n",
       "\n",
       "                                          final_text  \n",
       "0  go jurong point crazi avail bugi n great world...  \n",
       "1                              ok lar joke wif u oni  \n",
       "2  free entri 2 wkli comp win fa cup final tkt 21...  \n",
       "3                u dun say earli hor u c alreadi say  \n",
       "4          nah dont think goe usf live around though  \n",
       "5  freemsg hey darl 3 week word back id like fun ...  \n",
       "6      even brother like speak treat like aid patent  \n",
       "7  per request mell mell oru minnaminungint nurun...  \n",
       "8  winner valu network custom select receivea 900...  \n",
       "9  mobil 11 month u r entitl updat latest colour ...  "
      ]
     },
     "execution_count": 27,
     "metadata": {},
     "output_type": "execute_result"
    }
   ],
   "source": [
    "df[['text', 'final_text']].head(10)"
   ]
  },
  {
   "cell_type": "code",
   "execution_count": 28,
   "id": "bf773202",
   "metadata": {},
   "outputs": [],
   "source": [
    "sms = df['final_text']"
   ]
  },
  {
   "cell_type": "code",
   "execution_count": 29,
   "id": "f3cca8d3",
   "metadata": {
    "scrolled": false
   },
   "outputs": [
    {
     "name": "stdout",
     "output_type": "stream",
     "text": [
      "0       go jurong point crazi avail bugi n great world...\n",
      "1                                   ok lar joke wif u oni\n",
      "2       free entri 2 wkli comp win fa cup final tkt 21...\n",
      "3                     u dun say earli hor u c alreadi say\n",
      "4               nah dont think goe usf live around though\n",
      "                              ...                        \n",
      "5567    2nd time tri 2 contact u u 750 pound prize 2 c...\n",
      "5568                                b go esplanad fr home\n",
      "5569                              piti mood soani suggest\n",
      "5570    guy bitch act like id interest buy someth els ...\n",
      "5571                                       rofl true name\n",
      "Name: final_text, Length: 5572, dtype: object\n"
     ]
    }
   ],
   "source": [
    "print(sms)"
   ]
  },
  {
   "cell_type": "code",
   "execution_count": 30,
   "id": "23f8e4a0",
   "metadata": {},
   "outputs": [],
   "source": [
    "#training_set = sms[:2800]"
   ]
  },
  {
   "cell_type": "code",
   "execution_count": 31,
   "id": "955a7007",
   "metadata": {},
   "outputs": [],
   "source": [
    "#testing_set = sms[2800:]"
   ]
  },
  {
   "cell_type": "code",
   "execution_count": 32,
   "id": "046a695f",
   "metadata": {
    "scrolled": true
   },
   "outputs": [],
   "source": [
    "#classifier = nltk.NaiveBayesClassifier.train(training_set)\n",
    "#print(\"Naive Bayes Algo Accuracy : \",(nltk.classify.accuracy(classifier, testing_Set))*100)"
   ]
  },
  {
   "cell_type": "code",
   "execution_count": null,
   "id": "b56741dc",
   "metadata": {},
   "outputs": [],
   "source": []
  },
  {
   "cell_type": "code",
   "execution_count": null,
   "id": "a875096a",
   "metadata": {},
   "outputs": [],
   "source": []
  },
  {
   "cell_type": "code",
   "execution_count": null,
   "id": "75abdfcb",
   "metadata": {},
   "outputs": [],
   "source": []
  },
  {
   "cell_type": "code",
   "execution_count": null,
   "id": "a2ccdc11",
   "metadata": {},
   "outputs": [],
   "source": []
  },
  {
   "cell_type": "code",
   "execution_count": null,
   "id": "917f2121",
   "metadata": {},
   "outputs": [],
   "source": []
  },
  {
   "cell_type": "code",
   "execution_count": 33,
   "id": "862de72a",
   "metadata": {},
   "outputs": [],
   "source": [
    "from sklearn.feature_extraction.text import TfidfVectorizer"
   ]
  },
  {
   "cell_type": "code",
   "execution_count": 34,
   "id": "fb97ccb6",
   "metadata": {
    "scrolled": false
   },
   "outputs": [],
   "source": [
    "tfidf_model=TfidfVectorizer()\n",
    "tfidf_vec=tfidf_model.fit_transform(sms)\n",
    "tfidf_data=pd.DataFrame(tfidf_vec.toarray())\n"
   ]
  },
  {
   "cell_type": "code",
   "execution_count": 93,
   "id": "94ea6197",
   "metadata": {
    "scrolled": false
   },
   "outputs": [
    {
     "data": {
      "text/html": [
       "<div>\n",
       "<style scoped>\n",
       "    .dataframe tbody tr th:only-of-type {\n",
       "        vertical-align: middle;\n",
       "    }\n",
       "\n",
       "    .dataframe tbody tr th {\n",
       "        vertical-align: top;\n",
       "    }\n",
       "\n",
       "    .dataframe thead th {\n",
       "        text-align: right;\n",
       "    }\n",
       "</style>\n",
       "<table border=\"1\" class=\"dataframe\">\n",
       "  <thead>\n",
       "    <tr style=\"text-align: right;\">\n",
       "      <th></th>\n",
       "      <th>0</th>\n",
       "      <th>1</th>\n",
       "      <th>2</th>\n",
       "      <th>3</th>\n",
       "      <th>4</th>\n",
       "      <th>5</th>\n",
       "      <th>6</th>\n",
       "      <th>7</th>\n",
       "      <th>8</th>\n",
       "      <th>9</th>\n",
       "      <th>...</th>\n",
       "      <th>7966</th>\n",
       "      <th>7967</th>\n",
       "      <th>7968</th>\n",
       "      <th>7969</th>\n",
       "      <th>7970</th>\n",
       "      <th>7971</th>\n",
       "      <th>7972</th>\n",
       "      <th>7973</th>\n",
       "      <th>7974</th>\n",
       "      <th>7975</th>\n",
       "    </tr>\n",
       "  </thead>\n",
       "  <tbody>\n",
       "    <tr>\n",
       "      <th>0</th>\n",
       "      <td>0.0</td>\n",
       "      <td>0.0</td>\n",
       "      <td>0.0</td>\n",
       "      <td>0.0</td>\n",
       "      <td>0.0</td>\n",
       "      <td>0.0</td>\n",
       "      <td>0.0</td>\n",
       "      <td>0.0</td>\n",
       "      <td>0.0</td>\n",
       "      <td>0.0</td>\n",
       "      <td>...</td>\n",
       "      <td>0.0</td>\n",
       "      <td>0.0</td>\n",
       "      <td>0.0</td>\n",
       "      <td>0.0</td>\n",
       "      <td>0.0</td>\n",
       "      <td>0.0</td>\n",
       "      <td>0.0</td>\n",
       "      <td>0.0</td>\n",
       "      <td>0.0</td>\n",
       "      <td>0.0</td>\n",
       "    </tr>\n",
       "    <tr>\n",
       "      <th>1</th>\n",
       "      <td>0.0</td>\n",
       "      <td>0.0</td>\n",
       "      <td>0.0</td>\n",
       "      <td>0.0</td>\n",
       "      <td>0.0</td>\n",
       "      <td>0.0</td>\n",
       "      <td>0.0</td>\n",
       "      <td>0.0</td>\n",
       "      <td>0.0</td>\n",
       "      <td>0.0</td>\n",
       "      <td>...</td>\n",
       "      <td>0.0</td>\n",
       "      <td>0.0</td>\n",
       "      <td>0.0</td>\n",
       "      <td>0.0</td>\n",
       "      <td>0.0</td>\n",
       "      <td>0.0</td>\n",
       "      <td>0.0</td>\n",
       "      <td>0.0</td>\n",
       "      <td>0.0</td>\n",
       "      <td>0.0</td>\n",
       "    </tr>\n",
       "    <tr>\n",
       "      <th>2</th>\n",
       "      <td>0.0</td>\n",
       "      <td>0.0</td>\n",
       "      <td>0.0</td>\n",
       "      <td>0.0</td>\n",
       "      <td>0.0</td>\n",
       "      <td>0.0</td>\n",
       "      <td>0.0</td>\n",
       "      <td>0.0</td>\n",
       "      <td>0.0</td>\n",
       "      <td>0.0</td>\n",
       "      <td>...</td>\n",
       "      <td>0.0</td>\n",
       "      <td>0.0</td>\n",
       "      <td>0.0</td>\n",
       "      <td>0.0</td>\n",
       "      <td>0.0</td>\n",
       "      <td>0.0</td>\n",
       "      <td>0.0</td>\n",
       "      <td>0.0</td>\n",
       "      <td>0.0</td>\n",
       "      <td>0.0</td>\n",
       "    </tr>\n",
       "    <tr>\n",
       "      <th>3</th>\n",
       "      <td>0.0</td>\n",
       "      <td>0.0</td>\n",
       "      <td>0.0</td>\n",
       "      <td>0.0</td>\n",
       "      <td>0.0</td>\n",
       "      <td>0.0</td>\n",
       "      <td>0.0</td>\n",
       "      <td>0.0</td>\n",
       "      <td>0.0</td>\n",
       "      <td>0.0</td>\n",
       "      <td>...</td>\n",
       "      <td>0.0</td>\n",
       "      <td>0.0</td>\n",
       "      <td>0.0</td>\n",
       "      <td>0.0</td>\n",
       "      <td>0.0</td>\n",
       "      <td>0.0</td>\n",
       "      <td>0.0</td>\n",
       "      <td>0.0</td>\n",
       "      <td>0.0</td>\n",
       "      <td>0.0</td>\n",
       "    </tr>\n",
       "    <tr>\n",
       "      <th>4</th>\n",
       "      <td>0.0</td>\n",
       "      <td>0.0</td>\n",
       "      <td>0.0</td>\n",
       "      <td>0.0</td>\n",
       "      <td>0.0</td>\n",
       "      <td>0.0</td>\n",
       "      <td>0.0</td>\n",
       "      <td>0.0</td>\n",
       "      <td>0.0</td>\n",
       "      <td>0.0</td>\n",
       "      <td>...</td>\n",
       "      <td>0.0</td>\n",
       "      <td>0.0</td>\n",
       "      <td>0.0</td>\n",
       "      <td>0.0</td>\n",
       "      <td>0.0</td>\n",
       "      <td>0.0</td>\n",
       "      <td>0.0</td>\n",
       "      <td>0.0</td>\n",
       "      <td>0.0</td>\n",
       "      <td>0.0</td>\n",
       "    </tr>\n",
       "  </tbody>\n",
       "</table>\n",
       "<p>5 rows × 7976 columns</p>\n",
       "</div>"
      ],
      "text/plain": [
       "   0     1     2     3     4     5     6     7     8     9     ...  7966  \\\n",
       "0   0.0   0.0   0.0   0.0   0.0   0.0   0.0   0.0   0.0   0.0  ...   0.0   \n",
       "1   0.0   0.0   0.0   0.0   0.0   0.0   0.0   0.0   0.0   0.0  ...   0.0   \n",
       "2   0.0   0.0   0.0   0.0   0.0   0.0   0.0   0.0   0.0   0.0  ...   0.0   \n",
       "3   0.0   0.0   0.0   0.0   0.0   0.0   0.0   0.0   0.0   0.0  ...   0.0   \n",
       "4   0.0   0.0   0.0   0.0   0.0   0.0   0.0   0.0   0.0   0.0  ...   0.0   \n",
       "\n",
       "   7967  7968  7969  7970  7971  7972  7973  7974  7975  \n",
       "0   0.0   0.0   0.0   0.0   0.0   0.0   0.0   0.0   0.0  \n",
       "1   0.0   0.0   0.0   0.0   0.0   0.0   0.0   0.0   0.0  \n",
       "2   0.0   0.0   0.0   0.0   0.0   0.0   0.0   0.0   0.0  \n",
       "3   0.0   0.0   0.0   0.0   0.0   0.0   0.0   0.0   0.0  \n",
       "4   0.0   0.0   0.0   0.0   0.0   0.0   0.0   0.0   0.0  \n",
       "\n",
       "[5 rows x 7976 columns]"
      ]
     },
     "execution_count": 93,
     "metadata": {},
     "output_type": "execute_result"
    }
   ],
   "source": [
    "final_data =  tfidf_data\n",
    "final_data.head()\n"
   ]
  },
  {
   "cell_type": "markdown",
   "id": "9da748a1",
   "metadata": {},
   "source": []
  },
  {
   "cell_type": "code",
   "execution_count": null,
   "id": "5b526607",
   "metadata": {
    "scrolled": true
   },
   "outputs": [],
   "source": []
  },
  {
   "cell_type": "code",
   "execution_count": null,
   "id": "1e49b9f7",
   "metadata": {
    "scrolled": true
   },
   "outputs": [],
   "source": []
  },
  {
   "cell_type": "code",
   "execution_count": null,
   "id": "f8ce0d5a",
   "metadata": {},
   "outputs": [],
   "source": []
  },
  {
   "cell_type": "code",
   "execution_count": null,
   "id": "080509d4",
   "metadata": {},
   "outputs": [],
   "source": []
  },
  {
   "cell_type": "code",
   "execution_count": null,
   "id": "d30bb9e6",
   "metadata": {},
   "outputs": [],
   "source": []
  },
  {
   "cell_type": "code",
   "execution_count": null,
   "id": "8afd4b96",
   "metadata": {},
   "outputs": [],
   "source": []
  },
  {
   "cell_type": "code",
   "execution_count": 39,
   "id": "1e76f778",
   "metadata": {},
   "outputs": [
    {
     "name": "stdout",
     "output_type": "stream",
     "text": [
      "{'go': 3268, 'jurong': 4034, 'point': 5504, 'crazi': 2208, 'avail': 1320, 'bugi': 1719, 'great': 3359, 'world': 7735, 'la': 4175, 'buffet': 1717, 'cine': 1991, 'got': 3321, 'amor': 1132, 'wat': 7535, 'ok': 5135, 'lar': 4210, 'joke': 4000, 'wif': 7648, 'oni': 5165, 'free': 3088, 'entri': 2748, 'wkli': 7694, 'comp': 2087, 'win': 7661, 'fa': 2866, 'cup': 2254, 'final': 2967, 'tkt': 7061, '21st': 451, 'may': 4567, '2005': 438, 'text': 6924, '87121': 858, 'receiv': 5823, 'questionstd': 5737, 'txt': 7238, 'ratetc': 5783, 'appli': 1204, '08452810075over18': 71, 'dun': 2625, 'say': 6089, 'earli': 2641, 'hor': 3639, 'alreadi': 1105, 'nah': 4853, 'dont': 2549, 'think': 6990, 'goe': 3280, 'usf': 7365, 'live': 4329, 'around': 1242, 'though': 7006, 'freemsg': 3096, 'hey': 3549, 'darl': 2309, 'week': 7572, 'word': 7724, 'back': 1363, 'id': 3742, 'like': 4298, 'fun': 3148, 'still': 6631, 'tb': 6865, 'xxx': 7853, 'std': 6608, 'chg': 1940, 'send': 6161, '150': 350, 'rcv': 5794, 'even': 2795, 'brother': 1690, 'speak': 6506, 'treat': 7177, 'aid': 1056, 'patent': 5333, 'per': 5367, 'request': 5901, 'mell': 4601, 'oru': 5219, 'minnaminungint': 4670, 'nurungu': 5074, 'vettam': 7416, 'set': 6185, 'callertun': 1788, 'caller': 1787, 'press': 5605, 'copi': 2160, 'friend': 3115, 'winner': 7668, 'valu': 7390, 'network': 4921, 'custom': 2265, 'select': 6150, 'receivea': 5824, '900': 896, 'prize': 5635, 'reward': 5938, 'claim': 1998, 'call': 1771, '09061701461': 217, 'code': 2048, 'kl341': 4135, 'valid': 7388, '12': 321, 'hour': 3653, 'mobil': 4721, '11': 311, 'month': 4754, 'entitl': 2746, 'updat': 7329, 'latest': 4225, 'colour': 2066, 'camera': 1800, 'co': 2037, '08002986030': 56, 'im': 3767, 'gonna': 3296, 'home': 3613, 'soon': 6465, 'want': 7523, 'talk': 6837, 'stuff': 6691, 'anymor': 1176, 'tonight': 7116, 'ive': 3926, 'cri': 2219, 'enough': 2741, 'today': 7077, 'six': 6336, 'chanc': 1892, 'cash': 1848, '100': 291, '20000': 435, 'pound': 5555, 'csh11': 2236, '87575': 862, 'cost': 2171, '150pday': 357, '6day': 744, '16': 388, 'tsandc': 7205, 'repli': 5894, 'hl': 3581, 'info': 3818, 'urgent': 7347, 'membership': 4606, '100000': 294, 'jackpot': 3935, '81010': 808, 'tc': 6867, 'wwwdbuknet': 7798, 'lccltd': 4236, 'pobox': 5483, '4403ldnw1a7rw18': 619, 'search': 6128, 'right': 5949, 'thank': 6939, 'breather': 1663, 'promis': 5667, 'wont': 7715, 'take': 6831, 'help': 3523, 'grant': 3348, 'fulfil': 3144, 'wonder': 7714, 'bless': 1550, 'time': 7041, 'date': 2317, 'sunday': 6739, 'xxxmobilemovieclub': 7854, 'use': 7362, 'credit': 2215, 'click': 2014, 'wap': 7525, 'link': 4313, 'next': 4936, 'messag': 4628, 'httpwap': 3680, 'xxxmobilemovieclubcomnqjkgighjjgcbl': 7855, 'oh': 5128, 'kim': 4105, 'watch': 7536, 'eh': 2687, 'rememb': 5879, 'spell': 6517, 'name': 4859, 'ye': 7880, 'naughti': 4881, 'make': 4503, 'wet': 7609, 'fine': 2972, 'way': 7547, 'feel': 2933, 'gota': 3322, 'england': 2734, 'macedonia': 4470, 'miss': 4685, 'goalsteam': 3273, 'news': 4931, 'ur': 7344, 'nation': 4875, 'team': 6879, '87077': 857, 'eg': 2679, 'trywal': 7203, 'scotland': 6111, '4txt': 663, '120': 322, 'poboxox36504w45wq': 5495, 'serious': 6181, 'tri': 7183, 'ha': 3419, 'pay': 5342, 'first': 2988, 'da': 2279, 'stock': 6635, 'comin': 2078, 'aft': 1023, 'finish': 2978, 'lunch': 4438, 'str': 6655, 'lor': 4375, 'ard': 1224, 'smth': 6407, 'ffffffffff': 2946, 'alright': 1107, 'meet': 4590, 'sooner': 6467, 'forc': 3048, 'eat': 2655, 'slice': 6367, 'realli': 5811, 'hungri': 3703, 'tho': 7002, 'suck': 6714, 'mark': 4534, 'get': 3226, 'worri': 7740, 'know': 4141, 'sick': 6292, 'turn': 7223, 'pizza': 5444, 'lol': 4356, 'alway': 1117, 'convinc': 2150, 'catch': 1857, 'bu': 1710, 'fri': 3111, 'egg': 2683, 'tea': 6875, 'mom': 4738, 'left': 4253, 'dinner': 2472, 'love': 4397, 'amp': 1134, 'pack': 5269, 'car': 1823, 'ill': 3765, 'let': 4271, 'there': 6971, 'room': 5983, 'ahhh': 1048, 'work': 7729, 'vagu': 7384, 'wait': 7500, 'that': 6948, 'clear': 2010, 'sure': 6764, 'sarcast': 6071, 'doesnt': 2526, 'us': 7358, 'yeah': 7881, 'apologet': 1194, 'fallen': 2890, 'actin': 975, 'spoilt': 6542, 'child': 1955, 'caught': 1859, 'till': 7039, 'badli': 1369, 'cheer': 1923, 'tell': 6894, 'anyth': 1179, 'fear': 2924, 'faint': 2880, 'housework': 3658, 'quick': 5738, 'cuppa': 2256, 'subscript': 6708, 'rington': 5956, 'uk': 7266, 'charg': 1899, '5month': 700, 'pleas': 5464, 'confirm': 2122, 'yup': 7960, 'look': 4367, 'msg': 4790, 'xuhui': 7849, 'learn': 4246, '2nd': 512, 'lesson': 4270, '8am': 885, 'oop': 5183, 'roommat': 5985, 'done': 2546, 'see': 6140, 'letter': 4272, 'decid': 2362, 'hello': 3517, 'how': 3659, 'saturday': 6084, 'youd': 7926, 'tomo': 7101, 'invit': 3873, 'pl': 5445, 'ahead': 1046, 'watt': 7545, 'weekend': 7574, 'abiola': 934, 'forget': 3054, 'need': 4900, 'crave': 2207, 'sweet': 6792, 'arabian': 1221, 'steed': 6614, 'mmmmmm': 4711, 'yummi': 7954, '07732584351': 28, 'rodger': 5974, 'burn': 1733, 'sm': 6382, 'nokia': 4998, 'camcord': 1798, '08000930705': 52, 'deliveri': 2390, 'tomorrow': 7104, 'hope': 3636, 'man': 4511, 'well': 7587, 'endow': 2727, 'ltgt': 4423, 'inch': 3791, 'callsmessagesmiss': 1794, 'didnt': 2450, 'hep': 3534, 'immunis': 3777, 'nigeria': 4949, 'fair': 2881, 'tyler': 7247, 'cant': 1815, 'could': 2177, 'mayb': 4568, 'ask': 1265, 'bit': 1533, 'stubborn': 6682, 'hospit': 3645, 'kept': 4083, 'weak': 7553, 'sucker': 6715, 'saw': 6088, 'class': 2004, 'gram': 3342, 'usual': 7373, 'run': 6019, 'half': 3436, 'eighth': 2690, 'smarter': 6388, 'almost': 1101, 'whole': 7638, 'second': 6132, 'fyi': 3161, 'ride': 5948, 'morn': 4763, 'he': 3487, 'crash': 2206, 'place': 5446, 'wow': 7756, 'never': 4923, 'realiz': 5810, 'embarass': 2712, 'accomod': 958, 'thought': 7007, 'sinc': 6314, 'best': 1493, 'seem': 6144, 'happi': 3458, 'cave': 1861, 'sorri': 6476, 'give': 3251, 'offer': 5113, 'ac': 947, 'sptv': 6562, 'new': 4926, 'jersey': 3977, 'devil': 2430, 'detroit': 2426, 'red': 5839, 'wing': 7667, 'play': 5457, 'ice': 3737, 'hockey': 3599, 'correct': 2165, 'incorrect': 3799, 'end': 2725, 'mallika': 4510, 'sherawat': 6230, 'yesterday': 7907, 'find': 2971, 'lturlgt': 4426, 'congrat': 2127, 'year': 7883, 'special': 6508, 'cinema': 1992, 'pass': 5324, '09061209465': 212, 'suprman': 6762, 'matrix3': 4557, 'starwars3': 6600, 'etc': 2781, 'bx420ip45w': 1754, '150pm': 360, 'later': 4223, 'reach': 5798, 'yesgauti': 7900, 'sehwag': 6149, 'odi': 5108, 'seri': 6179, 'pick': 5420, 'burger': 1730, 'move': 4779, 'pain': 5276, 'kill': 4103, 'good': 3298, 'girl': 3245, 'situat': 6333, 'seeker': 6143, 'part': 5315, 'check': 1917, 'iq': 3884, 'took': 7120, 'forev': 3051, 'come': 2071, 'doubl': 2561, 'hair': 3431, 'dresser': 2589, 'said': 6041, 'wun': 7784, 'cut': 2268, 'short': 6264, 'nice': 4942, 'advis': 1008, 'follow': 3036, 'recent': 5825, 'review': 5936, 'mob': 4718, 'award': 1336, '1500': 351, 'bonu': 1590, '09066364589': 261, 'song': 6460, 'dedic': 2368, 'day': 2326, 'valuabl': 7391, 'frnd': 3122, 'rpli': 5997, 'complimentari': 2101, 'trip': 7185, 'eurodisinc': 2788, 'trav': 7172, 'acoentry41': 971, '1000': 292, 'di': 2439, '186': 397, '150morefrmmob': 353, 'shracomorsglsuplt10': 6279, 'ls1': 4413, '3aj': 572, 'hear': 3497, 'divorc': 2508, 'barbi': 1397, 'ken': 4080, 'plane': 5451, 'wah': 7493, 'lucki': 4431, 'save': 6087, 'money': 4744, 'hee': 3510, 'hi': 3554, 'babe': 1355, 'wanna': 7521, 'someth': 6447, 'xx': 7850, 'kkwhere': 4132, 'youhow': 7929, 'perform': 5372, 'machan': 4472, 'cool': 2154, 'gentleman': 3217, 'digniti': 2464, 'respect': 5915, 'peopl': 5366, 'much': 4807, 'shi': 6233, 'pa': 5267, 'oper': 5186, 'job': 3992, 'ta': 6817, 'earn': 2645, 'ah': 1044, 'stop': 6643, 'urgnt': 7351, 'real': 5805, 'yo': 7917, 'ticket': 7030, 'one': 5162, 'jacket': 3934, 'multi': 4816, 'start': 6596, 'came': 1799, 'bed': 1453, 'coin': 2053, 'factori': 2874, 'gotta': 3326, 'nitro': 4970, 'ela': 2695, 'kanoil': 4060, 'download': 2569, 'wen': 7593, 'stand': 6589, 'close': 2019, 'anoth': 1165, 'night': 4951, 'spent': 6519, 'late': 4219, 'afternoon': 1025, 'casualti': 1855, 'mean': 4575, 'havent': 3481, 'stuff42moro': 6692, 'includ': 3794, 'sheet': 6225, 'smile': 6395, 'pleasur': 5467, 'troubl': 7190, 'pour': 5556, 'rain': 5759, 'sum1': 6731, 'hurt': 3713, 'becoz': 1451, 'someon': 6442, 'servic': 6184, 'repres': 5899, '0800': 48, '169': 390, '6031': 712, '10am9pm': 305, 'guarante': 3392, '5000': 674, 'plan': 5450, 'buy': 1746, 'lido': 4283, '530': 684, 'show': 6275, 'collect': 2062, 'simpli': 6311, 'password': 5329, 'mix': 4702, '85069': 843, 'verifi': 7413, 'usher': 7367, 'britney': 1681, 'fml': 3029, 'telugu': 6898, 'moviewat': 4781, 'abt': 943, 'load': 4340, 'loan': 4341, 'wk': 7690, 'hol': 3603, 'forgot': 3057, 'hairdress': 3433, 'appoint': 1207, 'four': 3071, 'shower': 6276, 'beforehand': 1465, 'caus': 1860, 'prob': 5640, 'ham': 3442, 'noth': 5027, 'els': 2707, 'okay': 5136, 'price': 5618, 'long': 4363, 'legal': 4256, 'ave': 1327, 'am': 1119, 'gone': 3293, '4the': 661, 'drive': 2594, 'test': 6920, 'yet': 7908, 'your': 7939, 'guess': 3400, 'gave': 3189, 'boston': 1608, 'men': 4610, 'chang': 1893, 'locat': 4344, 'nyc': 5084, 'cuz': 2274, 'signin': 6301, 'page': 5273, 'umma': 7273, 'life': 4285, 'vava': 7401, 'lot': 4383, 'dear': 2345, 'wish': 7676, 'birthday': 1531, 'truli': 7198, 'memor': 4608, 'aight': 1058, 'hit': 3573, 'would': 7752, 'ip': 3878, 'address': 988, 'consid': 2133, 'comput': 2106, 'isnt': 3898, 'minecraft': 4667, 'server': 6183, 'grumpi': 3385, 'old': 5152, 'better': 1501, 'lie': 4284, 'busi': 1739, 'plural': 5476, 'noun': 5037, 'research': 5904, 'dinnermsg': 2473, 'thing': 6988, 'scare': 6098, 'mah': 4494, 'loud': 4392, 'gent': 3215, 'contact': 2138, 'last': 4217, 'draw': 2580, '09064012160': 236, 'k52': 4039, '12hr': 334, '150ppm': 371, 'wa': 7488, 'openin': 5185, 'sentenc': 6172, 'formal': 3061, 'anyway': 1184, 'juz': 4038, 'tt': 7211, 'eatin': 2657, 'puttin': 5720, 'weighthaha': 7579, 'anythin': 1181, 'happen': 3455, 'enter': 2742, 'cabin': 1760, 'bday': 1440, 'boss': 1607, 'felt': 2939, 'askd': 1266, 'apart': 1187, 'went': 7596, 'holiday': 3609, 'flight': 3011, 'inc': 3790, '0871277810910pmin': 121, '18': 393, 'goodo': 3312, 'must': 4831, 'friday': 3112, 'eggpotato': 2684, 'ratio': 5785, 'tortilla': 7137, 'hmmmi': 3591, 'uncl': 7279, 'inform': 3820, 'school': 6104, 'directli': 2479, 'food': 3041, 'privat': 5632, '2004': 437, 'account': 962, 'statement': 6603, '07742676969': 30, '786': 775, 'unredeem': 7316, '08719180248': 169, 'identifi': 3748, '45239': 631, 'expir': 2848, '2000': 434, '5903': 689, 'landlin': 4199, '09064019788': 242, 'box42wr29c': 1631, 'applespairsal': 1203, 'malarki': 4507, 'voda': 7461, 'number': 5068, '7548': 770, '350': 559, 'match': 4550, '08712300220': 103, 'quot': 5747, '4041': 603, 'standard': 6590, 'rate': 5782, 'app': 1196, 'sao': 6065, 'mu': 4806, 'predict': 5587, 'knowyetund': 4146, 'hasnt': 3472, 'sent': 6170, 'bother': 1610, 'involv': 3876, 'shouldnt': 6272, 'impos': 3783, 'apologis': 1195, 'del': 2383, 'bak': 1376, 'sum': 6730, 'lucyxx': 4435, 'kkhow': 4126, 'tmorrowpl': 7066, 'answer': 1167, 'question': 5736, 'sunshin': 6746, 'quiz': 5743, 'top': 7129, 'soni': 6461, 'dvd': 2634, 'player': 5458, 'countri': 2183, 'algarv': 1085, 'ansr': 1166, '82277': 814, 'sptyron': 6563, 'laid': 4191, 'dog': 2527, 'direct': 2478, 'join': 3997, 'largest': 4214, 'bt': 1703, 'txting': 7243, 'gravel': 3353, '69888': 738, 'nt': 5058, 'ec2a': 2659, '31pmsg150p': 550, 'haf': 3425, 'msn': 4800, 'yijuehotmailcom': 7914, 'befor': 1464, 'activ': 977, 'youll': 7933, 'chat': 1908, 'svc': 6777, 'hardcor': 3463, '69988': 742, 'age': 1032, 'yr': 7952, 'lazi': 4235, 'type': 7248, 'lect': 4251, 'pouch': 5554, 'sir': 6323, 'mail': 4497, 'swt': 6805, 'nver': 5078, 'tire': 7050, 'littl': 4328, 'lovabl': 4396, 'person': 5383, 'cozsomtim': 2195, 'occupi': 5102, 'biggest': 1517, 'heart': 3500, 'gud': 3394, 'ni8': 4939, 'open': 5184, 'ya': 7864, 'dot': 2560, 'what': 7614, 'staff': 6582, 'randi': 5773, 'sexi': 6191, 'femal': 2940, 'local': 4343, 'luv': 4444, 'netcollex': 4917, 'ltd': 4419, '08700621170150p': 73, 'ummmawil': 7274, 'inour': 3837, 'begin': 1469, 'qatar': 5724, 'pray': 5581, 'hard': 3462, 'ki': 4096, 'delet': 2385, 'sindu': 6316, 'birla': 1527, 'soft': 6430, 'wine': 7666, 'flow': 3021, 'thk': 6996, 'plaza': 5463, 'typic': 7250, 'everywher': 2809, 'dirt': 2481, 'floor': 3018, 'window': 7665, 'shirt': 6242, 'sometim': 6449, 'mouth': 4778, 'dream': 2583, 'without': 7684, 'chore': 1978, 'joy': 4014, 'tv': 7225, 'exist': 2838, 'hail': 3430, 'mist': 4694, 'becom': 1450, 'aaooooright': 923, 'leav': 4250, 'hous': 3655, 'interview': 3862, 'boy': 1636, 'mear': 4580, 'annonc': 1159, '07046744435': 21, 'arrang': 1246, '0871277810810': 120, 'keep': 4077, 'safe': 6037, 'envi': 2753, 'everyon': 2804, 'parentsi': 5308, 'hand': 3445, 'excit': 2830, 'spend': 6518, 'bootydeli': 1600, '32f': 555, 'yes434': 7894, 'no434': 4978, 'wwwsmsacubootydeli': 7818, '62468': 720, 'bangbab': 1390, 'order': 5208, 'content': 2140, 'goto': 3325, 'bangb': 1389, 'internetservic': 3861, 'menu': 4616, 'cultur': 2251, 'modul': 4732, '09061701939': 219, 's89': 6028, 'avoid': 1333, 'missunderstd': 4693, 'wit': 7680, 'belov': 1482, 'escap': 2771, 'fanci': 2897, 'bridg': 1667, 'lager': 4190, 'complet': 2098, 'formclark': 3064, 'also': 1111, 'utter': 7376, 'wast': 7534, 'axi': 1343, 'bank': 1392, 'hmmm': 3588, 'hop': 3635, 'muz': 4837, 'discuss': 2494, 'liao': 4276, 'bloodi': 1561, 'hell': 3515, 'believ': 1475, 'surnam': 6768, 'mr': 4784, 'clue': 2030, 'spanish': 6501, 'bath': 1415, 'goodfin': 3302, 'youv': 7946, 'carlo': 1837, 'mall': 4509, 'stay': 6606, 'til': 7038, 'smoke': 6399, 'worth': 7746, 'log': 4348, 'spoke': 6543, 'maneesha': 4518, 'wed': 7565, 'satisfi': 6080, 'experi': 2845, 'toll': 7097, 'lift': 4293, 'especi': 2774, 'approach': 1209, 'studi': 6687, 'gr8': 3335, 'trust': 7200, 'guy': 3411, 'greatby': 3361, 'handsom': 3448, 'toward': 7149, 'net': 4916, 'mummi': 4822, 'where': 7625, 'boytoy': 1640, 'haha': 3426, 'awesom': 1338, 'minut': 4677, 'freephon': 3100, '0808': 60, '145': 346, '4742': 635, '9am11pm': 910, 'xma': 7845, 'radio': 5753, 'ju': 4021, 'si': 6288, 'uniqu': 7303, '30th': 545, 'august': 1310, 'wwwareyouuniquecouk': 7789, 'leagu': 4244, 'touch': 7145, 'deal': 2341, 'cours': 2187, 'howev': 3663, 'suggest': 6726, 'abl': 936, 'or': 5200, 'everi': 2799, 'stool': 6642, 'settl': 6186, 'wishin': 7677, 'mrng': 4786, 'hav': 3479, 'stori': 6653, 'hamster': 3444, 'dead': 2339, 'tmr': 7067, '1pm': 419, 'orchard': 5207, 'mrt': 4787, 'kate': 4066, 'babyjontet': 1360, 'found': 3070, 'enc': 2724, 'buck': 1711, 'darlin': 2310, 'colleg': 2063, 'refil': 5851, 'success': 6713, 'inr': 3840, 'ltdecimalgt': 4420, 'keralacircl': 4085, 'prepaid': 5593, 'balanc': 1379, 'rs': 6000, 'transact': 7164, 'kr': 4159, 'goodmorn': 3306, 'sleep': 6359, 'ga': 3164, 'alter': 1113, 'dat': 2315, 'ericsson': 2759, 'oso': 5222, 'cannot': 1813, 'oredi': 5210, 'straight': 6657, 'dogg': 2529, 'connect': 2129, 'refund': 5856, 'bill': 1519, 'shoot': 6256, 'big': 1515, 'readi': 5803, 'bruv': 1698, 'break': 1657, 'semest': 6157, 'kkgoodstudi': 4125, 'noe': 4988, 'leh': 4258, 'sound': 6487, 'head': 3488, 'slept': 6366, 'past': 5331, 'easi': 2648, 'ahsen': 1053, 'exam': 2826, 'march': 4529, 'gt': 3389, 'atm': 1291, 'regist': 5861, 'os': 5220, 'ubandu': 7253, 'instal': 3847, 'diskyou': 2496, 'import': 3781, 'file': 2961, 'system': 6815, 'repair': 5890, 'shop': 6257, 'romant': 5980, 'nite': 4968, 'sceneri': 6101, '500': 673, '89545': 881, 'todayfrom': 7080, 'www4tcbiz': 7786, '2optout': 517, '08718726270150gbpmtmsg18': 154, 'appreci': 1208, 'partner': 5320, 'career': 1829, 'flyng': 3028, 'horo': 3642, 'star': 6592, 'sign': 6298, 'ari': 1233, 'compani': 2088, 'elama': 2698, 'po': 5481, 'mudyadhu': 4812, 'strict': 6669, 'teacher': 6877, 'bcoz': 1436, 'teach': 6876, 'conduct': 2117, 'gandhipuram': 3176, 'walk': 7508, 'cross': 2227, 'road': 5967, 'side': 6294, 'street': 6663, 'rubber': 6009, 'batteri': 1419, 'die': 2453, 'yesher': 7902, 'flirt': 3015, '10p': 307, 'sam': 6053, '25': 463, 'recdthirtyeight': 5821, 'penc': 5360, 'print': 5626, 'upstair': 7340, 'closer': 2022, 'youwhen': 7948, 'wil': 7655, 'theori': 6969, 'argument': 1232, 'lose': 4379, 'argu': 1231, 'kick': 4098, '447801259231': 621, 'secret': 6134, 'admir': 995, 'ufind': 7257, 'rreveal': 5999, 'specialcal': 6509, '09058094597': 202, 'tomarrow': 7099, 'laptop': 4209, 'case': 1847, 'pleassssssseeeee': 5466, 'tel': 6891, 'avent': 1329, 'sportsx': 6551, 'shine': 6239, 'meant': 4578, 'although': 1115, 'told': 7093, 'baig': 1374, 'face': 2869, 'fr': 3077, 'thanx': 6944, 'everyth': 2806, 'uve': 7380, 'commerci': 2083, 'websit': 7563, 'slipper': 6371, 'kalli': 4052, 'bat': 1412, 'inning': 3834, 'goodnight': 3308, 'fix': 2995, 'wake': 7505, 'dearli': 2349, 'congratul': 2128, 'cd': 1867, 'voucher': 7471, '125gift': 331, 'music': 4830, '87066': 855, 'tnc': 7070, 'wwwldewcom1win150ppmx3age16': 7805, 'ranjith': 5778, 'cal': 1766, 'drpd': 2602, 'deeraj': 2374, 'deepak': 2371, '5min': 698, 'hold': 3605, 'bcum': 1438, 'angri': 1152, 'wid': 7646, 'dnt': 2516, 'coz': 2193, 'childish': 1956, 'true': 7195, 'deep': 2370, 'affect': 1014, 'care': 1827, 'kettoda': 4087, 'manda': 4514, 'doinghow': 2535, 'up': 7325, '3day': 575, 'ship': 6241, '2wk': 531, 'usp': 7372, 'lag': 4188, 'bribe': 1666, 'nipost': 4966, 'lemm': 4262, 'necessarili': 4896, 'expect': 2843, 'headin': 3490, 'mmm': 4708, 'jolt': 4005, 'suzi': 6776, 'lover': 4401, 'video': 7425, 'handset': 3447, '750': 768, 'anytim': 1183, 'min': 4660, 'unlimit': 7311, 'park': 5312, 'mini': 4668, 'disturb': 2503, 'luton': 4443, '0125698789': 5, 'ring': 5954, 'horni': 3640, 'nake': 4856, 'hot': 3649, '69698': 734, 'unsubscrib': 7322, 'dint': 2475, 'wana': 7520, 'sometm': 6451, 'club4mobilescom': 2029, 'choos': 1975, 'club': 2027, '87070': 856, '150pwk': 379, 'club4': 2028, 'box1146': 1620, 'mk45': 4705, '2wt': 532, 'evo': 2815, 'flash': 3003, 'jealou': 3965, 'singl': 6319, 'chart': 1905, 'qualiti': 5731, 'sort': 6481, 'narcot': 4868, 'sunni': 6742, 'ray': 5788, 'blue': 1568, 'bay': 1421, 'hmv': 3596, 'genuin': 3220, '86688': 852, 'infowww100percentrealcom': 3824, 'might': 4650, 'object': 5097, 'bf': 1507, 'rob': 5970, 'mack': 4476, 'gf': 3234, 'theater': 6958, 'celebr': 1873, 'full': 3145, 'swing': 6800, 'tool': 7122, 'far': 2900, 'oki': 5141, 'ahold': 1052, 'anybodi': 1174, 'throw': 7017, 'babi': 1357, 'cruisin': 2233, 'fone': 3040, 'jenni': 3972, 'ge': 3204, 'dearshal': 2354, 'tonitebusi': 7118, 'streetshal': 6664, 'toniteth': 7119, 'okvarunnathu': 5147, 'edukkukaye': 2670, 'raksha': 5768, 'ollubut': 5153, 'sens': 6166, 'gautham': 3188, 'stupid': 6696, 'cam': 1797, 'buzi': 1748, 'accident': 955, 'resend': 5905, 'tmobil': 7065, 'phone': 5409, 'upgrad': 7331, 'sim': 6307, 'card': 1824, 'loyalti': 4412, '0845': 67, '021': 14, '3680offer': 565, '28thfebtc': 481, 'unless': 7309, 'gurl': 3409, 'appropri': 1210, 'teas': 6881, 'plz': 5478, 'rose': 5986, 'grave': 3352, 'bslvyl': 1699, 'coffe': 2050, 'tomoc': 7102, 'somebodi': 6440, 'high': 3559, 'diesel': 2454, 'shit': 6243, 'shock': 6253, 'scari': 6099, 'imagin': 3770, 'def': 2375, 'somewher': 6453, 'taxi': 6860, 'fridg': 3114, 'meal': 4574, 'womdarful': 7710, 'actor': 979, 'blind': 1553, '4u': 665, 'rodds1': 5973, '21m': 450, 'aberdeen': 931, 'unit': 7305, 'kingdom': 4110, 'httpimg': 3678, 'acwicmb3cktz8r74': 981, 'hide': 3557, 'remb': 5878, 'book': 1593, 'jo': 3990, 'friendship': 3118, 'hang': 3449, 'thread': 7011, 'themob': 6963, 'newest': 4928, 'game': 3174, 'tone': 7109, 'gossip': 3319, 'sport': 6550, 'fit': 2992, 'funki': 3154, '82468': 817, 'garag': 3180, 'key': 4088, 'arent': 1226, 'bookshelf': 1596, 'accept': 952, 'dayu': 2335, 'sister': 6327, 'dear1': 2346, 'best1': 1494, 'clos1': 2018, 'lvblefrnd': 4450, 'jstfrnd': 4019, 'cutefrnd': 2270, 'lifpartnr': 4292, 'belovd': 1483, 'swtheart': 6806, 'bstfrnd': 1702, 'enemi': 2728, 'smart': 6386, '200': 433, 'weekli': 7575, '85222': 844, 'nowtc': 5054, 'winnersclub': 7669, 'box': 1619, '84': 833, 'm26': 4459, '3uz': 594, 'gbp150week': 3196, 'definit': 2378, '2day': 490, 'normal': 5019, 'waythi': 7549, 'uniquei': 7304, 'rest': 5919, 'mylif': 4841, 'wot': 7748, 'lost': 4382, 'made': 4483, 'kkadvanc': 4119, 'pongal': 5520, 'kb': 4072, 'power': 5558, 'yoga': 7918, 'dunno': 2627, 'tahan': 6826, 'anot': 1164, 'lo': 4339, 'dude': 2618, 'afraid': 1020, 'decemb': 2361, '11mth': 320, '08002986906': 57, 'cake': 1764, 'merri': 4623, 'christma': 1983, 'kiss': 4115, 'cud': 2247, 'ppl': 5560, 'gona': 3292, 'l8': 4171, 'buse': 1737, 'gon': 3291, 'waitin': 7502, 'pete': 5390, 'guild': 3404, 'bristol': 1679, 'problem': 5642, 'dahow': 2289, 'track': 7155, 'record': 5833, 'read': 5801, 'women': 7711, 'light': 4294, 'kkapo': 4121, 'kgood': 4094, 'movi': 4780, 'return': 5932, 'immedi': 3776, 'germani': 3225, 'line': 4307, 'via': 7418, 'access': 953, '0844': 64, '861': 849, '85': 840, 'prepay': 5595, 'evapor': 2791, 'violat': 7442, 'privaci': 5631, 'steal': 6611, 'employ': 2719, 'paperwork': 5296, 'report': 5897, 'supervisor': 6752, 'valentin': 7387, 'lifetim': 4290, '83600': 831, '150pmsg': 364, 'rcvd': 5795, 'custcare08718720201': 2264, 'tadaaaaa': 6824, 'dine': 2469, 'sleepingand': 6362, 'surf': 6765, 'post': 5545, 'wiv': 7688, 'carolin': 1839, 'favourit': 2922, 'stranger': 6660, 'interest': 3856, 'two': 7237, 'round': 5988, 'gudnitetcpractic': 3398, 'yiju': 7913, 'huim': 3696, 'num': 5067, 'small': 6384, 'prestig': 5608, 'shag': 6205, 'dointerest': 2537, 'sextextukcom': 6193, 'xxuk': 7852, '69876': 737, 'jeremiah': 3973, 'iphon': 3882, 'apeshit': 1189, 'ever': 2798, 'misbehav': 4680, 'slap': 6357, 'urself': 7357, 'fault': 2914, 'basic': 1408, 'figur': 2960, 'alcohol': 1078, 'jay': 3957, 'weed': 7570, 'ish': 3894, 'ago': 1040, 'wtf': 7777, 'callingforgot': 1791, 'onam': 5159, 'sirjii': 6325, 'met': 4638, 'insur': 3852, 'personmeet': 5385, 'insha': 3842, 'allahrakhesh': 1096, 'ex': 2823, 'tata': 6854, 'aig': 1057, 'tisscotays': 7054, 'cashbal': 1849, 'current': 2259, 'maxim': 4565, 'cashin': 1851, 'cc': 1864, '08708800282': 95, 'hgsuite3422land': 3551, 'roww1j6hl': 5992, 'unemploy': 7293, 'moment': 4739, 'st': 6578, 'andrewsboy': 1149, 'cold': 2056, 'chikku': 1946, 'chikkudb': 1949, 'audrey': 1308, 'statu': 6605, 'forward': 3069, 'dawn': 2325, 'refresh': 5855, 'aliv': 1091, 'breath': 1661, 'air': 1060, 'updatenow': 7330, 'motorola': 4775, 'sonyericsson': 6463, 'bluetooth': 1569, 'orang': 5204, 'mobileupd8': 4724, '08000839402': 51, 'call2optoutf4q': 1775, 'discount': 2492, 'rp176781': 5995, 'wwwregalportfoliocouk': 7812, '08717205546': 142, 'uniform': 7301, 'geeee': 3206, 'woke': 7707, 'cuddl': 2248, 'spoil': 6541, 'agre': 1042, 'will': 7659, 'refer': 5848, 't91': 6816, 'gbp': 3195, '09057039994': 193, 'seen': 6145, 'mei': 4596, 'didt': 2452, 'recognis': 5832, 'lindsay': 4306, 'sigh': 6296, 'bar': 1396, 'ptbo': 5696, 'heron': 3543, 'payasam': 5343, 'rinu': 5960, 'bring': 1676, 'taught': 6857, 'becau': 1448, 'project': 5663, 'prabu': 5568, 'mistak': 4695, 'bodi': 1580, 'quit': 5741, 'slow': 6378, 'guid': 3402, 'ovul': 5255, 'relax': 5869, 'reason': 5814, 'followin': 3037, 'coupl': 2184, 'wallet': 7512, '945': 901, '6month': 750, 'call2optoutn9dx': 1780, 'owl': 5259, 'lick': 4282, 'mm': 4707, '4mth': 653, 'rental': 5888, 'mobilesdirect': 4722, '08000938767': 53, 'or2stoptxt': 5202, 'huh': 3694, 'sat': 6076, 'intro': 3867, 'pilat': 5430, 'kickbox': 4099, 'offic': 5115, 'lap': 4207, 'shut': 6287, 'bout': 1615, '730ish': 764, 'calcul': 1767, 'monthnot': 4757, 'period': 5376, 'actual': 980, 'rock': 5972, 'put': 5719, 'pictur': 5423, 'ass': 1271, 'facebook': 2871, 'al': 1072, 'salam': 6045, 'wahleykkumshar': 7498, 'newsbi': 4932, 'grace': 3339, 'god': 3275, 'tayseertissco': 6864, 'joinedhop': 3998, 'fineinshah': 2974, 'allahmeet': 1095, 'sometimerakheshvisitor': 6450, 'india': 3806, 'hmmmkbut': 3592, 'field': 2951, 'quickli': 5739, 'dai': 2290, 'administr': 994, '87131': 859, 'poli': 5509, '2814032': 477, '1st': 421, '3x': 597, '150pw': 378, 'nd': 4887, 'chechi': 1916, 'cream': 2211, 'none': 5006, 'yep': 7891, 'loxahatche': 4410, 'tree': 7180, 'stoner': 6641, 'slightli': 6369, 'disastr': 2488, 'pm': 5479, 'fav': 2917, 'wld': 7698, 'drink': 2591, 'busetop': 1738, 'messagesom': 4633, 'sendernam': 6163, 'sentdat': 6171, 'fullonsmscom': 3146, 'iron': 3888, 'yan': 7871, 'jiu': 3988, 'skip': 6349, 'den': 2395, 'blah': 1542, 'wendi': 7594, '09064012103': 235, 'box334sk38ch': 1626, 'whatsup': 7616, 'goal': 3272, '250': 464, 'competit': 2093, '80086': 797, 'wwwtxttowincouk': 7832, 'logo': 4350, 'name1': 4860, 'name2': 4861, 'mobno': 4725, 'adam': 983, 'eve': 2792, '07123456789': 26, 'yahoo': 7867, 'pobox36504w45wq': 5490, 'txtno': 7245, 'ad': 982, '150p': 356, 'yesfrom': 7899, '09111032124': 287, 'pobox12n146tf150p': 5487, 'siva': 6334, 'hostel': 3647, 'aha': 1045, '09058094455': 197, 'land': 4198, '3030': 542, 'voic': 7464, 'express': 2856, '1childish': 404, '2naughti': 511, '3sentiment': 590, '4rowdi': 657, '5ful': 692, 'attitud': 1299, '6romant': 753, '7shi': 787, '8attract': 886, '9funni': 912, 'irrit': 3889, 'shell': 6228, 'aathiwher': 925, 'urin': 7353, 'esplanad': 2776, 'mind': 4663, 'wnt': 7703, 'bmw': 1575, 'urgentlyit': 7349, 'vri': 7475, 'urgentbut': 7348, 'hv': 3718, 'shortag': 6265, 'lacsther': 4184, 'sourc': 6490, 'arng': 1239, 'amt': 1138, 'lacsthat': 4183, 'fifteen': 2955, 'fuck': 3137, 'respond': 5917, '3650': 562, '09066382422': 266, '3min': 584, 'vari': 7395, '300603': 539, 'bcm4284': 1434, 'ldn': 4237, 'wc1n3xx': 7552, 'hillsborough': 3564, 'th': 6935, 'askin': 1267, 'dollar': 2541, 'shoul': 6270, 'iouri': 3877, 'ten': 6904, 'applebe': 1202, 'txtjourney': 7244, 'gdnow': 3202, '50': 672, 'yesh': 7901, 'greatbhaji': 3360, 'cricket': 2221, 'sachin': 6030, 'worldveri': 7738, 'tough': 7146, 'suppos': 6760, 'oic': 5132, 'tot': 7142, 'din': 2468, 'group': 3378, 'wereth': 7602, 'monkeespeopl': 4747, 'monkeyaround': 4749, 'howdi': 3662, 'gorgeou': 3317, 'blimey': 1552, 'exercis': 2834, 'kinda': 4107, 'hmm': 3586, 'concentr': 2111, '10': 290, 'hank': 3452, 'lotsli': 4386, 'kkwhat': 4130, 'detail': 2423, 'transferacc': 7167, 'optimist': 5196, 'improv': 3787, 'purpos': 5714, '75000': 769, 'homeown': 3618, 'tenant': 6905, 'welcom': 7586, 'previous': 5616, 'refus': 5858, '1956669': 402, 'oreo': 5211, 'truffl': 7197, 'ami': 1125, 'ure': 7345, 'beauti': 1445, 'intellig': 3853, 'woman': 7709, 'result': 5927, 'consist': 2134, 'kind': 4106, 'practicum': 5571, 'ear': 2640, 'ttyl': 7212, 'bad': 1367, 'thru': 7020, 'differ': 2457, 'feelingwav': 2935, 'decis': 2364, 'cope': 2159, 'individualtim': 3811, 'heal': 3493, 'upgrdcentr': 7332, '0207': 8, '153': 385, '9153': 898, '26th': 473, 'juli': 4026, 'optout': 5199, 'bye': 1757, 'railway': 5758, 'princess': 5625, 'oral': 5203, 'doggi': 2530, 'style': 6698, 'fave': 2918, 'posit': 5541, 'enjoy': 2736, 'slipperi': 6372, 'bike': 1518, 'mani': 4521, 'languag': 4204, 'okmail': 5142, 'dave': 2322, 'notic': 5030, 'tenerif': 6907, '09061743806': 222, 'sae': 6035, 'box326': 1624, 'cw25wx': 2275, 'scream': 6117, 'remov': 5884, 'flat': 3004, 'transfer': 7166, 'differb': 2458, '9ja': 913, 'moan': 4717, '69888nyt': 739, 'broken': 1686, 'cum': 2252, 'infront': 3826, 'wise': 7675, '9t': 915, 'aathilov': 924, 'tension': 6909, 'ahwhat': 1055, 'machiani': 4473, '8th': 894, 'whenr': 7623, 'mcr': 4573, 'sec': 6131, 'tast': 6852, 'fb': 2923, 'jaykwon': 3959, 'thuglyf': 7024, 'falconerf': 2888, 'term': 6911, 'condit': 2115, 'visit': 7451, 'www07781482378com': 7785, 'depend': 2403, 'fade': 2875, 'glori': 3260, 'ralph': 5770, 'dri': 2590, 'trade': 7157, 'sorryin': 6480, 'reunion': 5933, 'nowcan': 5044, 'meh': 4595, 'nope': 5013, 'monday': 4741, 'accentur': 951, 'jackson': 3936, 'rec': 5819, 'center': 1876, '7ish': 782, 'fight': 2958, 'either': 2693, 'fightng': 2959, 'some1': 6439, 'dificult': 2461, 'nuerologist': 5066, 'lolnic': 4357, 'fish': 2989, 'water': 7540, '123': 327, '1450': 347, '09050002311': 186, 'b4280703': 1349, 'tcsstop': 6872, '08718727868': 159, 'bore': 1602, 'outsid': 5244, 'westshor': 7608, 'hyde': 3723, 'villag': 7440, 'near': 4889, 'anthoni': 1171, 'fee': 2931, 'rent': 5887, 'signific': 6300, 'opinion': 5187, 'jada': 3938, 'kusruthi': 4166, 'silent': 6304, 'spl': 6533, 'charact': 1898, 'matur': 4561, 'stylish': 6699, 'simpl': 6309, 'gs': 3386, 'scroung': 6120, 'ammo': 1129, 'ak': 1069, 'prabhaim': 5567, 'sorydarealyfrm': 6484, 'sori': 6475, 'forgiven': 3056, 'nojst': 4996, 'tat': 6853, '40gb': 606, 'ipod': 3883, 'mp3': 4782, '83355': 827, 'ibhltd': 3729, 'ldnw15h': 4238, '150pmtmsgrcvd18': 369, 'sno': 6416, 'boltblu': 1586, 'mono': 4751, 'poly3': 5514, 'cha': 1884, 'slide': 6368, 'jamz': 3946, 'toxic': 7152, 'httpwwwbubbletextcom': 3681, 'renew': 5886, 'pin': 5435, 'tgxxrz': 6934, 'transport': 7169, 'less': 4268, 'problemat': 5643, 'no': 4975, 'unconsci': 7283, 'children': 1958, 'adult': 1004, 'behav': 1472, 'abnorm': 937, 'ebay': 2658, 'elsewher': 2708, 'shall': 6211, 'pickl': 5421, 'taco': 6821, 'rude': 6010, 'campu': 1803, '020903': 13, 'attempt': 1295, '08718729755': 161, 'box95qu': 1634, '85023': 842, 'savamob': 6086, 'member': 4605, 'cs': 2235, '08717898035': 148, '300': 537, 'sub': 6701, 'unsub': 7321, 'pretti': 5612, 'ladi': 4186, 'reciev': 5830, 'within': 7683, '24hr': 460, 'channel': 1894, 'teletext': 6893, 'pg': 5396, 'doublefaggot': 2562, '2003': 436, '07815296484': 40, '800': 792, '08718738001': 165, '41782': 610, '181104': 395, 'todaysundaysunday': 7083, 'holidayso': 3610, 'l8r': 4173, 'malaria': 4506, 'bani': 1391, 'lead': 4240, 'passion': 5326, 'across': 972, 'sea': 6127, 'probabl': 5641, 'lt': 4417, 'fat': 2909, 'finger': 2977, 'button': 1745, 'ummmmmaah': 7275, 'tirupur': 7053, 'wwwapplausestorecom': 7788, 'monthlysubscription50pmsg': 4756, 'max6month': 4564, 'tcsc': 6871, 'web': 7558, 'age16': 1033, '2stop': 523, 'famou': 2895, 'develop': 2428, 'abil': 933, 'listen': 4322, 'uncondit': 7282, 'temper': 6902, 'self': 6151, 'confid': 2120, 'marri': 4538, 'oclock': 5105, 'mine': 4665, 'bash': 1407, 'recoveri': 5835, 'rather': 5784, 'coop': 2156, 'hotel': 3650, 'cali': 1768, 'english': 2735, 'bloke': 1556, 'weddin': 7566, 'omw': 5158, 'btw': 1708, 'alibi': 1090, 'sink': 6320, 'pace': 5268, 'cage': 1763, 'cock': 2045, 'surround': 6771, 'remind': 5883, 'own': 5260, 'cuck': 2246, 'hurri': 3711, 'weeddefici': 7571, 'three': 7013, 'acknowledg': 968, 'astoundingli': 1280, 'tactless': 6823, 'gener': 3213, 'faggi': 2876, 'demand': 2394, 'blood': 1559, 'oath': 5093, 'fo': 3032, 'warm': 7527, 'milk': 4655, 'magic': 4492, 'loos': 4373, 'weight': 7578, 'pan': 5282, 'cheap': 1913, 'perhap': 5374, 'silli': 6305, 'uv': 7379, 'mutat': 4836, 'sunscreen': 6745, 'essenti': 2778, 'theseday': 6977, 'lunchyou': 4440, 'onlinewhi': 5169, 'pic': 5419, 'aiyo': 1067, 'fast': 2905, 'workin': 7732, 'bao': 1395, 'sugardad': 6725, 'ahge': 1047, 'meim': 4597, 'browni': 1692, 'geeeee': 3207, 'bare': 1399, '2mrw': 510, 'ninish': 4964, 'icki': 3740, 'american': 1124, 'freek': 3093, 'callin': 1790, 'jen': 3970, 'oooh': 5180, 'ridden': 5947, 'ey': 2863, 'gym': 3415, 'whatev': 7615, 'daddi': 2285, 'dick': 2446, 'missi': 4687, 'yar': 7872, 'mum': 4819, 'sch': 6102, 'clean': 2009, 'lab': 4179, 'goggl': 3281, 'door': 2554, 'call09050000327': 1772, '09050005321': 188, 'arngd': 1240, 'marriag': 4539, 'walkin': 7510, 'unfortuntli': 7297, 'snake': 6409, 'bite': 1535, 'danc': 2297, 'frnt': 3127, 'sayin': 6092, 'izzit': 3930, 'textand': 6926, '08002988890': 58, 'exwif': 2862, 'kid': 4101, 'jjc': 3989, 'tendenc': 6906, 'headach': 3489, 'jazz': 3961, 'yogasana': 7919, 'em': 2710, 'meiv': 4598, 'hardli': 3466, 'gotani': 3323, 'srsli': 6573, 'yi': 7911, 'spree': 6558, '80878': 807, 'tsc': 7206, 'wwwtxt2shopcom': 7829, 'custcar': 2263, '08715705022': 139, '1x150pwk': 430, '08712402050': 108, '10ppm': 309, 'ag': 1028, 'promo': 5668, '07753741225': 31, '08715203677': 134, '42478': 614, '241004': 458, 'grand': 3344, 'prix': 5633, 'nitz': 4972, 'announc': 1160, '542': 687, '0825': 63, 'exhaust': 2836, 'train': 7160, 'pie': 5425, 'present': 5601, 'ar': 1219, 'blastin': 1547, 'tsunami': 7210, 'occur': 5103, 'rajnik': 5766, 'swim': 6798, 'indian': 3807, 'oceand': 5104, 'noon': 5010, 'xclusiveclubsaisai': 7843, '2morow': 505, '285': 478, 'soire': 6433, 'zouk': 7974, 'nichol': 4944, 'parisfre': 5310, '0794674629107880867867': 44, 'bridgwat': 1668, 'banter': 1394, 'neva': 4922, 'imma': 3775, 'somethin': 6448, '22': 452, 'euro2004': 2787, 'daili': 2291, '83222': 824, 'que': 5733, 'suit': 6727, 'bestrpli': 1496, 'thanx4': 6945, 'cer': 1879, 'often': 5125, 'soonc': 6466, 'himthen': 3566, 'futur': 3158, 'hundr': 3700, 'aunti': 1312, 'shuhui': 6285, 'leona': 4266, 'reaction': 5800, 'famili': 2892, 'snow': 6419, 'weather': 7557, 'togeth': 7086, 'grow': 3379, 'dismay': 2498, 'alex': 1083, 'concern': 2112, 'pub': 5698, 'bud': 1712, 'offici': 5120, 'paid': 5275, 'market': 4535, 'tootsi': 7128, 'pop': 5530, 'longer': 4364, 'darren': 2312, 'textbuddi': 6928, 'area': 1225, '25p': 468, 'postcod': 5548, 'gaytextbuddycom': 3192, '89693': 883, 'vodafon': 7462, '4882': 637, '09064019014': 241, 'seventeen': 6188, 'seven': 6187, 'ml': 4706, 'holder': 3606, 'pc': 5349, 'httpwwwetlpcoukexpressoff': 3682, 'apply2': 1206, '80062': 794, 'funni': 3155, 'sweetheart': 6794, 'biola': 1525, 'login': 4349, 'dad': 2284, 'fetch': 2943, 'restock': 5921, 'thanksgiv': 6941, 'effect': 2676, 'brighten': 1671, 'wee': 7569, 'thursday': 7026, 'allo': 1099, 'brave': 1651, 'taken': 6833, 'triumph': 7188, 'jolli': 4004, 'cartoon': 1846, 'templ': 6903, 'church': 1988, 'uncomfort': 7281, '08715203694': 136, '40533': 605, '311004': 549, 'email': 2711, 'rstm': 6003, 'sw7': 6778, '3ss': 591, 'gentl': 3216, 'sonetim': 6459, 'rough': 5987, 'panic': 5286, 'tuesday': 7214, 'wesley': 7603, 'town': 7150, 'bet': 1497, 'hella': 3516, 'drug': 2603, 'dealer': 2342, 'impati': 3779, 'sun': 6737, 'earth': 2646, 'cloud': 2025, 'river': 5965, 'evng': 2814, 'wikipediacom': 7654, '88800': 871, '89034': 876, 'premium': 5592, '08718711108': 149, 'lay': 4234, 'envelop': 2752, 'paper': 5295, 'repent': 5892, 'de': 2338, 'prepar': 5594, 'kama': 4054, 'sutra': 6774, 'en': 2722, 'nang': 4865, 'bakra': 1377, 'kalstiyathen': 4053, 'teacoffe': 6878, 'carlosl': 1838, 'lakh': 4193, 'ho': 3598, 'belli': 1479, 'laugh': 4227, 'sun0819': 6738, 'helloy': 3522, '20': 432, 'opt': 5195, '08452810071': 69, 'ditto': 2505, 'peac': 5351, 'knw': 4147, 'wetherspoon': 7610, 'piggi': 5429, 'awak': 1335, 'freaki': 3086, 'yell': 7886, 'scrappi': 6115, 'lone': 4361, 'hex': 3548, 'explain': 2851, 'sdryb8i': 6125, 'xy': 7862, 'sue': 6719, 'lapdanc': 4208, 'sex': 6190, 'bedroom': 1456, '89555': 882, 'textoper': 6931, 'g2': 3162, '1da': 406, '150ppmsg': 373, 'king': 4109, 'build': 1720, 'map': 4525, 'imprtant': 3788, 'tomorw': 7107, 'dearm': 2351, 'cherthalain': 1934, 'cochin': 2044, 'bfore': 1509, 'starti': 6598, 'accordinglyor': 961, 'comingtmorow': 2080, 'engag': 2731, 'an': 1141, 'torch': 7135, 'bold': 1583, '448712404000pleas': 623, '08712404000': 113, 'farm': 2901, '4d': 642, '1405': 344, '1680': 389, '1843': 396, 'law': 4232, 'purchas': 5710, 'poop': 5526, 'gpu': 3334, 'entrepreneur': 2747, 'corpor': 2163, 'gap': 3179, 'ku': 4163, 'prevent': 5613, 'dehydr': 2382, 'fluid': 3023, 'weird': 7581, 'idea': 3745, 'deari': 2348, 'soso': 6485, 'smsd': 6403, 'away': 1337, 'trek': 7181, 'harri': 3470, 'drivin': 2596, 'fantast': 2899, 'ngage': 4937, 'deck': 2365, 'wwwcnupdatescomnewslett': 7796, 'alert': 1080, 'height': 3512, 'aeronaut': 1010, 'professor': 5658, 'wer': 7598, 'calld': 1785, 'sit': 6328, 'aeroplan': 1011, 'aftr': 1027, 'ws': 7774, 'student': 6685, 'dey': 2432, 'saidif': 6042, 'shitstorm': 6248, 'attribut': 1302, '08714712388': 125, '10am7pm': 304, 'stress': 6665, 'dorm': 2555, 'sell': 6155, '449071512431': 625, 'uu': 7377, '1250': 330, '09071512433': 271, 'b4': 1347, '050703': 15, 'tcsbcm4235wc1n3xx': 6870, 'callcost': 1783, 'mobilesvari': 4723, 'max': 4562, 'sth': 6625, 'spec': 6507, 'px3748': 5723, '08714712394': 126, 'macha': 4471, 'upseti': 7338, 'assum': 1276, 'mindsetbeliev': 4664, 'uslet': 7368, 'againcal': 1029, 'sfine': 6198, 'wondar': 7712, 'flim': 3012, 'cooki': 2153, 'jelli': 3969, 'stillmayb': 6632, 'sameso': 6057, 'itor': 3915, 'admiti': 998, 'madthen': 4487, 'correctionor': 2166, 'lifeand': 4286, 'worldmay': 7737, 'runninglet': 6020, 'scrumptiou': 6121, 'ba': 1351, 'dao': 2303, 'half8th': 3437, 'exactli': 2825, 'jide': 3987, 'alertfrom': 1081, 'jeri': 3974, 'stewarts': 6623, '2kbsubject': 502, 'lowcost': 4408, 'prescripiton': 5598, 'drvgsto': 2609, 'spring': 6559, 'yay': 7877, 'steak': 6610, 'convincingjust': 2151, 'twice': 7231, 'neglect': 4908, 'itjust': 3907, 'tonit': 7117, 'opportunityal': 5191, 'fastpl': 2908, 'add': 984, 'prayer': 5582, 'dearrakhesh': 2352, 'offerth': 5114, 'nokia6650': 5001, 'txtauction': 7240, '81151': 809, '4tctxt': 659, '150pmtmsg': 368, 'rite': 5963, 'gd': 3201, 'faster': 2906, 'gal': 3168, 'attach': 1293, 'glad': 3254, 'hadnt': 3423, 'clock': 2017, 'shout': 6273, 'realis': 5808, 'wahay': 7495, 'shorter': 6267, 'gaze': 3193, 'eye': 2864, '930': 900, 'subscrib': 6706, '82324': 816, 'helplin': 3529, '08706091795': 88, 'weve': 7611, 'spoken': 6544, 'gist': 3249, '40': 599, 'thousand': 7009, 'tattoo': 6855, 'premier': 5591, 'gimm': 3242, 'lip': 4318, 'caveboy': 1862, 'librari': 4281, 'reali': 5807, 'sorryi': 6479, 'confus': 2126, 'holla': 3611, 'anyon': 1177, 'spare': 6502, 'faith': 2882, 'possiblehop': 5544, 'worklov': 7733, 'beautifulmay': 1446, 'christmasmerri': 1984, 'youcarlo': 7924, 'isar': 3892, 'vibrat': 7420, 'act': 974, 'pari': 5309, '79': 778, '08704439680tsc': 87, 'grandma': 3346, 'hungov': 3702, 'unclaim': 7280, '09066368327': 262, 'closingdate040902': 2023, 'claimcod': 1999, 'm39m51': 4461, '150pmmorefrommobile2bremovedmobypobox734ls27yf': 363, 'gua': 3390, 'mt': 4802, 'faber': 2868, 'yest': 7906, 'ma': 4465, 'advanc': 1005, 'citi': 1993, 'summer': 6733, 'store': 6651, '88039': 864, 'skilgm': 6342, 'tscs087147403231winawkage16': 7208, '150perwksub': 359, 'goin': 3283, 'meetin': 4592, 'ti': 7028, 'theyr': 6983, 'dramat': 2578, 'appar': 1197, 'anywher': 1185, 'damn': 2294, 'hunt': 3710, 'drunkard': 2607, 'idc': 3743, 'weasel': 7556, 'row': 5991, 'space': 6496, 'trash': 7170, 'beg': 1467, 'sing': 6317, 'slave': 6358, 'punish': 5706, 'beerag': 1462, '0578': 16, 'randomlli': 5776, 'couldnt': 2179, 'she': 6224, 'diff': 2456, 'perfect': 5371, 'commun': 2086, '100psm': 297, 'polyphon': 5518, '087018728737': 81, 'toppoli': 7133, 'tune': 7220, 'subpoli': 6705, '81618': 811, 'pole': 5508, '08718727870': 160, 'fondli': 3039, 'bein': 1474, 'thot': 7004, 'ywhere': 7962, 'dogbreath': 2528, 'jan': 3947, 'omg': 5157, 'weigh': 7577, 'woohoo': 7719, 'uncount': 7285, 'dictionari': 2448, 'piec': 5426, '9996': 907, '14thmarch': 349, 'availa': 1321, 'petey': 5392, 'wherear': 7626, 'friendsar': 3117, 'thekingshead': 6961, 'canlov': 1811, 'nic': 4941, 'pobox84': 5494, 'm263uz': 4460, 'appt': 1213, 'lttimegt': 4424, 'no1': 4976, '8077': 806, 'mate': 4551, 'wwwgetzedcouk': 7802, '36504': 563, 'w45wq': 7486, 'norm150pton': 5018, 'cashto': 1852, '08000407165': 49, 'getstop': 3231, '88222': 868, 'php': 5415, 'rg21': 5939, '4jx': 651, 'dled': 2513, '3d': 574, 'imp': 3778, 'aint': 1059, 'smokin': 6400, 'boooo': 1597, 'bec': 1447, 'ugh': 7259, 'ssnervou': 6577, 'costum': 2173, 'gift': 3239, 'yowif': 7950, 'hint': 3567, 'borrow': 1606, 'bag': 1371, 'outbid': 5234, 'simonwatson5120': 6308, 'shinco': 6237, 'plyr': 5477, 'bid': 1514, 'acsmsreward': 973, 'notif': 5031, 'model': 4729, 'youi': 7930, 'galileo': 3170, 'dobbi': 2518, 'boo': 1591, 'enjoyin': 2737, 'yourjob': 7941, 'gettin': 3232, 'hunnyhop': 3707, 'oktak': 5145, 'llspeak': 4334, '2u': 526, 'soonlot': 6468, 'lovem': 4400, 'xxxx': 7856, 'starshin': 6595, 'ach': 964, 'sip': 6321, 'cappuccino': 1821, 'smsservic': 6405, 'yourinclus': 7940, 'wwwcomuknet': 7797, '3qxj9': 588, 'extra': 2859, '08702840625comuk': 85, '220cm2': 453, '9ae': 908, 'alfi': 1084, 'moon': 4759, 'm8': 4463, 'chariti': 1901, '8007': 795, 'zed': 7967, '08701417012': 76, 'profit': 5660, 'hahahaus': 3427, 'brain': 1644, 'green': 3365, 'burial': 1732, 'mojibiola': 4735, 'reveal': 5934, '09065174042': 247, 'recd': 5820, 'cust': 2262, '07821230901': 41, 'rv': 6023, 'roadsrvx': 5968, 'skype': 6353, 'kz': 4170, 'sura': 6763, 'given': 3252, 'ultimatum': 7271, 'countin': 2181, 'aburo': 945, 'five': 2994, '08002888812': 55, 'inconsider': 3797, 'nag': 4851, 'recess': 5827, 'henc': 3532, 'voucherstext': 7472, 'nowsavamobmemb': 5050, 'soo': 6464, 'understand': 7288, '2morrow': 507, 'comprehens': 2103, 'prashanthettan': 5580, 'mother': 4770, '09066350750': 252, 'ibiza': 3730, '10000': 293, 'await': 1334, '434': 617, 'sk3': 6338, '8wp': 895, 'ppm': 5563, 'kkwhen': 4131, 'meanwhil': 4579, 'xavier': 7841, 'warn': 7528, 'samantha': 6055, 'guitar': 3406, 'impress': 3786, 'doug': 2566, 'stomach': 6638, 'trauma': 7171, 'swear': 6789, 'officewhat': 5119, 'mattermsg': 4559, 'nowi': 5045, 'shoe': 6254, 'wan': 7518, 'inner': 3833, 'tigress': 7035, 'version': 7414, 'poor': 5527, 'babyhop': 1359, 'urfeel': 7346, 'bettersn': 1502, 'probthat': 5649, 'overdos': 5250, 'spk': 6532, 'sn': 6408, 'lovejen': 4399, 'fall': 2889, 'discreet': 2493, 'vip': 7445, '83110': 822, 'hai': 3429, 'ana': 1142, 'sathi': 6078, 'rto': 6006, 'spoon': 6548, 'tampa': 6844, 'geniu': 3214, 'whenev': 7621, 'lotta': 4387, 'corvett': 2169, 'suppli': 6755, 'virgin': 7447, 'mysteri': 4845, '09061104283': 211, 'wwwsmsconet': 7823, 'approx': 1212, 'wall': 7511, 'bunker': 1728, 'matter': 4558, '07808': 37, 'xxxxxx': 7858, '08719899217': 174, '41685': 609, '071104': 25, 'posh': 5539, 'bird': 1526, 'chap': 1895, 'user': 7364, 'trial': 7184, 'prod': 5654, 'champney': 1891, 'dob': 2517, 'asap': 1257, '0721072': 27, 'philosoph': 5405, 'hole': 3607, 'goodno': 3310, 'problembut': 5644, 'drop': 2600, 'nap': 4867, 'atleast': 1290, 'otherwis': 5225, 'shakespear': 6210, 'shesil': 6231, '10k': 306, '5k': 697, 'travel': 7173, '09064011000': 234, 'ntt': 5061, 'cr01327bt': 2198, 'fixedlin': 2997, 'castor': 1854, 'liverpool': 4331, 'mid': 4647, '09058094565': 199, '09065171142stopsms08': 245, 'httpdoit': 3676, 'mymobi': 4842, 'knew': 4138, 'woul': 7751, 'curfew': 2257, 'gibe': 3238, 'midnight': 4649, 'getsleep': 3230, 'studdi': 6684, 'massag': 4544, 'oil': 5133, 'sup': 6748, 'yoyyooo': 7951, 'permiss': 5379, 'mac': 4469, 'usb': 7359, 'gibb': 3237, 'unsoldmik': 7319, 'hussey': 3715, 'fail': 2878, 'sad': 6034, 'unbeliev': 7278, 'faglord': 2877, 'wifehow': 7651, 'murder': 4827, 'nutter': 5077, 'cutter': 2273, 'ctter': 2244, 'cttergg': 2245, 'cttargg': 2243, 'ctargg': 2240, 'ctagg': 2239, 'ie': 3753, 'thu': 7023, 'superb': 6750, 'grate': 3351, 'opportun': 5190, 'happier': 3459, 'agent': 1037, 'due': 2620, 'sever': 6189, 'outstand': 5245, 'invoic': 3875, 'possibl': 5543, 'smell': 6392, 'tobacco': 7073, 'derek': 2408, 'taylor': 6863, 'worst': 7745, 'charl': 1902, 'lastest': 4218, 'stereophon': 6618, 'marley': 4536, 'dizze': 2511, 'racal': 5750, 'libertin': 4280, 'stroke': 6674, 'nookii': 5009, 'bookmark': 1595, 'plu': 5472, 'grinul': 3371, 'greet': 3367, 'white': 7635, 'fudg': 3140, 'januari': 3951, 'male': 4508, 'sale': 6047, 'gay': 3190, 'cheaper': 1914, '08709222922': 96, '15pmin': 387, '78pmin': 777, 'peak': 5353, '08712460324': 116, '10pmin': 308, 'zaher': 7964, 'ym': 7915, 'nauseou': 4882, 'piss': 5440, 'pig': 5428, 'diet': 2455, 'chip': 1969, 'iam': 3727, 'addict': 987, 'msging': 4792, 'wrong': 7770, 'photo': 5413, 'yck': 7878, 'ashley': 1261, 'avalarr': 1324, 'hollalat': 3612, 'attend': 1297, 'todaybut': 7078, 'websitenow': 7564, 'blog': 1555, 'magicalsongsblogspotcom': 4493, 'chikkuil': 1951, 'ate': 1285, 'kvb': 4167, 'acc': 949, '88600': 870, '1million': 414, 'ppt150x3normal': 5565, 'box403': 1629, 'w1t1ji': 7484, 'fridayhop': 3113, 'alternativehop': 1114, 'ore': 5209, 'mo': 4716, 'owo': 5262, 'fro': 3128, 'wherev': 7628, 'samu': 6058, 'shoulder': 6271, 'matthew': 4560, '09063440451': 230, '4lux': 652, 'ppm150': 5564, 'box334': 1625, 'sk38xh': 6339, 'wear': 7555, 'jean': 3966, 'fever': 2944, 'vomitin': 7469, 'kkare': 4122, '09061749602': 226, '528': 683, 'hp20': 3668, '1yf': 431, 'stuf': 6690, 'bleh': 1549, 'least': 4247, 'writh': 7763, 'ton': 7108, 'paypal': 5348, 'voila': 7466, 'pocket': 5499, 'medic': 4586, 'folk': 3035, '150psm': 375, 'sorta': 6482, 'blown': 1566, 'score': 6109, 'sopha': 6473, 'secondari': 6133, 'applic': 1205, 'ogunrind': 5127, 'expens': 2844, '08718720201': 150, '11414': 315, 'tcrw1': 6869, 'lodg': 4347, 'chk': 1971, 'ms': 4789, 'dict': 2447, 'shb': 6222, 'truth': 7201, 'graviti': 3355, 'heavi': 3507, 'bowl': 1618, 'filthi': 2965, 'ull': 7269, 'brand': 1648, 'simpler': 6310, 'welp': 7592, 'retir': 5930, 'natwest': 4880, '09050001808': 185, 'm95': 4464, 'valid12hr': 7389, 'chad': 1886, 'gymnast': 3416, 'site': 6329, 'christian': 1982, 'backa': 1364, 'necklac': 4898, 'token': 7091, 'youthat': 7943, 'wife': 7649, 'likingb': 4300, 'seeno': 6146, 'thatdont': 6951, 'aptitud': 1217, '215': 448, 'hors': 3644, 'race': 5751, 'earlier': 2642, 'chicken': 1943, 'rice': 5944, 'wrongli': 7771, 'crap': 2205, 'borin': 1603, 'boggi': 1581, 'biatch': 1513, 'nxt': 5082, 'il': 3763, 'hesit': 3547, 'notebook': 5026, 'salari': 6046, 'chocol': 1973, 'daysh': 2331, 'potenti': 5552, 'talent': 6836, 'reckon': 5831, 'eightish': 2691, 'carpark': 1841, '3g': 577, 'videophon': 7428, '09063458130': 232, 'videochat': 7426, 'java': 3956, 'dload': 2515, 'polyph': 5517, 'nolin': 5002, 'rentl': 5889, 'fuckin': 3138, 'yun': 7956, 'ahth': 1054, 'ubi': 7254, 'tomorrowcal': 7105, '67441233': 728, 'ireneer': 3886, 'bus822656166382': 1736, 'cresubi': 2218, 'tech': 6882, 'park6ph': 5313, '5wkg': 708, 'sd': 6123, 'butt': 1743, 'sore': 6474, '7am': 779, 'parti': 5316, '5ish': 696, 'stripe': 6673, 'skirt': 6350, 'miracl': 4678, 'jesu': 3979, 'escal': 2770, 'yetund': 7910, 'quiet': 5740, 'beth': 1499, 'aunt': 1311, 'charli': 1903, 'helen': 3514, 'nobut': 4987, 'heard': 3498, 'syllabu': 6808, 'panason': 5284, 'bluetoothhdset': 1570, 'doublemin': 2563, 'doubletxt': 2564, 'contract': 2143, '730pm': 765, 'poyyarikaturkolathupalayamunjalur': 5559, 'posterod': 5549, 'heroi': 3542, 'apt': 1216, 'opportunitypl': 5192, 'ltemailgt': 4422, 'kerala': 4084, 'terribl': 6915, 'fan': 2896, 'meat': 4582, 'suprem': 6761, 'toldsh': 7094, 'dearregret': 2353, 'cudnt': 2249, 'calldrov': 1786, 'frm': 3121, 'ctla': 2242, 'homeleft': 3616, 'carent': 1832, 'ishtamayoohappi': 3895, 'bakrid': 1378, 'exe': 2832, 'knowwait': 4145, 'gloriou': 3261, 'anniversari': 1158, 'prey': 5617, 'coax': 2041, 'imag': 3769, 'fond': 3038, 'souveni': 6493, 'cougarpen': 2175, 'secretli': 6136, '09065394514': 248, 'datebox1282essexcm61xn': 2318, '150pmin': 362, 'pattern': 5338, 'throat': 7016, 'scratch': 6116, 'plm': 5469, 'asleep': 1269, 'foreign': 3050, 'stamp': 6588, 'lectur': 4252, 'sheffield': 6226, 'nanni': 4866, 'rais': 5760, 'zoe': 7971, 'shitin': 6245, 'defo': 2380, 'hardest': 3465, 'million': 4658, 'lekdog': 4261, 'fill': 2962, 'loverboy': 4403, 'blanket': 1546, 'suffici': 6721, 'thx': 7027, 'nyt': 5086, 'edison': 2666, 'rightli': 5951, 'fool': 3042, 'speechless': 6513, 'viva': 7456, 'gm': 3263, 'atten': 1296, 'roast': 5969, '09058097218': 207, 'ls15hb': 4414, 'educ': 2669, 'seriou': 6180, 'kickoff': 4100, 'euro': 2786, 'june': 4031, '3rd': 589, 'data': 2316, 'analysi': 1144, 'thesi': 6979, 'belliger': 1480, 'hiya': 3580, 'april': 1214, 'le': 4239, 'rudi': 6011, 'snoringthey': 6418, 'drunk': 2606, 'ink': 3830, '515': 679, 'howr': 3664, 'eastend': 2653, 'flower': 3022, 'compar': 2090, 'violet': 7444, 'tulip': 7218, 'lili': 4302, '84025': 834, 'wkent150p16': 7692, 'technic': 6883, 'support': 6757, 'processnetwork': 5653, 'daysso': 2332, 'finalis': 2968, 'visitne': 7452, 'wwwflirtpartyu': 7799, 'replys150': 5896, 'bitch': 1534, 'dentist': 2401, '09058091854': 194, 'box385': 1627, 'm6': 4462, '6wu': 756, '09050003091': 187, 'c52': 1758, 'xchat': 7842, 'lul': 4437, 'juici': 4024, 'nurs': 5072, 'obes': 5095, 'oyea': 5264, 'oi': 5131, 'parchi': 5304, 'na': 4848, 'kicchu': 4097, 'kaaj': 4042, 'kort': 4156, 'iccha': 3736, 'korch': 4153, 'tul': 7217, 'sculptur': 6122, 'convey': 2149, 'regard': 5860, 'surya': 6773, 'vijay': 7433, 'pokkiri': 5507, 'dearer': 2347, 'dem': 2393, 'attractioni': 1301, 'mesh': 4625, 'thoughtsi': 7008, 'hersh': 3544, 'dreamlov': 2584, 'namemi': 4862, 'hermi': 3540, 'heri': 3538, 'herwil': 3546, 'sorrowsi': 6478, 'craziest': 2209, 'herlov': 3539, 'proov': 5674, 'planeti': 5453, 'prais': 5573, 'curri': 2260, 'maki': 4504, 'sambarlif': 6056, 'thenwil': 6967, 'lotwil': 4389, 'frndship': 3123, 'needl': 4904, 'evn': 2813, 'meetitz': 4593, '4few': 644, 'alwi': 1118, 'conect': 2118, 'spatula': 6505, 'sipix': 6322, 'digit': 2463, '09061221061': 214, '28day': 479, 'box177': 1622, 'm221bp': 4457, '2yr': 535, 'warranti': 7530, '399': 571, '09061790121': 227, 'doctor': 2521, 'complex': 2099, 'freeli': 3094, 'tax': 6859, 'outrag': 5242, 'tomorro': 7103, 'ryder': 6025, 'unsoldnow': 7320, 'receipt': 5822, 'elvi': 2709, 'presley': 5603, 'fret': 3110, 'strip': 6672, 'postal': 5546, 'addressul': 989, 'alrightokay': 1108, 'cliff': 2015, 'ne': 4888, 'wrking': 7767, 'uni': 7299, 'depress': 2405, 'sittin': 6332, 'wind': 7663, 'black': 1537, 'aiyah': 1065, 'o2': 5090, 'onto': 5175, 'httpwwwurawinnercom': 3685, 'surpris': 6769, 'hen': 3531, 'onlin': 5168, 'italian': 3900, 'grin': 3369, 'math': 4552, 'sfirst': 6199, 'timedhoni': 7042, 'teju': 6890, 'hourish': 3654, 'nothi': 5028, 'groundamla': 3377, 'durban': 2629, 'conveni': 2146, 'evalu': 2790, '449050000301': 624, '09050000301': 178, 'speed': 6514, 'speedchat': 6515, '80155': 799, 'swap': 6783, 'chatter': 1912, 'chat80155': 1909, 'rcd': 5792, 'cancel': 1808, 'cheyyamoand': 1938, '08000776320': 50, 'okok': 5143, 'okthenwhat': 5146, 'aiyar': 1066, 'survey': 6772, '80160': 800, 'wwwtxt43com': 7830, 'who': 7637, 'hmv1': 3597, 'error': 2763, 'difficulti': 2460, 'howz': 3666, 'painhop': 5277, 'tau': 6856, 'sar': 6067, 'piah': 5418, '1stchoicecouk': 423, '08707808226': 93, 'oha': 5129, 'film': 2963, 'hgsuite3422landsroww1j6hl': 3552, 'shade': 6203, 'notifi': 5032, 'luck': 4429, '84122': 835, '08450542832': 68, 'station': 6604, 'tank': 6845, '4fil': 645, 'sexual': 6194, 'cute': 2269, '69911': 740, 'sitter': 6331, 'kaitlyn': 4047, 'danger': 2302, 'peep': 5356, 'comment': 2082, 'veggi': 7406, 'neighbor': 4910, 'computerless': 2107, 'balloon': 1382, 'passthey': 5328, 'ntswt': 5060, 'drm': 2598, 'wrc': 7758, 'ralli': 5769, 'oz': 5266, 'lucozad': 4433, 'energi': 2729, '61200': 716, 'lucozadecoukwrc': 4434, 'itcould': 3902, 'melodi': 4603, 'horribl': 3643, 'toot': 7126, 'bigger': 1516, 'nw': 5081, 'hme': 3585, 'island': 3896, 'chennai': 1929, 'velacheri': 7408, 'flippin': 3014, 'cstore': 2238, 'annoy': 1161, 'hangin': 3451, 'makin': 4505, 'alivebett': 1092, 'shame': 6212, 'quizz': 5746, 'popcorn': 5531, 'jordan': 4009, 'celeb': 1871, 'pocketbabecouk': 5500, '3wk': 596, '087016248': 79, 'voicemail': 7465, '08719181503': 171, 'thin': 6987, 'faultal': 2915, 'faultf': 2916, 'himso': 3565, '2go': 497, 'thanxxx': 6946, 'neft': 4906, 'beneficiari': 1488, 'natuit': 4878, 'choic': 1974, 'wwwldewcomsubs161win150ppmx3': 7807, 'semi': 6158, 'deliv': 2388, 'exp': 2842, '30apr': 543, 'strong': 6675, 'arm': 1236, 'maaaan': 4466, 'guessin': 3401, 'walmart': 7515, 'ilol': 3766, 'wuldnt': 7783, 'mite': 4698, 'creepi': 2217, 'lunchtim': 4439, 'organis': 5213, '08719181513': 172, 'kkim': 4127, 'finewhen': 2976, 'passabl': 5325, 'phd': 5402, '5year': 710, 'easier': 2649, 'nok': 4997, '87021': 854, 'txtin': 7242, '150ptone': 377, '4info': 650, 'prakesh': 5576, 'rofl': 5975, 'betta': 1500, 'invest': 3871, 'anti': 1172, 'product': 5655, '1hr': 410, 'delay': 2384, 'accommod': 956, 'variou': 7396, 'global': 3259, 'wwwphb1com': 7811, 'ph08700435505150p': 5398, 'submit': 6704, '84128': 836, 'wwwtextcompcom': 7826, '08712405020': 114, '1s': 420, 'snatch': 6412, 'purs': 5715, 'hellodrivby0quit': 3518, 'edrunk': 2668, 'iff': 3754, 'pthi': 5697, 'senrddnot': 6165, 'dancc': 2298, 'drum': 2605, 'basqihav': 1411, '2nhite': 513, 'ro': 5966, 'xxxxxxx': 7859, 'reliev': 5872, 'westonzoyland': 7607, 'europ': 2789, 'nobodi': 4986, 'chines': 1966, 'doc': 2519, 'havin': 3483, 'goin2b': 3284, 'only1mor': 5171, 'mc': 4570, 'hun': 3699, '2nitetel': 516, 'every1': 2800, 'ava': 1319, 'goodtimeoli': 3313, 'rang': 5777, 'melnit': 4602, 'ifink': 3755, 'sortedbut': 6483, 'everythin': 2807, 'monl8rsx': 4750, '08712402779': 110, 'flip': 3013, 'shun': 6286, 'bian': 1512, 'glass': 3257, 'exhibit': 2837, 'el': 2694, 'nino': 4965, 'chikkugo': 1950, 'cbe': 1863, 'honey': 3624, 'jd': 3963, 'execut': 2833, 'parent': 5306, 'downstem': 2571, '08718730555': 163, 'wahala': 7494, 'inperialmus': 3838, 'listening2th': 4323, 'weirdest': 7582, 'leafcutt': 4242, 'john': 3996, 'insect': 3841, 'molestedsomeon': 4737, 'plumbingremix': 5475, 'evil': 2812, 'acid': 967, 'didntgiv': 2451, 'bellearli': 1478, 'hunni': 3706, 'exact': 2824, '09096102316': 280, '2moro': 504, 'jane': 3949, '1minmoremobsemspobox45po139wa': 417, 'tee': 6885, 'cheeri': 1924, 'cell': 1874, 'tht': 7022, 'dough': 2567, 'control': 2145, '80488biz': 804, 'weirdo': 7584, 'mode': 4728, 'stalk': 6587, 'profil': 5659, 'jerri': 3976, 'drinkin': 2592, 'other': 5224, 'heygreat': 3550, 'dealfarm': 2343, 'tour': 7148, '9am': 909, '5pm': 702, '95pax': 903, 'deposit': 2404, 'jap': 3953, 'disappear': 2485, 'birthdat': 1530, 'certif': 1883, 'publish': 5701, 'nydc': 5085, 'wheellock': 7619, 'destin': 2421, 'fifti': 2957, 'favour': 2921, 'happenin': 3457, 'ola': 5148, 'cocksuck': 2046, 'ipad': 3880, 'worthless': 7747, 'garbag': 3181, 'novelti': 5038, 'item': 3903, 'tshirt': 7209, 'fran': 3079, 'broke': 1685, 'knacker': 4136, 'janx': 3952, 'ps': 5688, 'design': 2414, 'softwar': 6431, 'jamster': 3943, 'videosound': 7429, 'gold': 3286, 'videosounds2': 7430, 'logosmusicnew': 4354, 'jamstercouk': 3944, '16onli': 391, '09701213186': 288, 'lion': 4315, 'lionm': 4316, 'lionp': 4317, 'wwwringtonescouk': 7814, 'origin': 5216, '3gbp': 578, 'jokin': 4003, 'spirit': 6529, 'bb': 1422, 'shatter': 6220, 'alrit': 1109, 'idiot': 3749, 'girli': 3248, 'darker': 2307, 'whenevr': 7622, 'gray': 3356, 'remembr': 5881, 'listn': 4324, 'watevr': 7542, 'whileamp': 7632, 'potter': 5553, 'phoenix': 5408, 'among': 1130, 'reader': 5802, 'shd': 6223, 'minu': 4676, 'paragraph': 5301, 'coveragd': 2192, 'vasai': 7398, '4o': 654, 'retard': 5929, 'bathroom': 1416, 'sang': 6061, 'uptown': 7342, '80': 791, 'februari': 2929, 'rush': 6022, 'icic': 3738, 'syria': 6813, 'canada': 1805, 'heartsnot': 3503, 'goodnoon': 3311, 'gaug': 3187, 'patti': 5339, 'mondaynxt': 4742, 'vl': 7459, 'ax': 1342, 'chill': 1960, '6hr': 747, 'surgic': 6766, 'emerg': 2715, 'unfold': 7295, 'fren': 3105, 'korean': 4154, 'fredericksburg': 3087, 'pase': 5323, 'un': 7276, 'buen': 1715, 'tiempo': 7031, 'chillin': 1962, 'super': 6749, 'free2day': 3089, 'georg': 3222, 'jordantxt': 4010, '89080': 878, 'sauci': 6085, 'celeb4': 1872, '0870241182716': 82, 'tmrw': 7068, 'compass': 2091, 'soul': 6486, 'worldgnun': 7736, 'way2smscom': 7548, 'baaaaab': 1354, 'misss': 4691, 'youuuuu': 7945, 'ned': 4899, 'witot': 7686, 'main': 4500, 'sweeti': 6795, 'blackberri': 1539, 'buyer': 1747, 'melik': 4600, '4a': 640, 'pple': 5561, 'becz': 1452, 'undrstndng': 7292, 'chain': 1887, 'suffer': 6720, 'whn': 7636, 'arrest': 1247, 'suntec': 6747, 'steamboat': 6613, 'moji': 4734, 'forgiv': 3055, 'messeng': 4636, 'tp': 7154, 'fantasi': 2898, '08707509020': 91, '20p': 444, '1327': 340, 'croydon': 2229, 'cr9': 2199, '5wb': 706, '0870k': 98, 'bbq': 1428, '6ish': 748, 'everyso': 2805, 'panick': 5287, 'outhav': 5239, 'write': 7762, '3cover': 573, 'screen': 6118, '4press': 656, '5gentli': 694, 'bear': 1443, 'nick': 4945, 'tom': 7098, 'fact': 2873, 'upload': 7334, '08718730666': 164, 'huai': 3688, 'juan': 4022, 'linerent': 4309, 'call2optoutlf56': 1779, 'tlk': 7062, 'ideal': 3746, 'path': 5334, 'appear': 1199, 'front': 3132, 'shot': 6269, 'reserv': 5907, 'thirunelvali': 6994, 'tirunelvali': 7052, 'evei': 2794, 'netno': 4920, 'availablei': 1322, 'tackl': 6820, 'storm': 6654, 'phne': 5407, 'wt': 7775, 'margaret': 4531, 'girlfrnd': 3247, 'grahmbel': 3341, 'invnt': 3874, 'telphon': 6897, 'moralon': 4762, '4get': 646, 'tonght': 7114, 'plough': 5470, 'pile': 5431, 'chinki': 1967, 'wi': 7642, 'nz': 5089, 'unsold': 7318, 'geelat': 3208, 'aust': 1313, 'bk': 1536, 'cafe': 1762, 'recharg': 5828, 'papa': 5294, 'shld': 6251, 'stretch': 6667, 'sinco': 6315, 'paye': 5345, 'icicibankcom': 3739, 'urn': 7356, 'bewar': 1505, 'fraud': 3084, 'share': 6219, 'disclos': 2490, 'vote': 7470, 'loser': 4380, 'kaiez': 4045, 'tuition': 7216, 'gee': 3205, 'option': 5198, 'beta': 1498, 'practic': 5570, 'kkani': 4120, 'noncomitt': 5005, 'beneath': 1487, 'pale': 5280, 'goodnit': 3309, '150pmsgrcvdhgsuite3422landsroww1j6hl': 366, 'snicker': 6415, 'total': 7143, 'chord': 1977, 'nofew': 4989, 'beforew': 1466, 'rem': 5876, 'silver': 6306, 'lmao': 4336, 'silenc': 6303, 'wwwldewcom': 7804, 'win150ppmx3age16': 7662, 'revis': 5937, 'boyf': 1637, 'interviw': 3863, 'exet': 2835, 'worriedx': 7741, 'spreadsheet': 6557, 'whose': 7640, 'determin': 2425, 'entir': 2745, 'arsen': 1250, 'dartboard': 2313, 'trebl': 7179, 'coat': 2040, 'everybodi': 2801, 'alon': 1102, 'intrepid': 3866, 'duo': 2628, 'sen': 6160, 'missin': 4688, 'guilti': 3405, 'aiya': 1064, 'cardiff': 1825, 'addi': 986, 'tue': 7213, 'breez': 1664, 'bright': 1670, 'fresh': 3108, 'twitter': 7236, 'yago': 7865, 'restaur': 5920, 'textpod': 6932, 'pod': 5501, 'wwwtextpodnet': 7827, 'duck': 2617, 'chinchilla': 1965, 'function': 3149, 'headstart': 3492, '230ish': 455, 'desper': 2418, 'earlierw': 2643, 'rummer': 6017, 'fli': 3010, 'monkey': 4748, 'certainli': 1882, 'optin': 5197, 'bbc': 1423, 'thanks2': 6940, 'rajini': 5763, 'stupidit': 6697, 'help08714742804': 3527, 'spi': 6520, 'clair': 2000, '2nite': 515, '09099725823': 281, 'bought': 1613, 'yalru': 7869, 'lyfu': 4452, 'astn': 1279, 'innu': 3836, 'mundh': 4824, 'lyf': 4451, 'ali': 1088, 'halla': 3439, 'ke': 4075, 'bilo': 1522, 'marriageprogram': 4540, 'edha': 2665, 'ovr': 5254, 'chikkuali': 1947, 'vargu': 7394, 'meow': 4618, 'meowd': 4619, 'twelv': 7229, 'aah': 921, '09066362231': 258, '07xxxxxxxxx': 47, '020603': 7, 'prone': 5672, '07801543489': 36, 'wordcollect': 7725, 'no83355': 4982, 'tcllc': 6868, 'nyusa': 5088, '150pmt': 367, 'msgrcvd18': 4793, 'luci': 4428, 'hubbi': 3689, 'cumin': 2253, '09099726395': 282, '1minmobsmorelkpobox177hp51fl': 416, '7th': 788, '6th': 754, '5th': 705, '4th': 660, 'natur': 4879, 'dose': 2558, 'tablet': 6819, 'incomm': 3796, 'blake': 1543, 'waitshould': 7503, 'lotr': 4385, 'googl': 3315, 'browsin': 1695, 'compulsori': 2105, 'puriti': 5712, 'messageit': 4629, 'musthu': 4833, 'investig': 3872, '80488': 803, 'www80488biz': 7787, 'vomit': 7468, 'moneya': 4745, 'youmoney': 7935, 'thinghow': 6989, 'sha': 6202, 'vitamin': 7455, 'centr': 1877, 'crucial': 2230, 'jsco': 4017, '2channel': 489, 'leadership': 4241, 'skill': 6343, 'psychic': 5693, 'wquestion': 7757, 'hostbas': 3646, 'idp': 3751, 'linux': 4314, '0870': 72, 'dawhat': 2323, 'convert': 2148, 'along': 1103, 'karaok': 4063, 'sayi': 6091, 'except': 2828, 'nit': 4967, 'petei': 5391, 'leannewhat': 4245, 'eight': 2689, 'format': 3063, 'disc': 2489, 'internet': 3860, 'champ': 1889, 'glasgow': 3256, 'kall': 4051, 'bestcongrat': 1495, 'lovin': 4404, 'arriv': 1248, 'shortli': 6268, 'brows': 1693, 'artist': 1253, 'corect': 2161, 'spele': 6516, 'sarcasm': 6070, '10803': 302, '08714719523': 129, 'forum': 3068, 'ron': 5982, 'hict': 3555, 'employe': 2720, 'nike': 4959, 'sooo': 6470, 'dang': 2301, 'unfortun': 7296, 'airport': 1062, '7250i': 762, 'auction': 1304, '86021': 848, 'roww1jhl': 5993, 'difficult': 2459, 'earliest': 2644, 'nordstrom': 5016, 'konw': 4152, 'waht': 7499, 'rael': 5754, 'gving': 3413, 'yuo': 7958, 'exmpel': 2839, 'jsut': 4020, 'ese': 2772, 'tih': 7036, 'evrey': 2818, 'splle': 6539, 'wrnog': 7769, 'sitll': 6330, 'ra': 5749, 'wihtuot': 7653, 'ayn': 1345, 'mitsak': 4699, 'sleepsweet': 6364, 'confer': 2119, 'wwworangecoukow': 7810, 'degre': 2381, 'financ': 2969, 'prospect': 5681, 'bleak': 1548, 'shant': 6217, 'jia': 3985, 'bishan': 1532, 'nearer': 4891, 'sux': 6775, 'raiden': 5757, 'buff': 1716, 'south': 6491, 'prefer': 5588, 'kegger': 4078, 'tote': 7144, 'pierr': 5427, 'cardin': 1826, 'rhythm': 5943, 'establish': 2779, 'truro': 7199, 'ext': 2857, 'gang': 3178, 'adventur': 1006, 'worryus': 7743, 'cloth': 2024, 'packalso': 5271, 'sunroof': 6744, 'excel': 2827, 'wifi': 7652, 'blank': 1545, 'noi': 4991, 'rumour': 6018, 'kalainar': 4049, 'officethenampet': 5117, '7250': 761, 'nosi': 5024, 'idk': 3750, 'react': 5799, 'freak': 3085, 'satan': 6077, 'impost': 3785, 'mene': 4611, 'priceso': 5619, 'itmay': 3912, 'destini': 2422, 'companion': 2089, 'chef': 1928, 'organ': 5212, 'boyfriend': 1638, 'sympathet': 6810, 'athlet': 1286, 'courag': 2186, 'psychologist': 5694, 'pest': 5389, 'extermin': 2858, 'psychiatrist': 5692, 'healer': 3494, 'stylist': 6700, 'driver': 2595, 'aaniy': 922, 'pudunga': 5702, 'venaam': 7411, 'brotha': 1689, 'chase': 1906, 'chez': 1939, 'jule': 4025, 'hhahhaahahah': 3553, 'nig': 4948, 'leonardo': 4267, 'lt3': 4418, '2year': 534, 'strain': 6658, 'dime': 2466, 'withdraw': 7681, 'anyhow': 1175, 'smeon': 6393, 'miller': 4657, 'fire': 2982, 'spark': 6503, 'flame': 3002, 'rawr': 5787, 'xoxo': 7847, 'somewhr': 6455, 'crush': 2234, 'honeymoon': 3627, 'outfit': 5236, 'propos': 5679, '08719899230': 176, 'blame': 1544, 'chequ': 1932, 'olymp': 5156, 'leo': 4265, 'kthen': 4161, 'donew': 2547, 'haul': 3477, 'wildlif': 7658, 'want2com': 7524, 'that2worzel': 6949, 'wizzl': 7689, 'dippeditinadew': 2477, 'lovingli': 4405, 'itwhichturnedinto': 3921, 'tomeandsaidthi': 7100, 'shanghai': 6215, 'instead': 3850, 'cya': 2276, 'freez': 3104, '645': 724, 'rtking': 6004, 'pro': 5639, 'inforingtonekingcouk': 3819, '08701237397': 75, 'redeem': 5840, 'wwwringtonekingcouk': 7813, 'thnx': 7001, 'sef': 6147, 'anji': 1154, 'batch': 1413, 'fring': 3120, 'flaki': 3001, 'sooooo': 6472, 'tooo': 7124, 'nte': 5059, '09058094599': 203, 'wate': 7539, 'british': 1680, 'london': 4360, '02072069400': 10, 'bx': 1752, '526': 682, 'sw73ss': 6779, '6pm': 751, 'anim': 1153, 'buzz': 1749, 'ador': 999, 'eeri': 2674, 'titl': 7055, 'dracula': 2575, 'ghost': 3236, 'addamsfa': 985, 'munster': 4825, 'exorcist': 2841, 'twilight': 7233, 'brought': 1691, 'shini': 6240, 'constant': 2136, 'wasnt': 7533, 'french': 3106, '0anetwork': 289, 'allow': 1100, 'respons': 5918, 'supplier': 6756, 'comedyc': 2073, 'freemsgfeelin': 3098, 'lnli': 4338, 'jst': 4018, 'mobi': 4720, 'pictxt': 5424, '82242': 813, 'msg150p': 4791, '2rcv': 522, 'hlp': 3583, '08712317606': 105, 'keen': 4076, 'switch': 6802, 'dammit': 2293, 'wright': 7761, 'somewhat': 6452, 'event': 2796, 'laden': 4185, 'wreck': 7759, 'spontan': 6546, 'goodeven': 3301, 'bagi': 1372, 'lei': 4260, 'action': 976, '80608': 805, 'wwwmovietriviatv': 7808, '08712405022': 115, 'sif': 6295, 'partnership': 5321, 'rgent': 5941, 'lookin': 4369, 'daytim': 2334, 'busti': 1740, '09099726429': 283, 'janinexx': 3950, 'mostli': 4769, 'insid': 3844, 'spageddi': 6498, 'phase': 5401, 'fourth': 3072, 'dimens': 2467, 'yesbut': 7898, 'meaning': 4576, 'compromis': 2104, 'lmaonic': 4337, '09050001295': 184, 'a21': 918, 'monthli': 4755, 'mobsicom': 4726, '391784': 570, 'dub': 2614, 'je': 3964, 'toughest': 7147, 'sight': 6297, 'remain': 5877, 'maintain': 4501, 'shja': 6250, 'squat': 6566, 'cramp': 2204, '0089mi': 1, '09063442151': 231, 'ringtoneget': 5958, 'freesend': 3103, '816183': 812, 'weekstop': 7576, 'sms08718727870': 6402, 'nan': 4864, 'sonathaya': 6458, 'soladha': 6435, 'rape': 5780, 'poker': 5506, 'weightloss': 7580, 'mushi': 4829, 'embarrass': 2713, 'stash': 6601, 'ran': 5772, 'priya': 5634, '81303': 810, 'father': 2911, 'messi': 4637, 'kilo': 4104, 'accid': 954, 'tookplac': 7121, 'ghodbandar': 3235, 'rd': 5796, 'traffic': 7159, 'slove': 6377, 'slip': 6370, 'ahnow': 1051, 'wkg': 7693, 'wherebtw': 7627, 'nu': 5063, 'sc': 6094, 'specialis': 6510, 'wad': 7491, 'dislik': 2497, 'queen': 5734, 'despar': 2417, 'gotten': 3327, 'stereo': 6617, 'mi': 4644, 'unknown': 7308, 'album': 1076, '121': 325, '60pmin': 715, '09094646899': 278, 'vu': 7479, 'bcm1896wc1n3xx': 1433, 'classmat': 2006, 'firesar': 2985, '2007': 440, 'prebook': 5586, 'trackmarqu': 7156, 'infovipclub4u': 3823, 'missionari': 4690, 'hook': 3633, 'entertain': 2743, 'hugh': 3693, 'lauri': 4229, 'stick': 6627, 'inde': 3804, 'prap': 5577, 'jon': 4006, 'bin': 1524, 'spain': 6499, 'dinero': 2470, '12000pe': 323, '48': 636, 'jame': 3942, 'hunnywot': 3708, 'bedroomlov': 1457, 'maangalyam': 4467, 'alaipayuth': 1074, 'complain': 2095, 'mandi': 4517, 'sullivan': 6729, 'hotmix': 3651, 'fmyou': 3030, 'chosen': 1979, '500000': 675, 'easter': 2654, 'drawpleas': 2581, 'telephon': 6892, '09041940223': 177, '290305': 482, 'finn': 2981, 'bahama': 1373, 'callfreefon': 1789, '08081560665': 62, 'cruis': 2232, '18onli': 398, '07786200117': 33, 'calm': 1796, 'downon': 2570, 'theacus': 6957, 'itxt': 3922, 'iwana': 3927, 'wotu': 7749, 'doin': 2533, 'thewend': 6981, 'haventcn': 3482, 'agesr': 1038, 'up4': 7326, 'neth': 4919, 'satlov': 6081, 'conact': 2110, 'youto': 7944, '09111030116': 286, 'pobox12n146tf15': 5486, 'vtire': 7478, 'social': 6428, 'inspect': 3845, 'nurseri': 5073, 'detailsi': 2424, 'youmi': 7934, 'slowli': 6380, 'habit': 3421, 'itmail': 3911, 'panren': 5288, 'paru': 5322, 'chuckin': 1987, 'trainner': 7161, 'carryin': 1843, 'bac': 1362, 'schedul': 6103, 'gooddhanush': 3299, 'stuck': 6683, 'chikkusimpl': 1953, 'habbahw': 3420, 'dileepthank': 2465, 'muchand': 4808, 'supportveri': 6759, 'hererememb': 3536, 'venugop': 7412, 'mentionedtomorrow': 4614, 'latei': 4221, 'theregoodnight': 6973, 'everytim': 2808, 'mandan': 4515, '07734396839': 29, 'ibh': 3728, 'nokia6600': 5000, 'txtauctiontxt': 7241, 'wordstart': 7728, 'no81151': 4981, 'now4t': 5041, '3230': 552, 'textbook': 6927, 'algorithm': 1087, 'edit': 2667, 'bun': 1725, 'invad': 3869, 'orig': 5215, 'arcad': 1222, 'consol': 2135, 'o2coukgam': 5091, '09064018838': 240, 'cro1327': 2225, 'atlanta': 1288, 'creat': 2212, 'yessura': 7905, 'tvlol': 7227, 'arun': 1255, 'transfr': 7168, 'takin': 6835, 'philosophi': 5406, '4ui': 666, 'intend': 3854, 'iwasmarinethat': 3928, 'itried2tel': 3917, 'urmomi': 7355, 'careabout': 1828, 'foley': 3034, 'wwwwin82050couk': 7833, 'fake': 2884, 'iraq': 3885, 'afghanistan': 1019, 'stabl': 6580, 'honest': 3621, 'blessget': 1551, '1225': 326, '50award': 677, '3100': 547, 'pai': 5274, 'seh': 6148, 'beer': 1461, 'combin': 2070, 'walsal': 7516, 'terri': 6914, 'jess': 3978, 'sian': 6289, 'ccna': 1866, 'shrek': 6280, '3db': 576, 'dirti': 2482, 'fellow': 2938, 'teresa': 6910, 'packag': 5270, 'dec': 2359, 'yould': 7932, 'bam': 1383, 'usml': 7369, 'squishi': 6570, 'mwah': 4839, 'hottest': 3652, 'g696ga': 3163, 'promin': 5666, 'cheek': 1922, 'septemb': 6177, 'husband': 3714, 'hack': 3422, 'backdoor': 1365, 'fraction': 3078, 'neo69': 4913, '09050280520': 190, 'dp': 2573, 'bcm': 1432, '8027': 802, 'norm': 5017, '415': 608, 'list': 4321, 'joanna': 3991, 'comingdown': 2079, 'dagood': 2287, 'replac': 5893, 'murali': 4826, 'playerwhi': 5459, 'engalnd': 2732, 'telli': 6895, 'mia': 4645, 'elliot': 2705, 'upto': 7341, '12mth': 335, '12price': 336, 'xnet': 7846, 'mins100txtmth': 4672, 'btooth': 1707, '08001950382': 54, '2optoutd3wv': 518, 'wiproy': 7672, 'matric': 4556, '850': 841, 'toa': 7071, 'payoh': 5347, '650': 726, '08718726970': 155, 'btnationalr': 1706, 'payment': 5346, 'fedex': 2930, 'kyou': 4169, 'recept': 5826, 'godi': 3276, 'youclean': 7925, 'bloodsend': 1562, 'itplspl': 3916, 'hate': 3475, 'consensu': 2130, 'tag': 6825, 'wednesday': 7568, 'laundri': 4228, 'underwear': 7290, 'bra': 1642, 'strewn': 6668, 'pillow': 5432, 'wahe': 7496, 'fathima': 2912, 'mmmm': 4709, 'push': 5716, 'knee': 4137, 'expos': 2855, 'pull': 5703, 'wick': 7643, 'sh': 6201, 'readyal': 5804, 'srt': 6574, 'thnk': 6999, 'ps3': 5689, 'jontin': 4008, 'prizeto': 5638, 'nearli': 4892, 'ban': 1385, 'pen': 5359, 'beyond': 1506, 'biro': 1528, 'master': 4547, '09058094594': 201, 'unhappi': 7298, 'excus': 2831, 'jog': 3995, '0776xxxxxxx': 32, '18yr': 400, '09061743811': 224, 'abta': 944, '326': 554, 'season': 6129, 'lark': 4215, '09090900040': 275, 'extrem': 2861, 'sic': 6291, '60p': 714, '247mp': 459, '0870753331018': 92, 'videop': 7427, 'wild': 7656, '150prcvd': 374, 'stop2stop': 6645, 'uh': 7261, 'lim': 4303, 'vday': 7403, 'parachut': 5298, '80182': 801, '08452810073': 70, 'therer': 6975, 'tabl': 6818, 'lambda': 4194, 'snowman': 6422, 'angel': 1151, 'snowbal': 6420, 'ello': 2706, 'ikea': 3760, 'ofic': 5122, 'cn': 2034, 'oficegot': 5123, 'duffer': 2621, 'grr': 3383, 'prescript': 5599, 'pharmaci': 5400, 'cook': 2152, 'electr': 2702, '08715500022': 138, 'rpl': 5996, 'cnl': 2035, 'fffff': 2945, 'kadeem': 4043, 'fujitsu': 3142, 'lifebook': 4287, 'scold': 6106, 'zhong': 7969, 'se': 6126, 'qing': 5729, '46': 632, 'accordingli': 960, 'hypertens': 3724, 'mineal': 4666, 'wud': 7780, 'annoyin': 1162, '08702490080': 83, '09066358152': 253, 'prompt': 5670, 'vpod': 7474, 'carri': 1842, 'avatar': 1325, 'nigro': 4958, 'anyplac': 1178, 'upset': 7337, 'prioriti': 5629, 'constantli': 2137, 'ecstasi': 2663, '09090204448': 274, 'minapn': 4662, 'ls278bb': 4415, 'hittng': 3578, 'reflex': 5853, 'costa': 2172, 'sol': 6434, '09050090044': 189, 'toclaim': 7076, 'pobox334': 5489, 'stockport': 6636, 'max10min': 4563, 'kkwhi': 4133, 'lousi': 4394, 'cat': 1856, '1010': 298, 'woken': 7708, 'hip': 3568, 'adewal': 990, 'aka': 1070, 'egbon': 2682, 'minstand': 4673, 'ic': 3735, 'mari': 4533, 'deduct': 2369, 'wrk': 7764, 'asshol': 1273, 'grab': 3338, '09065394973': 249, 'payback': 5344, '31': 546, 'honeybe': 3625, 'sweetest': 6793, 'waitu': 7504, 'havnt': 3484, 'moral': 4760, 'crack': 2201, 'gmgngegn': 3264, 'tesco': 6918, 'featheri': 2925, 'bowa': 1617, 'infra': 3825, 'nvm': 5079, 'gep': 3223, 'delhi': 2386, 'thinkin': 6991, '2006': 439, 'fifa': 2954, 'held': 3513, '87239': 861, 'boat': 1577, 'shhhhh': 6232, 'relat': 5867, 'arul': 1254, 'amk': 1127, '09061743810': 223, 'length': 4263, 'distract': 2502, 'santha': 6064, 'corrct': 2164, 'dane': 2300, 'basket': 1409, 'proof': 5673, 'rupaul': 6021, '61610': 717, 'help08712400602450p': 3526, 'provid': 5684, 'tones2youcouk': 7111, 'practis': 5572, 'curtsey': 2261, 'yeh': 7885, 'memori': 4609, 'mon': 4740, 'themobyo': 6965, 'yoher': 7920, 'ssindia': 6576, 'african': 1022, 'soil': 6432, 'major': 4502, 'role': 5977, 'outreach': 5243, 'mel': 4599, 'birth': 1529, '8lb': 889, '7oz': 784, 'brilliantli': 1674, 'intent': 3855, 'visitor': 7453, 'rule': 6014, 'bend': 1486, 'thia': 6986, 'inlud': 3831, 'preview': 5614, 'freefon': 3092, '08006344447': 59, 'ambrithmaduraimet': 1123, 'dha': 2435, 'marrgeremembr': 4537, 'kitti': 4117, 'shave': 6221, 'onward': 5177, 'tact': 6822, 'skillgame1winaweek': 6345, 'age16150ppermesssubscript': 1034, 'theatr': 6959, 'obvious': 5100, 'eggspert': 2685, 'potato': 5551, 'cram': 2203, 'satsgettin': 6082, '447per': 622, 'apolog': 1193, 'admit': 997, 'pei': 5358, 'boost': 1598, 'subtoitl': 6712, 'jot': 4012, 'storelik': 6652, 'cereal': 1880, 'gari': 3183, 'infern': 3816, 'affair': 1013, 'bold2': 1584, 'calicut': 1769, '09094100151': 276, 'cast': 1853, 'aom': 1186, 'gbp5month': 3198, 'box61m60': 1633, '1er': 407, 'thkin': 6997, 'parco': 5305, 'nb': 4885, 'resub': 5925, 'shadow': 6204, 'breadstick': 1656, 'ahmad': 1050, 'saeed': 6036, 'hallaq': 3440, '09066362220': 257, 'box97n7qp': 1635, 'redim': 5841, 'blueu': 1571, 'purpleu': 5713, 'pinku': 5437, 'orangei': 5205, 'lyk': 4453, 'greeni': 3366, 'yelowi': 7888, 'bck': 1431, 'blackim': 1540, 'giv': 3250, 'color': 2065, 'eldest': 2700, 'drugdeal': 2604, 'gender': 3211, 'wither': 7682, 'eg23f': 2680, 'eg23g': 2681, 'sleepwellamptak': 6365, 'wondarful': 7713, 'messagestext': 4634, 'nowus': 5055, 'web2mobil': 7559, 'txt250com': 7239, 'box139': 1621, 'la32wu': 4178, 'txtx': 7246, 'hunonbu': 3709, 'donyt': 2552, 'homebut': 3614, 'latelyxxx': 4222, '85233': 845, 'freeringtonerepli': 3102, 'mca': 4571, 'rich': 5945, 'flag': 2999, 'yer': 7892, '84199': 838, 'eng': 2730, 'box39822': 1628, 'w111wx': 7480, 'yor': 7921, 'ownyouv': 5261, 'skalli': 6340, 'jason': 3955, 'soooo': 6471, 'tming': 7064, 'cutest': 2271, 'dice': 2445, 'art': 1251, 'inclus': 3795, 'help08700469649': 3524, 'box420': 1630, 'ip4': 3879, '5we': 707, 'howda': 3661, 'samachara': 6054, 'audri': 1309, 'autocorrect': 1317, 'simul': 6313, 'armand': 1237, 'andor': 1147, 'rub': 6008, 'feet': 2936, 'lara': 4211, 'clever': 2013, '087123002209am7pm': 104, 'med': 4585, '113': 313, 'bray': 1652, 'wicklow': 7645, 'eir': 2692, 'washob': 7532, 'nob': 4984, 'nickey': 4946, 'platt': 5456, 'ryan': 6024, 'vikki': 7435, 'wwwidewcom': 7803, 'skillgam': 6344, '1winaweek': 428, '150ppermesssubscript': 370, 'mad': 4478, 'argh': 1230, 'spotti': 6554, 'provinc': 5685, 'sterl': 6619, 'problemfre': 5645, 'xam': 7840, 'hall': 3438, 'manag': 4512, 'intha': 3864, 'ponnungal': 5522, 'ipaditan': 3881, 'reject': 5865, 'shitload': 6247, 'diamond': 2443, 'tessypl': 6919, 'favor': 2919, 'nimyapl': 4963, 'shija': 6235, 'china': 1963, 'noisi': 4994, 'needa': 4901, 'mcat': 4572, 'sfrom': 6200, 'manual': 4524, 'processit': 5652, 'reset': 5908, 'troubleshoot': 7191, 'b4u': 1350, 'wc': 7550, '2703': 474, 'marsm': 4541, 'wwwb4utelecom': 7791, '08717168528': 141, 'strongli': 6677, 'sacrific': 6033, 'creativ': 2213, 'stifl': 6629, 'morphin': 4766, 'requir': 5902, 'stayin': 6607, 'strangersaw': 6661, 'nowstil': 5053, 'mrur': 4788, '2getha': 495, 'buffi': 1718, 'pix': 5442, 'qlynnbv': 5730, 'help08700621170150p': 3525, '8830': 869, 'cld': 2008, 'nosh': 5023, 'waaaat': 7490, 'lololo': 4358, 'comei': 2074, 'kindli': 4108, 'document': 2522, 'stapati': 6591, 'mile': 4653, 'cuti': 2272, 'wale': 7506, 'hill': 3563, 'colleagu': 2061, 'sed': 6139, 'mood': 4758, 'latr': 4226, 'caken': 1765, 'kidz': 4102, 'sofa': 6429, 'honesti': 3622, 'labor': 4180, 'shakara': 6208, 'beggar': 1468, 'smash': 6390, 'dent': 2399, 'crickit': 2222, 'imin': 3774, 'towndontmatt': 7151, 'urgoin': 7352, 'outl8r': 5241, 'yavnt': 7874, 'ibuprofen': 3734, 'grown': 3380, 'chinatown': 1964, 'porridg': 5534, 'claypot': 2007, 'yam': 7870, 'fishhead': 2990, 'beehoon': 1459, 'tok': 7089, 'specif': 6511, 'jaklin': 3940, 'nearbi': 4890, '449month': 626, 'ntwk': 5062, 'bundl': 1727, 'avbl': 1326, 'call2optoutj': 1777, 'mf': 4641, 'ooh': 5179, '4got': 648, 'moseley': 4768, '630': 722, 'thankyou': 6943, 'pendingi': 5363, 'dayswil': 2333, 'thrurespect': 7021, 'homecheck': 3615, 'affection': 1015, 'loveabl': 4398, 'etern': 2782, 'nobl': 4985, 'intim': 3865, 'enam': 2723, 'textin': 6930, 'cousin': 2190, 'rajipl': 5764, 'nimya': 4962, 'leg': 4255, 'neck': 4897, 'amigo': 1126, 'progress': 5662, 'continu': 2142, 'holi': 3608, 'werent': 7601, 'arti': 1252, 'collag': 2059, 'tryin': 7202, 'billion': 1521, '2hr': 500, 'walik': 7507, 'carton': 1845, 'shelv': 6229, '08714712379': 124, 'distanc': 2501, 'mirror': 4679, 'ref': 5845, 'k718': 4041, '450': 628, '09065069120': 243, 'jod': 3994, 'keri': 4086, 'smidgin': 6394, 'collegexx': 2064, 'beliv': 1476, 'empti': 2721, 'slot': 6376, 'accordin': 959, 'knock': 4140, 'sicomo': 6293, 'nolistened2th': 5003, 'plaid': 5449, 'albumquit': 1077, 'gdthe': 3203, 'air1': 1061, 'hilariousalso': 3562, 'braindanc': 1645, 'compofstuff': 2102, 'aphex': 1190, 'abel': 930, 'nelson': 4912, 'temp': 6901, 'unmit': 7312, 'display': 2500, 'newspap': 4935, 'soup': 6489, 'yummmm': 7955, 'puzzel': 5721, '4goten': 649, 'scammer': 6096, 'smartthough': 6389, 'regular': 5864, 'prem': 5589, 'msgsubscript': 4797, '2morro': 506, '09099726481': 284, 'dena': 2396, 'r836': 5748, '09065069154': 244, 'threat': 7012, 'shifad': 6234, 'complaint': 2096, '2godid': 498, 'loung': 4393, 'lk': 4332, 'lov': 4395, 'splashmobil': 6535, 'subscrit': 6710, '300p': 541, 'dust': 2632, 'u4': 7251, '01223585334': 4, '2c': 488, '8552': 846, '2end': 492, '88877free': 874, '88877': 873, '88066': 866, '3pound': 587, 'watchin': 7537, 'meaningless': 4577, 'all': 1093, 'brdget': 1654, 'jone': 4007, 'inev': 3813, 'hmmbad': 3587, 'newshyp': 4934, '700': 758, 'studio': 6688, 'takenonli': 6834, 'bedrm900': 1455, 'unabl': 7277, 'velli': 7409, 'wkend': 7691, 'journey': 4013, 'huge': 3692, 'upd8': 7328, '2stoptx': 524, 'anni': 1157, '08718738034': 167, '21870000hi': 449, 'mailbox': 4498, '21': 446, '09056242159': 192, 'retriev': 5931, 'vai': 7385, 'hrishi': 3671, 'nothin': 5029, 'hanger': 3450, 'poem': 5502, 'tear': 6880, 'thatll': 6953, 'quizwin': 5745, 'duchess': 2616, 'cornwal': 2162, '82277unsub': 815, '008704050406': 0, 'sp': 6495, 'arrow': 1249, '08718726971': 156, 'tddnewsletteremc1couk': 6873, 'thedailydraw': 6960, 'dozen': 2572, 'prizeswith': 5637, 'waqt': 7526, 'pehl': 5357, 'naseeb': 4870, 'zyada': 7975, 'kisi': 4114, 'ko': 4148, 'kuch': 4164, 'nahi': 4854, 'miltazindgi': 4659, 'wo': 7704, 'hum': 3697, 'socht': 6427, 'zindgi': 7970, 'jeetey': 3967, 'wors': 7744, 'dan': 2295, 'varaya': 7393, 'elaya': 2699, '100603': 296, '09066368753': 264, '97n7qp': 905, 'anand': 1145, 'beach': 1441, 'aww': 1340, 'deadwel': 2340, 'jez': 3983, 'iscom': 3893, 'todo': 7084, 'workand': 7731, 'whilltak': 7633, 'zogtoriu': 7972, 'stare': 6593, 'whether': 7631, 'financi': 2970, 'problemi': 5646, 'alian': 1089, 'freenokia': 3099, 'or2optouthv9d': 5201, 'posibl': 5540, 'centuri': 1878, 'cm': 2031, 'frwd': 3135, 'unnecessarili': 7313, 'restrict': 5922, 'buddi': 1713, '80082': 796, '08712402902': 111, 'possess': 5542, 'nohe': 4990, 'clarif': 2001, 'spook': 6547, 'halloween': 3441, '08701417012150p': 77, 'logop': 4353, 'issu': 3899, 'regret': 5863, 'footbal': 3044, 'sky': 6351, 'gamestar': 3175, '250k': 465, 'nowski': 5052, '88088': 867, 'coimbator': 2052, 'monoc': 4752, 'polyc': 5515, 'stream': 6662, '0871212025016': 102, 'categori': 1858, 'measur': 4581, 'ethnic': 2783, 'censu': 1875, 'transcrib': 7165, 'propsd': 5680, 'gv': 3412, 'lv': 4449, 'lttr': 4425, 'threw': 7014, 'thm': 6998, 'aproach': 1215, 'dt': 2612, 'truck': 7194, 'wn': 7701, 'girld': 3246, 'hw': 3720, 'instantli': 3849, 'thi': 6985, 'happili': 3461, '2gthr': 499, 'evrydi': 2821, 'msgsd': 4795, 'paragon': 5300, 'bluff': 1572, 'imposs': 3784, 'goodmat': 3305, 'sari': 6072, 'asusual1': 1284, 'franyxxxxx': 3083, 'batt': 1418, 'wwwfullonsmscom': 7800, 'gn': 3266, 'pussi': 5718, 'becausethey': 1449, '09058098002': 208, 'pobox1': 5484, 'w14rg': 7481, 'messageno': 4630, 'responcewhat': 5916, 'happend': 3456, 'wiskey': 7679, 'brandi': 1649, 'rum': 6015, 'gin': 3244, 'vodka': 7463, 'scotch': 6110, 'shampain': 6213, 'kudiyarasu': 4165, 'dhina': 2436, 'vaazhthukk': 7383, 'gain': 3167, 'kg': 4092, 'sugar': 6724, 'pressur': 5607, 'limit': 4304, 'dumb': 2623, 'thangam': 6937, 'okey': 5140, 'doke': 2538, 'dress': 2588, 'neshanthtel': 4915, 'byatch': 1756, 'whassup': 7613, 'kay': 4070, 'roger': 5976, 'cl': 1996, 'nasti': 4871, 'filthyguy': 2966, 'slo': 6373, 'slo4msg': 6374, 'chiong': 1968, 'christ': 1981, 'dialogu': 2442, 'reltnship': 5875, 'solv': 6438, '1hi': 409, 'polic': 5510, '2polic': 520, '3wife': 595, 'siri': 6324, '4cook': 641, '5garden': 693, 'veget': 7405, '6housemaid': 746, '7children': 781, '8neighbour': 891, 'brilliant': 1672, 'pose': 5538, 'comb': 2069, 'dryer': 2610, 'fp': 3076, 'scienc': 6105, 'madamregret': 4482, 'disturbancemight': 2504, 'dlf': 2514, 'premaricakindli': 5590, 'informedrgdsrakheshkerala': 3821, 'gotto': 3328, '08702840625': 84, 'comuk220cm2': 2108, 'err': 2762, '8pm': 893, 'bloo': 1558, 'kbut': 4073, 'hitteranyway': 3577, 'offlin': 5121, 'anjola': 1155, 'ithi': 3905, 'wwwasjesuscom': 7790, 'wrote': 7773, 'swiss': 6801, 'director': 2480, 'lac': 4181, 'crore': 2226, 'taxless': 6861, 'budget': 1714, 'lane': 4202, 'supli': 6753, 'citizen': 1994, 'imf': 3773, 'block': 1554, 'politician': 5511, 'corrupt': 2168, 'itna': 3913, 'karo': 4065, 'pura': 5709, 'padhegm': 5272, 'torrent': 7136, 'particularli': 5319, 'commit': 2084, 'random': 5774, '83370': 828, 'wwwmusictrivianet': 7809, 'rightio': 5950, '1148': 316, 'brum': 1697, 'donno': 2548, 'scorabl': 6108, 'paranoid': 5302, 'brin': 1675, 'properli': 5677, 'kgive': 4093, 'onlybettr': 5172, 'bsnl': 1701, 'offc': 5110, 'suganya': 6723, 'dessert': 2420, 'abeg': 929, 'sponsor': 6545, 'onum': 5176, 'candont': 1810, 'poet': 5503, 'imaginationmi': 3771, 'carso': 1844, 'rr': 5998, 'famamu': 2891, 'pongaldo': 5521, 'sri': 6572, 'furnitur': 3156, 'lock': 4346, 'jenn': 3971, 'easiest': 2650, 'barcelona': 1398, 'ru': 6007, 'sppok': 6556, '09066612661': 267, 'complementari': 2097, 'wa14': 7489, '2px': 521, 'sender': 6162, 'kdo': 4074, 'daurgent': 2321, 'pansi': 5289, 'jungl': 4032, 'kanji': 4057, 'drinkpa': 2593, 'sr': 6571, 'drizzl': 2597, 'shove': 6274, 'drama': 2576, 'plsi': 5471, 'struggl': 6680, 'strang': 6659, 'placeno': 5448, 'ego': 2686, 'necess': 4894, 'gowait': 3331, 'reppurcuss': 5898, 'releas': 5870, 'cosign': 2170, 'hvae': 3719, '09061701444': 216, '24': 456, 'acl03530150pm': 969, 'hcl': 3485, 'fresher': 3109, 'processexcel': 5651, 'neededsalari': 4902, 'mssuman': 4801, 'indyarockscom': 3812, 'resum': 5928, 'datoday': 2320, 'restuwud': 5923, 'reliant': 5871, 'fwiw': 3160, 'afford': 1018, 'kanowhr': 4061, 'maga': 4489, 'sq825': 6565, 'yunni': 7957, 'citylink': 1995, 'er': 2757, 'prop': 5675, 'pleasant': 5465, '6230': 719, '83383': 829, 'pobox11414tcrw1': 5485, 'bognor': 1582, 'splendid': 6537, 'yesim': 7903, 'ktv': 4162, 'misplac': 4684, 'mmmmm': 4710, 'medicin': 4587, 'begun': 1470, 'registr': 5862, 'perman': 5378, 'resid': 5909, 'plenti': 5468, 'rel': 5866, 'risk': 5962, 'benefit': 1489, 'amount': 1133, 'hmmmhow': 3590, 'accumul': 963, 'program': 5661, 'belong': 1481, 'herwho': 3545, 'fate': 2910, 'shoranur': 6261, 'incid': 3792, 'fuell': 3141, 'prior': 5628, 'grief': 3368, 'violenc': 7443, 'goodenviron': 3300, 'terrif': 6916, 'text82228': 6925, 'wwwtxt82228com': 7831, 'infotxt82228couk': 3822, 'honestli': 3623, 'promptli': 5671, 'burnt': 1734, 'advic': 1007, 'snap': 6410, 'quizclub': 5744, '80122300pwk': 798, 'sprwm': 6561, 'ph08704050406': 5399, 'gmw': 3265, 'someplac': 6445, 'pressi': 5606, 'dr': 2574, 'superior': 6751, 'ultim': 7270, 'tor': 7134, 'motiv': 4773, 'tui': 7215, 'achiev': 966, 'korli': 4155, 'dock': 2520, 'roll': 5978, 'newscast': 4933, 'dabbl': 2282, 'flute': 3026, 'behind': 1473, 'wheel': 7618, 'bx420': 1753, 'amaz': 1121, 'picsfree1': 5422, 'vid': 7424, 'keyword': 4090, 'ruin': 6013, 'erm': 2760, 'the4th': 6956, 'octob': 5106, '83435': 830, 'elabor': 2696, 'safeti': 6038, 'aspect': 1270, 'tarot': 6850, '85555': 847, 'depart': 2402, 'oursso': 5231, 'youani': 7923, 'hr': 3670, 'conform': 2125, 'horniest': 3641, 'instruct': 3851, 'nytec2a3lpmsg150p': 5087, 'ovarian': 5247, 'cyst': 2278, 'bc': 1429, 'shrink': 6281, 'onit': 5167, 'timin': 7048, 'ape': 1188, 'death': 2357, 'ibm': 3731, 'hp': 3667, 'toshiba': 7140, 'gosh': 3318, 'spose': 6552, 'usualiam': 7374, 'rimac': 5953, 'arestaur': 1227, 'squid': 6569, '1030': 301, 'dosometh': 2559, 'ucal': 7255, 'wrki': 7765, 'dabook': 2283, 'nite2': 4969, 'eachoth': 2639, 'luckili': 4432, 'madam': 4481, 'wwwtklscom': 7828, 'stoptxtstop': 6650, '150week': 381, 'innoc': 3835, 'mental': 4612, 'smoothli': 6401, 'challeng': 1888, '2marrow': 503, 'hon': 3620, 'pple700': 5562, 'nightsexcel': 4955, 'breakfast': 1659, 'hamper': 3443, 'cc100pmin': 1865, 'realiti': 5809, 'daal': 2280, '0870737910216yr': 89, '150wk': 382, 'unni': 7314, 'rechargerakhesh': 5829, 'lack': 4182, 'particular': 5318, 'dramastorm': 2577, 'forfeit': 3053, 'digi': 2462, '9pm': 914, 'fab': 2867, 'coupla': 2185, '077xxx': 34, '09066362206': 256, 'sundayish': 6740, 'prasad': 5578, 'tiwari': 7057, 'rcbbattl': 5791, 'bang': 1388, 'kochi': 4149, 'cancer': 1809, 'checkup': 1921, 'pap': 5293, 'smear': 6391, 'gobi': 3274, 'pandi': 5285, '4w': 668, 'technolog': 6884, 'todayh': 7082, 'olowoyey': 5155, 'uscedu': 7361, 'argentina': 1229, 'secretari': 6135, 'taxt': 6862, 'massagetiepo': 4545, 'lool': 4370, 'shake': 6209, 'booti': 1599, 'timeslil': 7044, 'busyi': 1741, 'scarcasim': 6097, 'naal': 4849, 'eruku': 2765, 'chikkuwat': 1954, 'w4': 7485, '5wq': 709, 'bro': 1682, 'amongst': 1131, 'sensibl': 6168, 'when': 7620, '69696': 733, '3lp': 581, '150msg': 354, 'alsoor': 1112, 'danalla': 2296, 'obedi': 5094, 'ft': 3136, 'needi': 4903, 'pout': 5557, 'stomp': 6639, 'northampton': 5021, 'abj': 935, 'serv': 6182, 'playng': 5462, '1mcflyall': 413, 'ab': 926, 'sara': 6068, 'jorgeshock': 4011, 'smithswitch': 6398, 'anna': 1156, 'nagar': 4852, 'yupz': 7961, 'modelsoni': 4730, 'ericson': 2758, 'der': 2407, 'luk': 4436, 'modl': 4731, 'cheesi': 1926, 'frosti': 3134, 'witin': 7685, '0870141701216': 78, '4txt120p': 664, '10th': 310, 'sept': 6176, '09050000555': 181, 'ba128nnfwfly150ppm': 1352, 'nudist': 5065, 'theme': 6962, 'pump': 5704, 'petrol': 5394, 'feb': 2927, 'ignor': 3758, 'evr': 2817, 'signal': 6299, 'neither': 4911, 'unusu': 7323, 'hug': 3691, 'snog': 6417, 'west': 7604, 'palm': 5281, 'fastest': 2907, '83021': 819, 'state': 6602, 'tariff': 6849, '2stoptxt': 525, 'perpetu': 5380, 'dd': 2337, 'steam': 6612, 'reg': 5859, 'pract': 5569, 'flung': 3024, 'housemaid': 3656, 'public': 5700, 'govtinstituit': 3330, 'closedinclud': 2021, 'officeunderstand': 5118, 'process': 5650, 'justbeen': 4035, 'overa': 5248, 'mush': 4828, 'tund': 7219, 'mission': 4689, 'luxuri': 4448, 'canari': 1807, '20m12aq': 443, 'lux': 4447, '28': 476, 'eh74rr': 2688, 'sleepi': 6360, 'dare': 2305, 'ben': 1485, 'mag': 4488, 'avo': 1332, 'middl': 4648, 'chachi': 1885, 'tiz': 7059, 'kanagu': 4055, 'brat': 1650, 'diwali': 2509, 'tick': 7029, 'nowonion': 5047, 'derp': 2409, 'abus': 946, 'lipo': 4319, 'netflix': 4918, 'thgt': 6984, 'clash': 2003, 'arr': 1245, 'oscar': 5221, 'rebtel': 5818, 'firefox': 2983, 'lower': 4409, '69969': 741, 'bcmsfwc1n3xx': 1435, 'footi': 3046, 'stadium': 6581, 'larg': 4213, 'cocacola': 2042, 'dark': 2306, 'teenag': 6886, 'telugutht': 6899, 'gudk': 3395, 'mittelschmertz': 4700, 'paracetamol': 5297, 'salespe': 6049, 'cthen': 2241, 'enuff': 2751, 'conclus': 2114, 'cover': 2191, 'atyour': 1303, 'instant': 3848, '08715203028': 130, '9th': 916, 'rugbi': 6012, 'affidavit': 1017, 'twigg': 7232, 'divis': 2507, 'courtroom': 2189, 'creep': 2216, 'freemsgfav': 3097, 'tonesrepli': 7112, 'lil': 4301, 'golden': 3288, 'breathe1': 1662, 'crazyin': 2210, 'sleepingwith': 6363, 'finest': 2975, 'ymca': 7916, 'getzedcouk': 3233, 'pobox365o4w45wq': 5491, 'wtc': 7776, 'weiyi': 7585, 'properti': 5678, 'interflora': 3857, '505060': 676, 'godtaken': 3278, 'teethi': 6888, 'romcapspam': 5981, 'presenc': 5600, 'outgo': 5238, 'maggi': 4491, 'mee': 4589, '08712103738': 101, 'cough': 2176, 'com': 2068, '09058099801': 209, 'b4190604': 1348, '7876150ppm': 776, 'bbdpooja': 1425, 'pimpleseven': 5434, 'blackand': 1538, 'sweatter': 6791, 'nicenicehow': 4943, 'ambiti': 1122, 'miiiiiiissssssssss': 4651, 'tunji': 7221, 'iz': 3929, 'yellow': 7887, 'misscal': 4686, 'frndz': 3126, '6miss': 749, 'freemessag': 3095, 'jamsterget': 3945, 'frog': 3129, 'mad1': 4479, 'mad2': 4480, '88888': 875, 'gbpweek': 3200, 'wipro': 7671, 'tall': 6840, 'doubt': 2565, 'handl': 3446, 'note': 5025, 'aveng': 1328, 'japanes': 3954, 'proverb': 5683, 'itu': 3920, 'itleav': 3908, 'strike': 6670, 'toss': 7141, 'gudni8': 3396, 'dancin': 2299, 'explicitli': 2853, 'nora': 5014, 'smith': 6397, 'gayl': 3191, 'crucifi': 2231, 'but': 1742, 'freedom': 3090, 'vs': 7476, 'cedar': 1869, 'twenti': 7230, 'durham': 2630, 'seat': 6130, 'porn': 5533, '69855': 735, '50p': 678, 'stopbcm': 6646, 'sf': 6197, 'paint': 5279, 'printer': 5627, 'groovi': 3375, 'harish': 3468, 'acnt': 970, 'nowadayslot': 5043, 'showroomsc': 6278, 'shape': 6218, 'doinat': 2534, 'callon': 1792, 'low': 4407, 'swatch': 6786, 'kkyesterday': 4134, 'ganesh': 3177, 'pdatenow': 5350, 'call2optoutyhl': 1781, 'configur': 2121, 'anal': 1143, 'pear': 5354, 'helloooo': 3521, 'oooooh': 5181, '09058094454': 196, 'thatnow': 6955, '54': 686, 'resubmit': 5926, 'expiri': 2850, '2geva': 496, 'mint': 4675, 'uxxxx': 7382, 'human': 3698, 'studyn': 6689, 'wuld': 7782, 'everyboy': 2802, 'xxxxxxxx': 7860, '532': 685, '924': 899, '863': 850, '725': 760, 'brilliant1thingi': 1673, 'answr': 1169, 'liquor': 4320, 'flake': 3000, 'loko': 4355, '730': 763, 'tm': 7063, 'fireplac': 2984, 'icon': 3741, '08712400200': 106, 'fifth': 2956, 'woozl': 7722, '08718723815': 151, 'machin': 4474, 'sake': 6043, 'my': 4840, 'bruce': 1696, 'down': 2568, 'fletcher': 3008, '27603': 475, '08714714011': 128, 'cozi': 2194, 'nightnobodi': 4954, 'buzzzz': 1750, 'chest': 1936, 'trend': 7182, 'con': 2109, 'brief': 1669, 'descript': 2411, 'nuclear': 5064, 'fusion': 3157, 'histori': 3572, 'iter': 3904, 'jet': 3980, 'nonenowher': 5007, 'ikno': 3761, 'doesdiscountshitinnit': 2525, 'jabo': 3932, 'abi': 932, 'slower': 6379, 'maniac': 4522, 'hadya': 3424, 'sapna': 6066, 'maneg': 4519, 'yday': 7879, 'hogidhechinnu': 3600, 'swalpa': 6780, 'agidhan': 1039, 'typelyk': 7249, 'footblcrckt': 3045, 'swell': 6796, 'tim': 7040, 'bollox': 1585, 'tol': 7092, 'ingredi': 3828, 'poci': 5497, 'bell': 1477, 'non': 5004, 'call2optout4qf2': 1773, 'senor': 6164, 'giggl': 3240, 'person2di': 5384, 'nvq': 5080, 'profession': 5657, 'tiger': 7032, 'wood': 7717, 'reboot': 5817, 'grinder': 3370, 'pt2': 5695, 'youkwher': 7931, 'understood': 7289, 'bottom': 1612, 'knowh': 4142, 'disconnect': 2491, 'onluy': 5170, 'offcampu': 5111, 'msgs150p': 4794, 'riley': 5952, 'ew': 2822, 'howv': 3665, 'lingo': 4312, '400minscal': 601, 'call2optoutj5q': 1778, 'medont': 4588, 'lm': 4335, 'hm': 3584, '69200': 731, 'chrgd50p': 1980, '2exit': 493, 'salon': 6051, 'sankranti': 6062, 'republ': 5900, 'shivratri': 6249, 'ugadi': 7258, 'independ': 3805, 'friendshipmotherfatherteacherschildren': 3119, 'festiv': 2942, 'dasara': 2314, 'rememberi': 5880, 'theseyour': 6978, 'raj': 5761, 'lifei': 4288, 'daywith': 2336, 'somewheresomeon': 6454, 'tosend': 7139, 'selfless': 6154, 'initi': 3829, 'tallent': 6842, 'usc': 7360, 'portal': 5536, 'dont4get2text': 2550, 'lennon': 4264, 'crab': 2200, 'shoreth': 6263, 'wave': 7546, 'footprint': 3047, 'fox': 3075, 'frndsship': 3125, 'dwn': 2636, 'slaaaaav': 6355, 'summon': 6734, '3365': 558, 'appendix': 1200, 'slob': 6375, 'gudnit': 3397, 'topicsorri': 7131, 'webpag': 7562, 'yeesh': 7884, 'hunk': 3704, 'httpgotbabescouk': 3677, 'gopalettan': 3316, 'particip': 5317, 'admin': 993, 'kkfrom': 4124, 'abroad': 939, 'xxsp': 7851, 'visionsmscom': 7450, 'stopcost': 6648, '08712400603': 107, 'goodi': 3304, 'mat': 4549, 'ay': 1344, 'andro': 1150, 'isaiahd': 3891, 'foot': 3043, 'peni': 5364, 'expert': 2847, 'ssi': 6575, 'thinl': 6993, 'sachinjust': 6031, 'importantli': 3782, 'tightli': 7034, 'wnevr': 7702, 'fal': 2887, 'vth': 7477, 'yen': 7889, 'madodu': 4484, 'nav': 4883, 'pretsorginta': 5610, 'nammanna': 4863, 'pretsovru': 5611, 'alwa': 1116, 'eveb': 2793, 'lord': 4376, 'ringsreturn': 5955, 'nowrepli': 5049, 'soundtrack': 6488, 'stdtxtrate': 6609, 'homelov': 3617, 'staffsciencenusedusgphyhcmkteachingpc1323': 6583, 'emigr': 2716, 'olol': 5154, 'stagwood': 6585, 'winterston': 7670, 'victor': 7422, 'jp': 4015, 'mofo': 4733, 'pathaya': 5335, 'enketa': 2738, 'maraikara': 4527, 'priest': 5621, 'intrud': 3868, 'walkabout': 7509, '28th': 480, '06': 17, '08708034412': 94, 'blow': 1565, 'phil': 5404, 'nevil': 4924, 'abbey': 927, 'auctionpunj': 1305, 'str8': 6656, 'classic': 2005, 'nokia150p': 4999, 'poly200p': 5513, 'thur': 7025, 'pre': 5585, 'sack': 6032, 'lookatm': 4368, 'clip': 2016, '35p': 561, 'mmsto': 4713, '32323': 553, 'lifethi': 4289, 'twat': 7228, 'dungere': 2626, 'punch': 5705, 'mention': 4613, 'vat': 7399, 'onlydon': 5173, 'grl': 3372, 'hogolo': 3602, 'kodstini': 4150, 'agalla': 1031, 'madstini': 4486, 'hogli': 3601, 'mutai': 4835, 'eerulli': 2675, 'kodthini': 4151, 'kano': 4058, 'thasa': 6947, 'mess': 4627, 'upyeh': 7343, 'tex': 6921, 'mecaus': 4584, 'werebor': 7600, 'okden': 5139, 'uin': 7264, 'satsound': 6083, 'likeyour': 4299, 'gr8fun': 3336, 'countinlot': 2182, 'xxxxx': 7857, 'count': 2180, 'hdd': 3486, 'describ': 2410, '09053750005': 191, '310303': 548, '08718725756': 152, '140ppm': 345, 'asu': 1283, 'randomli': 5775, 'reformat': 5854, 'otsid': 5227, 'leu': 4273, 'plumber': 5474, 'tape': 6848, 'wrench': 7760, 'httpwwwetlpcoukreward': 3683, 'appeal': 1198, 'thriller': 7015, '830': 818, 'size': 6337, 'eleph': 2703, 'um': 7272, 'cr': 2197, 'pooki': 5524, 'wouldnt': 7754, 'youdearwith': 7927, 'loverakhesh': 4402, 'nri': 5057, '08712101358': 100, 'x2': 7835, 'deserv': 2413, 'tight': 7033, '88039skilgmetscs087147403231winawkage16': 865, 'diddi': 2449, 'toothpast': 7127, 'av': 1318, 'oneta': 5164, 'poke': 5505, 'everyday': 2803, 'deam': 2344, 'curiou': 2258, 'coccoon': 2043, 'auto': 1316, 'yeahand': 7882, 'newquaysend': 4930, 'postcard': 5547, 'goneu': 3294, '1im': 411, 'talkin': 6839, 'boutxx': 1616, 'bread': 1655, 'windi': 7664, '09066358361': 254, 'y87': 7863, 'mahal': 4495, 'knowthi': 4144, 'tirunelvai': 7051, 'dusk': 2631, 'puzzl': 5722, 'x29': 7836, '09065989180': 250, 'stair': 6586, 'phew': 5403, 'thangamit': 6938, 'redr': 5842, 'bloodblood': 1560, 'heartheart': 3502, '1u': 426, '3u': 592, '4some1': 658, 'recycl': 5838, 'toledo': 7095, 'ding': 2471, 'tai': 6827, 'feng': 2941, 'swimsuit': 6799, 'necessari': 4895, 'squeeeeez': 6567, 'lik': 4297, 'frndshp': 3124, 'luvd': 4445, 'themp': 6966, 'volcano': 7467, 'erupt': 2766, 'aris': 1234, 'hurrican': 3712, 'sway': 6787, 'aroundn': 1243, 'disast': 2487, 'lighter': 4295, '7pm': 785, 'kkit': 4128, 'goodwhen': 3314, 'lasagna': 4216, 'woould': 7721, '08718726978': 157, 'drove': 2601, 'shore': 6262, 'deu': 2427, '44': 618, '7732584351': 773, '3510i': 560, 'deliveredtomorrow': 2389, 'tap': 6847, 'spile': 6525, 'broad': 1683, 'canal': 1806, 'engin': 2733, 'onedg': 5163, 'raviyog': 5786, 'peripher': 5377, 'bhayandar': 1511, 'east': 2652, 'sunoco': 6743, 'howard': 3660, 'plate': 5455, 'leftov': 4254, 'starv': 6599, 'cheat': 1915, 'fatti': 2913, 'badrith': 1370, 'chennaii': 1931, 'usno': 7370, 'owe': 5258, 'checkin': 1919, 'numberso': 5071, 'ittb': 3919, 'armenia': 1238, 'swann': 6782, '09058097189': 206, '09061221066': 215, 'fromm': 3131, '330': 556, '1120': 312, '1205': 324, 'wyli': 7834, 'justifi': 4036, 'in2': 3789, '5226': 681, 'hava': 3480, '1131': 314, 'rct': 5793, 'thnq': 7000, 'adrian': 1002, 'rgd': 5940, 'vatian': 7400, 'babysit': 1361, 'itll': 3910, 'gonnamissu': 3297, 'muchi': 4809, 'butther': 1744, 'abouta': 938, 'merememberin': 4621, 'asther': 1277, 'ofsi': 5124, 'breakin': 1660, 'yaxx': 7875, 'ee': 2672, 'poortiyagi': 5529, 'odalebeku': 5107, 'hanumanji': 3454, '1hanuman': 408, '2bajarangabali': 486, '3maruti': 582, '4pavanaputra': 655, '5sankatmochan': 703, '6ramaduth': 752, '7mahav': 783, 'janarig': 3948, 'ivatt': 3925, 'kalisidar': 4050, 'olag': 5149, 'ondu': 5161, 'keluviri': 4079, 'maretar': 4530, 'ind': 3803, 'dodda': 2523, 'problum': 5648, 'nalli': 4858, 'siguviri': 6302, 'idu': 3752, 'matra': 4555, 'neglet': 4909, 'easili': 2651, 'ijust': 3759, 'opp': 5188, 'gei': 3209, 'tron': 7189, 'dl': 2512, 'selfish': 6153, 'spif': 6524, 'workag': 7730, 'supos': 6754, 'therexx': 6976, 'embassi': 2714, 'lightli': 4296, 'checkbox': 1918, 'sac': 6029, 'hundredh': 3701, 'batsman': 1417, 'yetti': 7909, 'jiayin': 3986, '09050000928': 183, 'pobox45w2tg150p': 5492, 'forgotten': 3058, 'revers': 5935, 'mathemat': 4553, '2waxsto': 529, 'yifeng': 7912, 'theyll': 6982, 'slurp': 6381, 'minimum': 4669, '3mile': 583, 'ing': 3827, 'brainless': 1647, 'dolld': 2542, 'vehicl': 7407, 'sariyag': 6074, 'madok': 4485, 'barolla': 1403, '07090201529': 22, 'postpon': 5550, 'elain': 2697, 'tiim': 7037, 'afternon': 1024, 'resiz': 5910, '09066364349': 260, 'box434sk38wp150ppm18': 1632, 'oppos': 5193, 'drunken': 2608, 'msgwe': 4799, 'shortcod': 6266, '83332pleas': 825, '08081263000': 61, 'refundedthi': 5857, 'somerset': 6446, 'overtim': 5253, 'nigpun': 4957, 'dismissi': 2499, 'screwd': 6119, '08712402972': 112, 'bull': 1723, 'float': 3016, '09058095201': 205, 'heehe': 3511, 'arithmet': 1235, 'percentag': 5369, 'chillaxin': 1961, 'iknow': 3762, 'wellda': 7588, 'peril': 5375, 'studentfinanci': 6686, 'crisisspk': 2224, 'monster': 4753, 'ia': 3726, 'obey': 5096, 'uhhhhrmm': 7262, 'mb': 4569, 'gbpsm': 3199, '600': 711, '400': 600, 'deltomorrow': 2391, '09066368470': 263, '24m': 461, '1month': 418, 'smartcal': 6387, '68866': 729, 'subscriptn3gbpwk': 6709, '08448714184': 66, 'stoptxt': 6649, 'landlineonli': 4200, 'mth': 4804, 'cameravideo': 1801, 'textsweekend': 6933, 'callback': 1782, 'orno': 5217, 'fink': 2980, '09099726553': 285, 'carli': 1835, '1minmobsmor': 415, 'lkpobox177hp51fl': 4333, 'youphon': 7938, 'athom': 1287, 'youwanna': 7947, 'jack': 3933, 'sayask': 6090, 'pretend': 5609, 'hypotheticalhuagauahahuagahyuhagga': 3725, 'braini': 1646, 'occas': 5101, 'reflect': 5852, 'desir': 2415, 'affectionsamp': 1016, 'tradit': 7158, 'cantdo': 1816, 'anythingtomorrow': 1182, 'mypar': 4843, 'aretak': 1228, 'outfor': 5237, 'katexxx': 4067, 'level': 4274, 'gate': 3186, '89105': 879, 'ts': 7204, 'lingeri': 4311, 'wwwbridalpetticoatdreamscouk': 7792, 'weddingfriend': 7567, 'board': 1576, 'overh': 5252, 'reslov': 5911, 'inst': 3846, 'pend': 5361, '8o': 892, 'western': 7605, 'outta': 5246, 'nowaday': 5042, 'notixiqu': 5033, 'laxinorf': 4233, 'bambl': 1384, 'entrop': 2749, 'oblising': 5098, 'masteriast': 4548, 'amplikat': 1135, 'fidalf': 2950, 'champlaxig': 1890, 'atroci': 1292, 'wotz': 7750, 'junna': 4033, 'knicker': 4139, '01223585236': 3, 'nikiyu4net': 4960, 'a30': 919, 'divert': 2506, 'wadebridgei': 7492, 'vill': 7438, 'orc': 5206, 'bloomberg': 1563, '447797706009': 620, 'httpcareer': 3675, 'bloombergcom': 1564, 'seek': 6142, 'priscilla': 5630, 'dayexcept': 2329, 'wisdom': 7674, 'wherr': 7630, 'phone750': 5410, 'resolut': 5912, 'replyb': 5895, 'frankgood': 3080, 'logoff': 4351, 'parkin': 5314, 'kent': 4082, 'vale': 7386, 'cannt': 1814, 'asa': 1256, '09050000878': 182, 'wan2': 7519, 'meetgreet': 4591, 'westlif': 7606, '1unbreak': 427, '2untam': 528, '3unkempt': 593, '83049': 821, 'princ': 5623, 'charm': 1904, 'arnt': 1241, 'xxxxxxxxxxxxxx': 7861, 'dorothykiefercom': 2557, 'granit': 3347, 'strongbuy': 6676, 'explos': 2854, 'nasdaq': 4869, 'symbol': 6809, 'cdgt': 1868, 'moneeppolum': 4743, 'allalo': 1097, 'fundament': 3151, '101mega': 300, 'pixel': 5443, '3optic': 586, '5digit': 690, 'doom': 2553, 'peteynoi': 5393, 'timehop': 7043, 'alritehav': 1110, 'js': 4016, 'amx': 1140, 'burgundi': 1731, 'captain': 1822, 'base': 1406, 'placement': 5447, 'amrita': 1137, 'bpo': 1641, 'nighter': 4952, 'persev': 5381, 'spous': 6555, 'pmt': 5480, 'sumthin': 6735, '4give': 647, 'shldxxxx': 6252, 'thatd': 6950, 'scenario': 6100, 'spunout': 6564, 'wrld': 7768, '09071517866': 272, '150ppmpobox10183bhamb64x': 372, '10am': 303, 'devour': 2431, 'airtel': 1063, 'broadband': 1684, 'tens': 6908, 'sprint': 6560, 'prolli': 5664, 'gower': 3332, 'morrow': 4767, 'chik': 1945, 'filth': 2964, '69669': 732, 'saristar': 6073, 'e14': 2638, '9yt': 917, '08701752560': 80, '450p': 629, 'stop2': 6644, '420': 611, '9061100010': 897, 'wire3net': 7673, '1st4term': 422, 'mobcudb': 4719, 'alreadysabarish': 1106, 'jaya': 3958, '09050000460': 180, 'j89': 3931, 'box245c2150pm': 1623, 'inperson': 3839, 'flea': 3007, 'banneduk': 1393, 'itlet': 3909, 'highest': 3560, 'maximum': 4566, '71': 759, 'ny': 5083, 'taj': 6829, 'lesser': 4269, 'known': 4143, 'mumtaz': 4823, 'shahjahan': 6207, 'hari': 3467, 'okcom': 5137, '69101': 730, 'wwwrtfsphostingcom': 7815, 'webadr': 7560, 'gete': 3228, 'incred': 3801, 'o2fwd': 5092, '18ptxt': 399, 'passport': 5327, 'multipli': 4818, 'decim': 2363, 'twin': 7234, 'strt': 6678, 'ltdhelpdesk': 4421, '02085076972': 12, 'equal': 2756, 'unev': 7294, 'peski': 5388, 'cyclist': 2277, 'werear': 7599, 'nalla': 4857, 'adi': 991, 'entey': 2744, 'nattil': 4877, 'kittum': 4118, 'kavalan': 4069, 'hire': 3570, 'hitman': 3576, '09066660100': 269, '2309': 454, 'cp': 2196, 'outag': 5233, 'conserv': 2132, 'epi': 2754, 'bhaskar': 1510, 'dubsack': 2615, 'individu': 3810, 'gong': 3295, 'kaypoh': 4071, 'basketbal': 1410, 'outdoor': 5235, 'macho': 4475, 'interfu': 3858, 'hustl': 3716, 'forth': 3066, 'audit': 1307, 'harlem': 3469, 'workout': 7734, 'zac': 7963, 'hui': 3695, 'xin': 7844, 'lib': 4279, 'versu': 7415, 'edg': 2664, 'underdtand': 7287, 'itboth': 3901, 'upnot': 7335, 'muchxxlov': 4811, 'locaxx': 4345, '07090298926': 23, 'reschedul': 5903, 'ref9307622': 5847, 'skateboard': 6341, 'despit': 2419, 'thrown': 7019, 'bandag': 1387, 'mytonecomenjoy': 4846, 'html': 3673, 'gbp450week': 3197, 'mfl': 4642, 'hectic': 3509, 'fell': 2937, 'swoop': 6804, 'wamma': 7517, 'laidwant': 4192, 'doggin': 2531, 'nownyt': 5046, 'langport': 4203, 'virtual': 7448, 'senthil': 6173, 'apnt': 1191, 'pant': 5290, 'waiti': 7501, 'go2sri': 3270, 'lanka': 4205, 'wordnot': 7726, 'mere': 4620, 'relationshipit': 5868, 'wherevr': 7629, 'forevr': 3052, 'gudnyt': 3399, 'plum': 5473, 'smack': 6383, 'alot': 1104, 'attract': 1300, 'promot': 5669, '8714714': 860, 'vega': 7404, 'lou': 4391, 'lancast': 4197, 'neway': 4927, 'soc': 6426, 'bsn': 1700, 'lobbi': 4342, 'eryth': 2768, 'vewi': 7417, 'lubli': 4427, 'rs5': 6001, '087147123779am7pm': 123, 'sbut': 6093, 'luck2': 4430, 'specifi': 6512, 'domain': 2544, 'nusstu': 5075, 'ohi': 5130, 'hahatak': 3428, 'bari': 1400, 'hudgi': 3690, 'yorg': 7922, 'pataistha': 5332, 'ertini': 2764, 'hasbroin': 3471, 'jump': 4029, 'hoop': 3634, 'lateso': 4224, 'morningtak': 4765, 'dreamsu': 2586, 'meummifyingby': 4640, 'associ': 1275, 'rip': 5961, 'uteru': 7375, 'pool': 5525, 'jacuzzi': 3937, 'x49': 7837, '09065989182': 251, 'colourredtextcolourtxtstar': 2067, '2night': 514, 'wildest': 7657, 'splwat': 6540, 'whr': 7641, 'aldrin': 1079, 'rakhesh': 5767, 'rtm': 6005, 'herepl': 3535, 'callurg': 1795, 'neces': 4893, 'witout': 7687, 'hwd': 3721, 'watll': 7543, 'wth': 7778, 'espel': 2775, '4wrd': 670, 'dearlov': 2350, 'wthout': 7779, 'takecar': 6832, 'univ': 7306, 'raja': 5762, 'burrito': 1735, 'callcoz': 1784, 'terrorist': 6917, 'itz': 3924, 'confirmd': 2123, 'cnn': 2036, 'ibn': 3732, 'stitch': 6634, 'trouser': 7192, '146tf150p': 348, 'cheeto': 1927, 'sync': 6812, 'shangela': 6214, 'hppnss': 3669, 'sorrow': 6477, 'goodfriend': 3303, '08704439680': 86, 'againlov': 1030, 'poo': 5523, 'gloucesterroad': 3262, 'uup': 7378, 'ouch': 5229, 'glo': 3258, '09058095107': 204, 's3xi': 6026, 'yesmum': 7904, 'wlcome': 7697, 'eaten': 2656, 'timi': 7047, 'mila': 4652, 'age23': 1035, 'blond': 1557, 'mtalk': 4803, '6986618': 736, '30pptxt': 544, '5free': 691, 'increment': 3802, 'help08718728876': 3528, 'fishrman': 2991, 'ful': 3143, 'stone': 6640, 'strtd': 6679, 'throwin': 7018, 'atlast': 1289, '1stone': 424, 'moraldont': 4761, '08717895698': 147, 'mobstorequiz10ppm': 4727, 'physic': 5417, 'arpraveesh': 1244, 'delici': 2387, 'salad': 6044, 'desert': 2412, 'whore': 7639, 'funk': 3153, 'tones2u': 7110, 'twink': 7235, 'scalli': 6095, 'skin': 6346, 'jock': 3993, '08712466669': 118, '08712460324nat': 117, 'flood': 3017, 'bead': 1442, 'wishlist': 7678, 'section': 6137, 'comfort': 2077, 'sold': 6436, 'onionr': 5166, 'petrolr': 5395, 'beerr': 1463, 'fakemi': 2885, 'reffer': 5850, 'uif': 7263, 'geti': 3229, 'rsi': 6002, 'weirdi': 7583, '09061701851': 218, 'k61': 4040, '12hour': 333, 'funer': 3152, 'godnot': 3277, 'chikkuk': 1952, 'vivek': 7457, '74355': 767, 'brah': 1643, 'outif': 5240, 'greec': 3364, 'protect': 5682, 'ethreat': 2784, 'sib': 6290, 'sensit': 6169, 'passwordsatmsm': 5330, 'someday': 6441, 'goodmorningmi': 3307, 'grandfath': 3345, 'expiredso': 2849, 'blu': 1567, 'concert': 2113, 'novemb': 5039, '09061104276': 210, '375max': 568, 'yuou': 7959, 'spot': 6553, 'bunch': 1726, 'lotto': 4388, 'authoris': 1315, '645pm': 725, 'honeydid': 3626, 'gimmi': 3243, 'gossx': 3320, 'painit': 5278, 'todaydo': 7079, 'ystrdayic': 7953, 'chile': 1959, 'sublet': 6703, 'febapril': 2928, 'ammaelif': 1128, 'steer': 6615, 'rounderso': 5989, 'truekdo': 7196, 'lambu': 4195, 'ji': 3984, 'cometil': 2075, 'batchlor': 1414, 'zoom': 7973, 'nowsend': 5051, '62220cncl': 718, 'stopc': 6647, '08717890890': 146, 'chees': 1925, 'pink': 5436, 'ringtonefrom': 5957, 'httptm': 3679, 'widelivecomindex': 7647, 'wmlid1b6a5ecef91ff937819firsttrue180430jul05': 7699, 'xafter': 7839, 'cst': 2237, 'pure': 5711, 'hisher': 3571, 'smiley': 6396, 'gail': 3165, 'wrongtak': 7772, 'worryc': 7742, 'l8tr': 4174, 'hunlov': 3705, 'yaxxx': 7876, 'theoret': 6968, 'formallypl': 3062, 'prayingwil': 5583, 'multimedia': 4817, 'senthilhsbc': 6174, 'agenc': 1036, 'nicki': 4947, 'gumbi': 3407, 'httpalto18coukwavewaveaspo44345': 3674, 'tarpon': 6851, 'cab': 1759, 'availablethey': 1323, 'step': 6616, 'careumma': 1834, 'call2optouthf8': 1776, '09061702893': 220, '08719181259': 170, '260305': 469, 'deartak': 2356, 'radiat': 5752, 'proper': 5676, 'tongu': 7115, 'qi': 5728, 'suddenli': 6717, 'flurri': 3025, 'melt': 4604, 'ground': 3376, 'eek': 2673, 'born': 1604, 'freerington': 3101, 'real1': 5806, 'pushbutton': 5717, 'dontcha': 2551, 'babygoodby': 1358, 'golddigg': 3287, 'webeburnin': 7561, 'nigh': 4950, 'nooooooo': 5011, 'cabl': 1761, 'so': 6424, 'playin': 5461, 'guoyang': 3408, 'rahul': 5756, 'dengra': 2397, 'antelop': 1170, 'toplay': 7132, 'fieldof': 2952, 'selfindepend': 6152, 'growrandom': 3382, 'gnarl': 3267, 'barkley': 1401, 'borderlin': 1601, '545': 688, 'nightnight': 4953, 'groov': 3374, 'mise': 4681, 'secur': 6138, 'unsecur': 7317, '195': 401, '6669': 727, 'lanr': 4206, 'fakey': 2886, 'eckankar': 2661, 'ph': 5397, '3000': 538, '09061743386': 221, 'heater': 3505, 'dodgey': 2524, 'call2optout674': 1774, 'faceasssssholeee': 2870, 'ceri': 1881, 'rebel': 5816, 'dreamz': 2587, 'ringtonek': 5959, '84484': 839, 'nationwid': 4876, 'newport': 4929, 'juliana': 4027, 'nacho': 4850, 'eta': 2780, 'dizzamn': 2510, 'suitem': 6728, 'nimbomson': 4961, 'contin': 2141, 'housew': 3657, '08717507711': 144, 'btnation': 1705, '087104711148': 99, 'fiendmak': 2953, 'muchimped': 4810, 'ow': 5257, 'deyi': 2434, '60400thousadi': 713, 'sumthinxx': 6736, 'nose': 5022, 'essay': 2777, 'tram': 7162, 'vic': 7421, 'coher': 2051, 'tripl': 7186, 'echo': 2660, 'gran': 3343, 'onlyfound': 5174, 'afew': 1012, 'agocusoon': 1041, 'honi': 3628, 'dial': 2440, 'bx526': 1755, 'univers': 7307, 'southern': 6492, 'california': 1770, 'rayan': 5789, 'macleran': 4477, 'ball': 1380, 'olav': 5150, 'mandara': 4516, 'trishul': 7187, 'woo': 7716, 'hoo': 3630, 'panti': 5292, 'thout': 7010, '09066364311': 259, 'flatter': 3005, 'pint': 5438, 'carlin': 1836, 'liter': 4326, 'ciao': 1989, 'x49your': 7838, 'timey': 7045, 'wknd': 7695, 'yalrigu': 7868, 'heltiniiyo': 3530, 'kothi': 4158, 'meso': 4626, 'meok': 4617, 'chikkub': 1948, 'noic': 4992, 'esaplanad': 2769, '08709501522': 97, '139': 342, 'la3': 4177, '2wu': 533, 'prof': 5656, 'sem': 6156, 'enna': 2739, 'kalaachutaarama': 4048, 'coco': 2047, 'sporad': 6549, '09064017305': 239, 'pobox75ldns7': 5493, 'tbspersolvo': 6866, '38': 569, 'kath': 4068, 'manchest': 4513, 'burden': 1729, 'noworriesloanscom': 5048, '08717111821': 140, 'harder': 3464, 'nbme': 4886, 'villa': 7439, 'sathya': 6079, 'gam': 3173, 'religi': 5873, 'hero': 3541, 'tip': 7049, '07973788240': 46, '08715203649': 131, 'muhommad': 4814, 'penni': 5365, 'fite': 2993, 'hwkeep': 3722, 'mj': 4703, 'unconvinc': 7284, 'willpow': 7660, 'absenc': 940, 'answerin': 1168, 'evey': 2810, 'mnth': 4715, 'prin': 5622, 'gsoh': 3388, 'spam': 6500, 'ladiesu': 4187, 'gigolo': 3241, 'oncal': 5160, 'mjzgroup': 4704, '087143423992stop': 122, '150rcvd': 380, 'ashwini': 1262, '08707500020': 90, 'tomorrowtoday': 7106, 'ukp2000': 7268, '09061790125': 228, 'jokethet': 4002, 'skinni': 6347, 'liney': 4310, 'elect': 2701, '116': 317, 'hlday': 3582, 'camp': 1802, 'amrca': 1136, 'serena': 6178, 'prescrib': 5597, 'kappa': 4062, 'meatbal': 4583, 'approv': 1211, 'panalambut': 5283, 'spjanuari': 6531, 'fortun': 3067, 'allday': 1098, 'perf': 5370, '98321561': 906, 'familiar': 2893, 'infact': 3814, 'simpson': 6312, 'band': 1386, 'agreen': 1043, 'bblue': 1427, 'cred': 2214, 'shite': 6244, 'kip': 4113, 'hont': 3629, 'amanda': 1120, '3680': 564, 'subject': 6702, 'perspect': 5386, 'sonot': 6462, 'debat': 2358, 'httpwwwwtlpcouktext': 3686, 'jb': 3962, 'youso': 7942, 'florida': 3020, 'teeth': 6887, 'hidden': 3556, 'royal': 5994, 'tog': 7085, 'swhrt': 6797, 'deyhop': 2433, '2daylov': 491, 'misstak': 4692, '0906346330': 233, '47': 633, 'po19': 5482, '2ez': 494, 'ifwhenhow': 3756, 'dayha': 2330, 'valuemorn': 7392, 'hopeafternoon': 3637, 'faitheven': 2883, 'luvnight': 4446, 'restwish': 5924, 'todaygood': 7081, 'jetton': 3981, 'friendofafriend': 3116, 'cmon': 2033, 'sticki': 6628, 'lunsford': 4441, '0796xxxxxx': 45, 'day2': 2327, 'prizeawait': 5636, 'kfc': 4091, 'gravi': 3354, 'dahe': 2288, 'daalway': 2281, 'thisdon': 6995, 'messagepandi': 4631, '07008009200': 20, 'mw': 4838, 'tuth': 7224, 'evict': 2811, 'spiral': 6528, 'michael': 4646, 'riddanc': 5946, 'raglan': 5755, 'edward': 2671, 'closebi': 2020, 'dapleas': 2304, 'skye': 6352, 'bookedth': 1594, 'hut': 3717, 'drastic': 2579, 'indic': 3809, '3750': 567, 'garment': 3184, 'sez': 6196, 'arab': 1220, 'evry1': 2820, 'eshxxxxxxxxxxx': 2773, 'bimbo': 1523, 'ugo': 7260, '241': 457, '3lion': 580, 'porteg': 5537, 'm100': 4456, 'semiobscur': 6159, 'gpr': 3333, 'repeat': 5891, 'loosu': 4374, 'careless': 1831, 'myspac': 4844, 'method': 4639, 'blur': 1573, 'jewelri': 3982, 'breaker': 1658, 'delux': 2392, 'featur': 2926, 'graphic': 3349, 'bbdelux': 1424, 'lush': 4442, 'fumbl': 3147, 'day2find': 2328, 'taunton': 6858, 'weekday': 7573, 'haiz': 3435, 'nail': 4855, 'common': 2085, 'asia': 1263, 'greatest': 3362, 'defeat': 2376, 'heartgn': 3501, 'stil': 6630, 'tobe': 7074, '430': 616, 'pimpl': 5433, 'natalja': 4874, '25f': 467, 'yes440': 7895, 'no440': 4979, 'wwwsmsacunat27081980': 7821, 'asthma': 1278, 'attack': 1294, 'spin': 6526, 'haiyoh': 3434, '02': 6, 'prsn': 5687, 'somtim': 6457, 'sunlight': 6741, 'bcozi': 1437, 'loss': 4381, 'audiit': 1306, 'reloc': 5874, 'pock': 5498, 'brison': 1678, 'cap': 1818, 'bullshit': 1724, 'gwr': 3414, 'motherfuck': 4771, 'kit': 4116, '1013': 299, 'ig11': 3757, 'oja': 5134, '08712402578': 109, 'thesmszonecom': 6980, 'anonym': 1163, 'mask': 4543, 'messagesim': 4632, 'theredo': 6972, 'woodland': 7718, 'avenu': 1330, 'parish': 5311, 'magazin': 4490, 'billi': 1520, 'awww': 1341, 'useless': 7363, 'loo': 4366, 'shelf': 6227, 'swollen': 6803, 'gland': 3255, 'previou': 5615, 'bcaz': 1430, 'stu': 6681, '2im': 501, 'trubl': 7193, 'evon': 2816, 'mokka': 4736, 'view': 7432, 'dual': 2613, 'hostil': 3648, 'haircut': 3432, 'breezi': 1665, '09061744553': 225, 'polyh': 5516, '1appledayno': 403, '1tulsi': 425, 'leafdayno': 4243, '1lemondayno': 412, '1cup': 405, 'milkdayno': 4656, 'bone': 1588, 'problm': 5647, 'litr': 4327, 'watrdayno': 7544, 'diseas': 2495, 'snd': 6413, 'lavend': 4231, 'manki': 4523, 'scous': 6113, 'stevelik': 6622, 'homewot': 3619, 'inmind': 3832, 'recreat': 5837, 'epsilon': 2755, 'mesag': 4624, 'judgementali': 4023, 'hidid': 3558, 'waheeda': 7497, 'bot': 1609, 'eventu': 2797, 'toler': 7096, '0789xxxxxxx': 43, 'hellogorg': 3519, 'lst': 4416, 'nitw': 4971, 'texd': 6923, 'hopeu': 3638, '4ward': 669, 'cin': 1990, 'jaz': 3960, '09058091870': 195, 'exorc': 2840, 'emili': 2717, 'evri': 2819, 'emot': 2718, 'dsnt': 2611, 'wordsevri': 7727, 'prayr': 5584, 'uothrwis': 7324, 'uso': 7371, 'ujhhhhhhh': 7265, 'sandiago': 6059, 'parantella': 5303, 'sweater': 6790, 'mango': 4520, 'massiv': 4546, 'landmark': 4201, 'bob': 1579, 'barri': 1405, '83738': 832, 'fineabsolutli': 2973, 'consent': 2131, 'form': 3060, 'tonex': 7113, 'wwwclubzedcouk': 7795, 'wwwtcbiz': 7824, 'polo': 5512, '373': 566, 'w1j': 7483, '6hl': 745, 'mathew': 4554, 'tait': 6828, 'anderson': 1146, 'haunt': 3478, 'crowd': 2228, '8000930705': 793, 'snowboard': 6421, 'goa': 3271, 'christmassi': 1985, 'recpt': 5836, '13': 337, 'baaaaaaaab': 1353, 'shola': 6255, 'academ': 948, 'sagamu': 6039, 'lautech': 4230, 'vital': 7454, 'zealand': 7965, 'qet': 5727, 'browser': 1694, 'gb': 3194, 'wellyou': 7591, 'lifey': 4291, 'thati': 6952, 'convers': 2147, 'usget': 7366, 'timeyour': 7046, 'sensesrespect': 6167, 'overemphasiseor': 5251, 'headset': 3491, 'adp': 1000, 'intern': 3859, 'extract': 2860, 'godyou': 3279, 'skint': 6348, 'bevieswaz': 1504, 'othr': 5226, 'watchng': 7538, 'planet': 5452, 'earthsofa': 2647, 'comfey': 2076, 'least5tim': 4248, 'wudnt': 7781, 'coast': 2039, 'ima': 3768, 'frequent': 3107, 'cupboard': 2255, 'rout': 5990, '2mro': 509, 'floppi': 3019, 'snappi': 6411, 'grasp': 3350, 'flavour': 3006, 'lareadi': 4212, 'deni': 2398, 'dom': 2543, 'ffffuuuuuuu': 2947, 'julianaland': 4028, 'oblivi': 5099, 'upsetit': 7339, 'mapquest': 4526, 'dogwood': 2532, 'archiv': 1223, 'ukmobiled': 7267, '08719839835': 173, 'mg': 4643, '89123': 880, 'behalf': 1471, 'stun': 6695, 'visa': 7449, 'gucci': 3393, 'babesozi': 1356, 'culdnt': 2250, 'talkbut': 6838, 'wannatel': 7522, 'wenwecan': 7597, 'smsing': 6404, 'effici': 2677, 'explicit': 2852, '30': 536, '02073162414': 11, '20pmin': 445, '515pm': 680, 'erutupalam': 2767, 'thandiyachu': 6936, 'invent': 3870, 'flyim': 3027, 'noit': 4995, 'lyric': 4454, 'nevr': 4925, 'unrecogn': 7315, 'somon': 6456, 'definitli': 2379, 'undrstnd': 7291, 'ger': 3224, 'toke': 7090, 'syd': 6807, 'lehhaha': 4259, 'khelat': 4095, 'kintu': 4111, 'opponent': 5189, 'dhort': 2438, 'lage': 4189, 'looovvv': 4372, 'warwick': 7531, 'tmw': 7069, 'parad': 5299, 'proze': 5686, 'norcorp': 5015, '150mtmsgrcvd18': 355, 'chennaibecaus': 1930, '7cfca1a': 780, 'grumbl': 3384, 'linear': 4308, 'algebra': 1086, 'decor': 2367, '946': 902, 'roomat': 5984, 'graduat': 3340, 'adjust': 992, 'cooper': 2157, 'nottingham': 5035, '63mile': 723, '40mph': 607, 'clearli': 2012, 'mornin': 4764, 'thanku': 6942, '89938': 884, 'string': 6671, '150ea': 352, 'otbox': 5223, '731': 766, 'la1': 4176, '7w': 789, 'itxx': 3923, 'besid': 1492, 'brisk': 1677, 'sexiest': 6192, 'dirtiest': 2483, '89070': 877, 'steve': 6621, 'tellmiss': 6896, 'contribut': 2144, 'greatli': 3363, 'urgh': 7350, 'coach': 2038, 'duvet': 2633, 'chatim': 1910, 'w8in': 7487, '4utxt': 667, 'url': 7354, '24th': 462, 'beverag': 1503, 'vpist': 7473, 'surrend': 6770, 'symptom': 6811, 'rdi': 5797, 'itnow': 3914, 'backward': 1366, 'abstract': 942, 'vikkyim': 7436, 'africa': 1021, 'avin': 1331, 'chitchat': 1970, 'logon': 4352, '8883': 872, '4217': 613, 'w1a': 7482, '6zf': 757, '118pmsg': 319, 'quiteamuz': 5742, 'scool': 6107, '1000call': 295, '09071512432': 270, '300603tcsbcm4235wc1n3xxcallcost150ppmmobilesvari': 540, 'fixd': 2996, 'bthmm': 1704, 'njan': 4973, 'vilikkamt': 7437, 'sudn': 6718, 'chapter': 1897, 'chop': 1976, 'noooooooo': 5012, '09065171142stopsms08718727870150ppm': 246, 'firsg': 2987, 'split': 6538, 'heat': 3504, 'sumf': 6732, '86888': 853, 'subscribe6gbpmnth': 6707, '3hr': 579, 'hiphop': 3569, 'oxygen': 5263, 'resort': 5914, 'roller': 5979, 'cannam': 1812, 'capit': 1820, 'australia': 1314, 'mquiz': 4783, 'showr': 6277, 'upon': 7336, 'ceil': 1870, 'presnt': 5604, 'bcz': 1439, 'jeevithathil': 3968, 'irulina': 3890, 'neekunna': 4905, 'prakasamanu': 5575, 'sneham': 6414, 'prakasam': 5574, 'ennal': 2740, 'prabha': 5566, 'mn': 4714, 'islov': 3897, '7634': 771, '7684': 772, 'firmwar': 2986, 'vijaykanth': 7434, 'comedi': 2072, 'tvhe': 7226, 'anythi': 1180, 'wwwclubmobycom': 7794, '08717509990': 145, 'polytruepixringtonesgam': 5519, 'keypad': 4089, 'btwn': 1709, 'decad': 2360, 'gover': 3329, 'loyal': 4411, '09066380611': 265, 'spice': 6521, 'prasanth': 5579, 'ettan': 2785, '08718738002': 166, '48922': 638, '211104': 447, 'appi': 1201, 'fizz': 2998, 'contain': 2139, 'genu': 3219, 'robinson': 5971, 'nottel': 5034, 'out': 5232, 'soz': 6494, 'imat': 3772, 'msgsometext': 4796, '07099833605': 24, 'ref9280114': 5846, 'chloe': 1972, '150ptext': 376, 'wewa': 7612, '130': 338, 'iriv': 3887, '255': 466, '128': 332, 'bw': 1751, 'dajst': 2292, 'hmmmbut': 3589, 'surli': 6767, '07808726822': 39, '08718729758': 162, 'dokey': 2539, 'mmmmmmm': 4712, 'snuggl': 6423, 'whisper': 7634, 'healthi': 3495, '2bold': 487, 'givit': 3253, 'kanoanyway': 4059, 'scrape': 6114, 'barrel': 1404, 'misfit': 4683, 's8': 6027, 'sleepin': 6361, 'clearer': 2011, 'peach': 5352, 'rayman': 5790, 'golf': 3290, 'activ8': 978, 'termsappli': 6913, 'therel': 6974, 'minor': 4671, 'shindig': 6238, 'minstext': 4674, 'phonebook': 5411, 'keng': 4081, 'ash': 1260, 'shijutta': 6236, 'kafter': 4044, 'offens': 5112, 'bbdtht': 1426, 'dvg': 2635, 'coldheard': 2057, 'vinobanagar': 7441, 'conditionand': 2116, 'ovulatewhen': 5256, 'woah': 7705, 'orh': 5214, 'n8': 4847, 'darlinim': 2311, 'soonxxx': 6469, 'coolmob': 2155, 'frogaxel': 3130, 'akonlon': 1071, 'eyeddont': 2865, 'cashbincouk': 1850, 'wwwcashbincouk': 7793, 'canteen': 1817, 'stressful': 6666, 'ni8swt': 4940, 'presid': 5602, '140': 343, '180': 394, 'leastwhich': 4249, 'bedrm': 1454, 'hitechn': 3574, 'supportprovid': 6758, 'assist': 1274, '1172': 318, 'watev': 7541, 'built': 1721, 'lonlin': 4365, 'lotz': 4390, 'gailxx': 3166, 'hii': 3561, 'complac': 2094, 'mina': 4661, 'miwa': 4701, 'hsbc': 3672, 'woulda': 7753, '09066649731from': 268, 'opposit': 5194, 'heavili': 3508, 'doll': 2540, 'patrick': 5337, 'swayz': 6788, 'santa': 6063, '09077818151': 273, 'calls150ppm': 1793, 'wwwsantacallingcom': 7816, 'miser': 4682, 'quarter': 5732, 'nervou': 4914, 'limp': 4305, 'aa': 920, '0784987': 42, '08719180219': 168, '060505': 18, 'oga': 5126, 'poorli': 5528, 'brb': 1653, 'smaller': 6385, 'capac': 1819, 'smsshsexnetun': 6406, 'fgkslpopw': 2949, 'fgkslpo': 2948, '0871277810710pmin': 119, 'defer': 2377, 'admiss': 996, 'checkmat': 1920, 'chess': 1935, 'persian': 5382, 'phrase': 5416, 'shah': 6206, 'maat': 4468, 'rat': 5781, 'pee': 5355, 'photoshop': 5414, '08715203652': 132, '42810': 615, '29100': 483, 'shoppin': 6258, 'toopray': 7125, 'inshah': 3843, 'allah': 1094, 'sthi': 6626, 'increas': 3800, 'wifedont': 7650, 'iti': 3906, 'toolet': 7123, 'north': 5020, 'carolina': 1840, 'texa': 6922, 'gre': 3358, 'bomb': 1587, 'weapon': 7554, 'lovli': 4406, 'messagethank': 4635, '150pmsgrcvd': 365, 'customercar': 2266, '08718726270': 153, 'playi': 5460, 'cla': 1997, 'lit': 4325, 'loooooool': 4371, 'couch': 2174, 'swashbuckl': 6784, '5terror': 704, '6cruel': 743, '7romant': 786, '8lovabl': 890, '9decent': 911, 'joker': 4001, 'dip': 2476, 'gek1510': 3210, 'feelin': 2934, 'nuther': 5076, 'lyricalladie21f': 4455, 'yes910': 7897, 'no910': 4983, 'wwwsmsacuhmmross': 7820, 'happiest': 3460, 'crisi': 2223, 'whenwher': 7624, 'antibiot': 1173, 'abdomen': 928, 'gyna': 3417, 'infect': 3815, '6time': 755, 'chastiti': 1907, 'devic': 2429, 'beat': 1444, 'gut': 3410, 'tallahasse': 6841, 'ou': 5228, 'taka': 6830, 'pobox202': 5488, 'nr31': 5056, '7z': 790, '450pw': 630, 'ritten': 5964, 'fold': 3033, 'warner': 7529, '83118': 823, 'colin': 2058, 'farrel': 2902, 'swat': 6785, 'popcornjust': 5532, 'msgticketkioskvalid': 4798, '4712': 634, 'kiosk': 4112, 'mre': 4785, 'solihul': 6437, 'nh': 4938, 'mistakeu': 4696, 'bornpleas': 1605, '2b': 485, 'terminatedw': 6912, 'inconveni': 3798, 'henri': 3533, 'yard': 7873, 'bergkamp': 1491, 'margin': 4532, '78': 774, 'itsnot': 3918, 'parentnot': 5307, 'unintent': 7302, 'nonetheless': 5008, 'hooch': 3631, 'toaday': 7072, 'splat': 6536, 'graze': 3357, 'confirmdeni': 2124, 'hearin': 3499, 'yah': 7866, 'tortur': 7138, 'sexychat': 6195, 'startedindia': 6597, 'kkcongratul': 4123, 'court': 2188, 'chapel': 1896, 'frontiervil': 3133, 'mountain': 4776, 'deer': 2373, 'maili': 4499, 'varma': 7397, 'membershiptak': 4607, 'careinsha': 1830, 'fart': 2903, 'ortxt': 5218, 'advisor': 1009, 'diall': 2441, '402': 602, 'woot': 7720, 'ahhhhjust': 1049, 'uphad': 7333, 'thoso': 7003, 'viveki': 7458, '96': 904, 'dado': 2286, 'experiencehttpwwwvouch4mecometlpdiningasp': 2846, 'kaila': 4046, '09058094507': 198, 'donat': 2545, 'unicef': 7300, 'asian': 1264, 'fund': 3150, '864233': 851, 'cme': 2032, 'collaps': 2060, 'jade': 3939, 'paul': 5340, 'barm': 1402, 'thinkthi': 6992, 'goldvik': 3289, '29m': 484, 'yes762': 7896, 'no762': 4980, 'wwwsmsacugoldvik': 7819, 'coulda': 2178, 'phoni': 5412, '1230': 328, 'okday': 5138, 'hmph': 3595, 'baller': 1381, 'punto': 5707, 'ayo': 1346, '125': 329, 'freeentri': 3091, 'xt': 7848, 'toyota': 7153, 'camri': 1804, 'olayiwola': 5151, 'mileag': 4654, 'clover': 2026, 'numberpl': 5069, 'idconvey': 3744, 'achanammarakheshqatar': 965, 'rencontr': 5885, '08714712412': 127, 'galsu': 3172, 'te': 6874, 'puppi': 5708, 'nois': 4993, 'sarasota': 6069, '150pmeg': 361, '08715203685': 135, 'code4xx26': 2049, '131004': 339, 'deepest': 2372, 'darkest': 2308, '09094646631': 277, 'nat': 4872, 'vldo': 7460, 'adsens': 1003, 'dudett': 2619, 'perumbavoor': 5387, 'stage': 6584, 'cherish': 1933, 'clarifi': 2002, 'prepon': 5596, 'natali': 4873, '20f': 442, 'yes165': 7893, 'no165': 4977, 'wwwsmsacunatalie2k9': 7822, 'younger': 7937, 'wallpap': 7513, '08701213186': 74, 'liver': 4330, 'hmmmstill': 3594, 'loneli': 4362, 'skyve': 6354, 'onword': 5178, 'mtnl': 4805, 'mumbai': 4820, '83039': 820, '62735': 721, 'accommodationvouch': 957, 'mustprovid': 4834, '15541': 386, 'rajitha': 5765, 'ranju': 5779, '5p': 701, 'tscs08714740323': 7207, '1winawk': 429, '150perweeksub': 358, 'dearslp': 2355, 'welltak': 7590, 'careswt': 1833, 'dreamsmuah': 2585, '09066361921': 255, 'disagre': 2484, 'afterward': 1026, 'uawakefeellikw': 7252, 'shitjustfound': 6246, 'alett': 1082, 'thatmum': 6954, 'gotmarri': 3324, '4thnovbehind': 662, 'ourback': 5230, 'fuckinniceselfish': 3139, 'rearrang': 5813, 'dormitori': 2556, 'astronom': 1282, 'starer': 6594, 'recount': 5834, 'motherinlaw': 4772, 'hitler': 3575, 'eleven': 2704, 'worm': 7739, 'dysentri': 2637, 'andr': 1148, 'virgil': 7446, 'lorgoin': 4377, 'gokila': 3285, 'shanilrakhesh': 6216, 'herethanksi': 3537, 'exchang': 2829, 'uncut': 7286, 'stuffleav': 6693, 'dino': 2474, 'kkthi': 4129, 'kote': 4157, 'themobhit': 6964, 'panther': 5291, 'sugabab': 6722, 'zebra': 7966, 'badass': 1368, 'hoodi': 3632, 'wallpaperal': 7514, 'resent': 5906, 'queri': 5735, 'customersqueriesnetvisionukcom': 2267, 'hassl': 3473, 'haughaighgtujhyguj': 3476, 'fassyol': 2904, 'blacko': 1541, 'londn': 4359, '4eva': 643, '08715205273': 137, 'vco': 7402, 'reassur': 5815, 'aslamalaikkuminsha': 1268, 'tohar': 7087, 'beeen': 1458, 'muht': 4815, 'albi': 1075, 'mufti': 4813, 'mahfuuzmean': 4496, '078': 35, 'enufcredeit': 2750, 'tocallshal': 7075, 'ileav': 3764, 'okor': 5144, 'ibor': 3733, 'zero': 7968, 'goigng': 3282, 'perfum': 5373, 'sday': 6124, 'joinedso': 3999, 'grocer': 3373, 'franki': 3081, 'benni': 1490, 'diaper': 2444, 'unlik': 7310, 'patient': 5336, 'turkey': 7222, 'dawher': 2324, 'garden': 3182, 'bulb': 1722, 'seed': 6141, '3350': 557, 'scotsman': 6112, 'go2': 3269, 'notxtcouk': 5036, 'wenev': 7595, 'familymay': 2894, 'stabil': 6579, 'tranquil': 7163, 'vibrant': 7419, 'bawl': 1420, 'failur': 2879, 'velusami': 7410, 'facil': 2872, 'karnan': 4064, 'bluray': 1574, 'salt': 6052, 'wound': 7755, 'geoenvironment': 3221, 'implic': 3780, 'gentli': 3218, 'fuuuuck': 3159, 'salmon': 6050, 'wrkin': 7766, 'ree': 5844, 'compens': 2092, 'awkward': 1339, 'splash': 6534, 'musta': 4832, 'overdid': 5249, 'wwwtelediscountcouk': 7825, 'hiwhat': 3579, 'gastroenter': 3185, 'reduc': 5843, 'chuck': 1986, 'nightsw': 4956, 'port': 5535, 'liaotoo': 4278, 'juswok': 4037, 'boatin': 1578, 'spinout': 6527, 'remet': 5882, '08715203656': 133, '42049': 612, '261004': 470, 'uworld': 7381, 'qbank': 5726, 'assess': 1272, 'someonon': 6444, '09064015307': 237, 'tke': 7060, 'temal': 6900, 'vidnot': 7431, 'finishd': 2979, '09061213237': 213, '177': 392, 'm227xi': 4458, 'dull': 2622, 'treadmil': 7175, 'craigslist': 2202, 'absolut': 941, 'drmstake': 2599, 'swan': 6781, 'teethif': 6889, 'asapok': 1258, 'hellohow': 3520, 'doingwhat': 2536, '2when': 530, 'lamp': 4196, 'latebut': 4220, 'kwish': 4168, 'foward': 3073, '09061790126': 229, 'misundrstud': 4697, '2u2': 527, 'gene': 3212, 'wwwldewcom1win150ppmx3age16subscript': 7806, 'reappli': 5812, 'treatin': 7178, 'treacl': 7174, 'mumha': 4821, 'beendrop': 1460, 'theplac': 6970, 'adress': 1001, 'moneyi': 4746, 'favorit': 2920, 'oyster': 5265, 'sashimi': 6075, 'rumbl': 6016, 'marandratha': 4528, 'topic': 7130, 'correctli': 2167, 'sirsalam': 6326, 'alaikkumprid': 1073, 'shopw': 6260, 'qatarrakhesh': 5725, 'indianpl': 3808, 'numberrespect': 5070, 'galcan': 3169, 'boyi': 1639, 'galno': 3171, 'heaven': 3506, 'princegn': 5624, 'pisc': 5439, 'aquariu': 1218, 'steyn': 6624, 'wicket': 7644, 'sterm': 6620, 'resolv': 5913, 'jam': 3941, 'hannaford': 3453, 'wheat': 7617, 'chex': 1937, 'pride': 5620, 'grownup': 3381, 'stuffwhi': 6694, 'jerk': 3975, 'stink': 6633, 'textcomp': 6929, 'subsequ': 6711, 'charged150pmsg2': 1900, '84128custcar': 837, 'upcharg': 7327, '8hr': 888, 'guai': 3391, 'bottl': 1611, 'amus': 1139, 'astrolog': 1281, 'slack': 6356, 'officestil': 5116, 'formsdon': 3065, 'mentor': 4615, 'percent': 5368, '09095350301': 279, 'erot': 2761, 'ecstaci': 2662, 'dept': 2406, '13404': 341, '08717507382': 143, 'datingi': 2319, 'coincid': 2054, 'sane': 6060, '151': 383, 'paus': 5341, 'gr8prize': 3337, '8800': 863, 'psp': 5691, 'wktxt': 7696, 'httpwwwgr8prizescom': 3684, 'spacebuck': 6497, '02070836089': 9, 'squeez': 6568, 'meremov': 4622, '5i': 695, 'dread': 2582, 'thou': 7005, 'forgt': 3059, 'ajith': 1068, 'ooooooh': 5182, 'yovil': 7949, 'mega': 4594, 'asda': 1259, 'bff': 1508, 'someonethat': 6443, 'seper': 6175, 'ud': 7256, 'brolli': 1687, 'franxx': 3082, 'welli': 7589, 'prometazin': 5665, 'syrup': 6814, '5ml': 699, 'feed': 2932, 'shu': 6283, 'singapor': 6318, 'victoria': 7423, 'pocay': 5496, 'wocay': 7706, '2morrowxxxx': 508, 'broth': 1688, 'ramen': 5771, 'fowler': 3074, 'ksri': 4160, 'sivatat': 6335, 'flew': 3009, '09058094583': 200, '1526': 384, 'pubcaf': 5699, 'attent': 1298, 'tix': 7058, 'fne': 3031, 'youdo': 7928, 'worc': 7723, 'foreg': 3049, 'shrub': 6282, 'get4an18th': 3227, '32000': 551, 'legitimat': 4257, 'efreefon': 2678, 'shopth': 6259, 'pendent': 5362, 'toilet': 7088, 'stolen': 6637, 'cop': 2158, 'hu': 3687, 'navig': 4884, 'guidanc': 3403, 'chick': 1942, 'boob': 1592, 'sparkl': 6504, '45': 627, '0121': 2, '2025050': 441, 'wwwshortbreaksorguk': 7817, 'gyno': 3418, 'wwwgambtv': 7801, 'treasur': 7176, 'wmlid820554ad0a1705572711firsttru': 7700, '09050000332': 179, 'neg': 4907, 'hmmmm': 3593, 'dhoni': 2437, 'titleso': 7056, 'command': 2081, 'holbi': 3604, '09064017295': 238, 'li': 4275, 'yeovil': 7890, 'motor': 4774, 'rhode': 5942, 'bong': 1589, 'ofcours': 5109, '2p': 519, '08448350055': 65, 'planettalkinstantcom': 5454, 'loti': 4384, 'marvel': 4542, 'spiderman': 6523, 'spider': 6522, '83338': 826, '8ball': 887, 'tamilnaduthen': 6843, '07808247860': 38, '08719899229': 175, '40411': 604, '061104': 19, 'apo': 1192, 'identif': 3747, 'boundari': 1614, 'endless': 2726, 'lorw': 4378, 'young': 7936, 'referin': 5849, 'liaoso': 4277, 'saibaba': 6040, 'colani': 2055, 'chic': 1941, 'declar': 2366, '49557': 639, '261104': 471, 'disappoint': 2486, 'tantrum': 6846, 'compliment': 2100, 'chief': 1944, 'gsex': 3387, '2667': 472, 'wc1n': 7551, '3xx': 598, '3mobil': 585, 'chatlin': 1911, 'inclu': 3793, 'l8er': 4172, 'bailiff': 1375, 'mous': 4777, 'desk': 2416, 'childporn': 1957, 'jumper': 4030, 'hat': 3474, 'belt': 1484, 'cribb': 2220, 'spiritu': 6530, 'sudden': 6716, 'influx': 3817, 'kane': 4056, 'shud': 6284, 'pshewmiss': 5690, 'accent': 950, '4year': 671, 'dental': 2400, 'nmde': 4974, 'dump': 2624, 'heap': 3496, 'salesman': 6048, '087187272008': 158, 'now1': 5040, 'piti': 5441, 'soani': 6425}\n"
     ]
    }
   ],
   "source": [
    "#CountVectorizer Function\n",
    "from sklearn.feature_extraction.text import CountVectorizer\n",
    "sms = df['final_text']\n",
    "vectorizer = CountVectorizer()\n",
    "vectorizer.fit(sms)\n",
    "print(vectorizer.vocabulary_)"
   ]
  },
  {
   "cell_type": "code",
   "execution_count": 40,
   "id": "1f6eb9c1",
   "metadata": {},
   "outputs": [
    {
     "name": "stdout",
     "output_type": "stream",
     "text": [
      "(5572, 7976)\n",
      "[[0 0 0 ... 0 0 0]\n",
      " [0 0 0 ... 0 0 0]\n",
      " [0 0 0 ... 0 0 0]\n",
      " ...\n",
      " [0 0 0 ... 0 0 0]\n",
      " [0 0 0 ... 0 0 0]\n",
      " [0 0 0 ... 0 0 0]]\n"
     ]
    }
   ],
   "source": [
    "vec = vectorizer.transform(sms)\n",
    "print(vec.shape)\n",
    "print(vec.toarray())"
   ]
  },
  {
   "cell_type": "code",
   "execution_count": null,
   "id": "9c8cda9e",
   "metadata": {},
   "outputs": [],
   "source": []
  },
  {
   "cell_type": "code",
   "execution_count": 41,
   "id": "02ea7a98",
   "metadata": {},
   "outputs": [
    {
     "data": {
      "text/plain": [
       "<5572x7976 sparse matrix of type '<class 'numpy.int64'>'\n",
       "\twith 46847 stored elements in Compressed Sparse Row format>"
      ]
     },
     "execution_count": 41,
     "metadata": {},
     "output_type": "execute_result"
    }
   ],
   "source": [
    "vec"
   ]
  },
  {
   "cell_type": "code",
   "execution_count": 42,
   "id": "963844d9",
   "metadata": {},
   "outputs": [
    {
     "data": {
      "text/plain": [
       "5572"
      ]
     },
     "execution_count": 42,
     "metadata": {},
     "output_type": "execute_result"
    }
   ],
   "source": [
    "vec.shape[0]"
   ]
  },
  {
   "cell_type": "code",
   "execution_count": 43,
   "id": "3762394f",
   "metadata": {},
   "outputs": [
    {
     "data": {
      "text/plain": [
       "7976"
      ]
     },
     "execution_count": 43,
     "metadata": {},
     "output_type": "execute_result"
    }
   ],
   "source": [
    "vec.shape[1]"
   ]
  },
  {
   "cell_type": "code",
   "execution_count": 44,
   "id": "b0342dc2",
   "metadata": {},
   "outputs": [
    {
     "data": {
      "text/plain": [
       "46847"
      ]
     },
     "execution_count": 44,
     "metadata": {},
     "output_type": "execute_result"
    }
   ],
   "source": [
    "vec.nnz"
   ]
  },
  {
   "cell_type": "code",
   "execution_count": 45,
   "id": "be175518",
   "metadata": {
    "scrolled": true
   },
   "outputs": [
    {
     "name": "stdout",
     "output_type": "stream",
     "text": [
      "0.10541090248491346\n"
     ]
    }
   ],
   "source": [
    "print( vec.nnz / (vec.shape[0] * vec.shape[1]) *100 )"
   ]
  },
  {
   "cell_type": "code",
   "execution_count": 46,
   "id": "fdc5af7c",
   "metadata": {},
   "outputs": [],
   "source": [
    "#TF-IDF "
   ]
  },
  {
   "cell_type": "code",
   "execution_count": 47,
   "id": "14a1cc3d",
   "metadata": {},
   "outputs": [],
   "source": [
    "from sklearn.feature_extraction.text import TfidfTransformer\n",
    "tfidf_transformer = TfidfTransformer().fit(vec)"
   ]
  },
  {
   "cell_type": "code",
   "execution_count": 48,
   "id": "73ad427f",
   "metadata": {},
   "outputs": [],
   "source": [
    "data_tfidf = tfidf_transformer.transform(vec)"
   ]
  },
  {
   "cell_type": "code",
   "execution_count": 49,
   "id": "b04a4d3d",
   "metadata": {},
   "outputs": [
    {
     "data": {
      "text/plain": [
       "<5572x7976 sparse matrix of type '<class 'numpy.float64'>'\n",
       "\twith 46847 stored elements in Compressed Sparse Row format>"
      ]
     },
     "execution_count": 49,
     "metadata": {},
     "output_type": "execute_result"
    }
   ],
   "source": [
    "data_tfidf"
   ]
  },
  {
   "cell_type": "code",
   "execution_count": null,
   "id": "4fa06f69",
   "metadata": {},
   "outputs": [],
   "source": []
  },
  {
   "cell_type": "code",
   "execution_count": 50,
   "id": "03680c66",
   "metadata": {},
   "outputs": [
    {
     "data": {
      "text/plain": [
       "(5572, 7976)"
      ]
     },
     "execution_count": 50,
     "metadata": {},
     "output_type": "execute_result"
    }
   ],
   "source": [
    "import numpy as np\n",
    "np.shape(data_tfidf)"
   ]
  },
  {
   "cell_type": "code",
   "execution_count": 118,
   "id": "9c0731dd",
   "metadata": {
    "scrolled": true
   },
   "outputs": [
    {
     "name": "stdout",
     "output_type": "stream",
     "text": [
      "0.00033208473357894874\n"
     ]
    }
   ],
   "source": [
    "print(np.mean(data_tfidf))"
   ]
  },
  {
   "cell_type": "code",
   "execution_count": null,
   "id": "8ef5dc6b",
   "metadata": {},
   "outputs": [],
   "source": []
  },
  {
   "cell_type": "code",
   "execution_count": 52,
   "id": "474d8f5f",
   "metadata": {},
   "outputs": [],
   "source": [
    "#Splitting Training and Testing Sets"
   ]
  },
  {
   "cell_type": "code",
   "execution_count": 109,
   "id": "514b1198",
   "metadata": {},
   "outputs": [],
   "source": [
    "from sklearn.model_selection import train_test_split\n",
    "data_tfidf_train, data_tfidf_test, label_train, label_test = train_test_split(data_tfidf, df['spam'], test_size=0.3, random_state=1 )"
   ]
  },
  {
   "cell_type": "code",
   "execution_count": 110,
   "id": "df50116d",
   "metadata": {},
   "outputs": [
    {
     "data": {
      "text/plain": [
       "<3900x7976 sparse matrix of type '<class 'numpy.float64'>'\n",
       "\twith 32817 stored elements in Compressed Sparse Row format>"
      ]
     },
     "execution_count": 110,
     "metadata": {},
     "output_type": "execute_result"
    }
   ],
   "source": [
    "data_tfidf_train"
   ]
  },
  {
   "cell_type": "code",
   "execution_count": 111,
   "id": "5c1b1886",
   "metadata": {},
   "outputs": [
    {
     "data": {
      "text/plain": [
       "<1672x7976 sparse matrix of type '<class 'numpy.float64'>'\n",
       "\twith 14030 stored elements in Compressed Sparse Row format>"
      ]
     },
     "execution_count": 111,
     "metadata": {},
     "output_type": "execute_result"
    }
   ],
   "source": [
    "data_tfidf_test"
   ]
  },
  {
   "cell_type": "code",
   "execution_count": 112,
   "id": "aecf27a1",
   "metadata": {},
   "outputs": [
    {
     "name": "stdout",
     "output_type": "stream",
     "text": [
      "0.00033248164635509697\n",
      "0.00033115892028530154\n",
      "0.13564102564102565\n",
      "0.1303827751196172\n"
     ]
    }
   ],
   "source": [
    "print(np.mean(data_tfidf_train))\n",
    "print(np.mean(data_tfidf_test))\n",
    "print(np.mean(label_train))\n",
    "print(np.mean(label_test))"
   ]
  },
  {
   "cell_type": "code",
   "execution_count": 113,
   "id": "0fa0ea96",
   "metadata": {},
   "outputs": [],
   "source": [
    "nb = MultinomialNB()"
   ]
  },
  {
   "cell_type": "code",
   "execution_count": 114,
   "id": "3d96cdc9",
   "metadata": {},
   "outputs": [
    {
     "data": {
      "text/plain": [
       "MultinomialNB()"
      ]
     },
     "execution_count": 114,
     "metadata": {},
     "output_type": "execute_result"
    }
   ],
   "source": [
    "nb.fit(data_tfidf_train, label_train)"
   ]
  },
  {
   "cell_type": "code",
   "execution_count": 115,
   "id": "b8ebc1fb",
   "metadata": {},
   "outputs": [],
   "source": [
    "y_pred_class = nb.predict(data_tfidf_test)"
   ]
  },
  {
   "cell_type": "code",
   "execution_count": 119,
   "id": "43f4b10d",
   "metadata": {
    "scrolled": true
   },
   "outputs": [
    {
     "data": {
      "text/plain": [
       "0.9617224880382775"
      ]
     },
     "execution_count": 119,
     "metadata": {},
     "output_type": "execute_result"
    }
   ],
   "source": [
    "from sklearn import metrics\n",
    "metrics.accuracy_score(label_test, y_pred_class)"
   ]
  },
  {
   "cell_type": "code",
   "execution_count": 102,
   "id": "cbb534ed",
   "metadata": {},
   "outputs": [
    {
     "data": {
      "text/plain": [
       "array([[1454,    0],\n",
       "       [  64,  154]], dtype=int64)"
      ]
     },
     "execution_count": 102,
     "metadata": {},
     "output_type": "execute_result"
    }
   ],
   "source": [
    "cf_matrix=metrics.confusion_matrix(label_test, y_pred_class)\n",
    "cf_matrix"
   ]
  },
  {
   "cell_type": "code",
   "execution_count": null,
   "id": "d9e0953f",
   "metadata": {},
   "outputs": [],
   "source": []
  },
  {
   "cell_type": "code",
   "execution_count": 103,
   "id": "db482246",
   "metadata": {},
   "outputs": [],
   "source": [
    "#from scipy.sparse import  hstack\n",
    "#X2 = hstack((data_tfidf ,np.array(df['length'])[:,None])).A"
   ]
  },
  {
   "cell_type": "code",
   "execution_count": 106,
   "id": "818ca651",
   "metadata": {},
   "outputs": [],
   "source": [
    "X2_train, X2_test, y2_train, y2_test = train_test_split(data_tfidf, df[\"label\"], test_size=0.3, random_state=5)"
   ]
  },
  {
   "cell_type": "code",
   "execution_count": null,
   "id": "a6dc24aa",
   "metadata": {},
   "outputs": [],
   "source": []
  },
  {
   "cell_type": "code",
   "execution_count": null,
   "id": "7f10ef87",
   "metadata": {},
   "outputs": [],
   "source": []
  },
  {
   "cell_type": "code",
   "execution_count": null,
   "id": "ab30a6a9",
   "metadata": {},
   "outputs": [],
   "source": []
  },
  {
   "cell_type": "code",
   "execution_count": 107,
   "id": "2f822bc1",
   "metadata": {},
   "outputs": [],
   "source": [
    "from sklearn.naive_bayes import MultinomialNB\n",
    "from sklearn.svm import SVC\n",
    "from sklearn.neighbors import KNeighborsClassifier\n",
    "from sklearn.linear_model import SGDClassifier\n",
    "from sklearn.ensemble import GradientBoostingClassifier\n",
    "from sklearn.metrics import classification_report, confusion_matrix, accuracy_score"
   ]
  },
  {
   "cell_type": "code",
   "execution_count": null,
   "id": "38ab07c9",
   "metadata": {},
   "outputs": [],
   "source": []
  },
  {
   "cell_type": "code",
   "execution_count": 108,
   "id": "0f9362ed",
   "metadata": {},
   "outputs": [
    {
     "name": "stdout",
     "output_type": "stream",
     "text": [
      "96.17224880382776\n"
     ]
    }
   ],
   "source": [
    "spam_detect_model = MultinomialNB().fit(data_tfidf_train, label_train)\n",
    "pred_test_MNB = spam_detect_model.predict(data_tfidf_test)\n",
    "acc_MNB = accuracy_score(label_test, pred_test_MNB)\n",
    "print(acc_MNB*100)"
   ]
  },
  {
   "cell_type": "code",
   "execution_count": null,
   "id": "5f66ec75",
   "metadata": {},
   "outputs": [],
   "source": []
  },
  {
   "cell_type": "code",
   "execution_count": null,
   "id": "45b02719",
   "metadata": {},
   "outputs": [],
   "source": []
  },
  {
   "cell_type": "code",
   "execution_count": null,
   "id": "d2e220c0",
   "metadata": {},
   "outputs": [],
   "source": []
  },
  {
   "cell_type": "code",
   "execution_count": null,
   "id": "cb9dec95",
   "metadata": {},
   "outputs": [],
   "source": []
  }
 ],
 "metadata": {
  "kernelspec": {
   "display_name": "Python 3",
   "language": "python",
   "name": "python3"
  },
  "language_info": {
   "codemirror_mode": {
    "name": "ipython",
    "version": 3
   },
   "file_extension": ".py",
   "mimetype": "text/x-python",
   "name": "python",
   "nbconvert_exporter": "python",
   "pygments_lexer": "ipython3",
   "version": "3.8.8"
  }
 },
 "nbformat": 4,
 "nbformat_minor": 5
}
